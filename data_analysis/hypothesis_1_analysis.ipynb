{
 "cells": [
  {
   "cell_type": "markdown",
   "metadata": {},
   "source": [
    "# TODO\n"
   ]
  },
  {
   "cell_type": "markdown",
   "metadata": {},
   "source": [
    "* Check BF's and effect sizes using weaker/stronger priors (probably won't have any effect here, except maybe for max-d in mouse data with CoMs)\n",
    "* Calculate BF's using ten independent fits (would take 10x time, only do when finalizing the paper submission)\n",
    "\n",
    "Exploratory analyses\n",
    "* Run exploratory analysis of trajectory entropy (Calcagni et al 2017, http://polorovereto.unitn.it/~antonio.calcagni/emot.html)\n",
    "* Run decision landscapes (compare three tertiles of $\\Delta$ (SS left, LL right), compare strong discounters to weak discounters, compare walking vs mouse, 1st task vs 2nd task) "
   ]
  },
  {
   "cell_type": "markdown",
   "metadata": {},
   "source": [
    "# Contents"
   ]
  },
  {
   "cell_type": "markdown",
   "metadata": {},
   "source": [
    "* [Preregistered analysis](#prereg)\n",
    "  * [Mouse-tracking task](#mouse) \n",
    "    * [Max-d](#mouse_max_d)\n",
    "    * [Response time](#mouse_RT)\n",
    "  * [Walking task](#walking) \n",
    "    * [Max-d](#walking_max_d)\n",
    "    * [Response time](#walking_RT)\n",
    "* [Effect of changes-of-mind](#com)\n",
    "  * [Mouse-tracking task](#com_mouse)\n",
    "  * [Walking task](#com_walking)\n",
    "* [Exploratory analysis](#explore)"
   ]
  },
  {
   "cell_type": "code",
   "execution_count": 1,
   "metadata": {
    "scrolled": true
   },
   "outputs": [
    {
     "name": "stderr",
     "output_type": "stream",
     "text": [
      "Loading required package: mvtnorm\n",
      "Loading required package: Matrix\n",
      "Loading required package: stats4\n",
      "Loading required package: gmm\n",
      "Loading required package: sandwich\n",
      "Loading required package: Rcpp\n",
      "Loading 'brms' package (version 2.4.0). Useful instructions\n",
      "can be found by typing help('brms'). A more detailed introduction\n",
      "to the package is available through vignette('brms_overview').\n",
      "Run theme_set(theme_default()) to use the default bayesplot theme.\n",
      "mefa 3.2-7 \t 2016-01-11\n",
      "\n",
      "Attaching package: 'mefa'\n",
      "\n",
      "The following object is masked from 'package:reshape2':\n",
      "\n",
      "    melt\n",
      "\n",
      "NOTE: As of tidybayes version 1.0, several functions, arguments, and output column names\n",
      "      have undergone significant name changes in order to adopt a unified naming scheme.\n",
      "      See help('tidybayes-deprecated') for more information.\n",
      "\n",
      "\n",
      "Attaching package: 'ggstance'\n",
      "\n",
      "The following objects are masked from 'package:ggplot2':\n",
      "\n",
      "    geom_errorbarh, GeomErrorbarh\n",
      "\n",
      "Loading required package: viridisLite\n",
      "\n",
      "Attaching package: 'data.table'\n",
      "\n",
      "The following object is masked from 'package:mefa':\n",
      "\n",
      "    melt\n",
      "\n",
      "The following objects are masked from 'package:reshape2':\n",
      "\n",
      "    dcast, melt\n",
      "\n",
      "This is bayesplot version 1.5.0\n",
      "- Plotting theme set to bayesplot::theme_default()\n",
      "- Online documentation at mc-stan.org/bayesplot\n",
      "Warning message:\n",
      "\"package 'diptest' was built under R version 3.5.2\""
     ]
    }
   ],
   "source": [
    "library(tmvtnorm)\n",
    "library(ggplot2)\n",
    "library(ggExtra)\n",
    "library(brms)\n",
    "library(reshape2)\n",
    "library(coda)\n",
    "library(mefa)\n",
    "library(tidybayes)\n",
    "library(ggstance)\n",
    "library(viridis)\n",
    "library(latex2exp)\n",
    "library(ggthemes)\n",
    "library(data.table)\n",
    "library(bayesplot)\n",
    "library(diptest)\n",
    "\n",
    "# data_path = \"../data/choices_processed.txt\"\n",
    "data_path = \"C:/Users/Arkady/Google Drive/data/beyond_the_reach\"\n",
    "figure_path = \"C:/Users/Arkady/Dropbox/Research/Journal papers/2018 Beyond the reach/figures\"\n",
    "table_path = \"C:/Users/Arkady/Dropbox/Research/Journal papers/2018 Beyond the reach/tables\"\n",
    "\n",
    "figure_format = \"png\""
   ]
  },
  {
   "cell_type": "markdown",
   "metadata": {},
   "source": [
    "Load processed data"
   ]
  },
  {
   "cell_type": "code",
   "execution_count": 2,
   "metadata": {},
   "outputs": [],
   "source": [
    "get_processed_data <- function(data_path){\n",
    "    filename <- file.path(data_path, \"choices_processed.txt\")\n",
    "    data <- read.table(filename, header = TRUE, sep = \",\")\n",
    "    data[, \"subj_id\"] <- as.factor(data[, \"subj_id\"])\n",
    "    data[, \"option_chosen\"] <- as.factor(data[, \"option_chosen\"])\n",
    "    \n",
    "    return(data)\n",
    "}"
   ]
  },
  {
   "cell_type": "code",
   "execution_count": 3,
   "metadata": {},
   "outputs": [],
   "source": [
    "data <- get_processed_data(data_path)\n",
    "mouse_data <- data[data$task==\"mouse\",]\n",
    "walking_data <- data[data$task==\"walking\",]"
   ]
  },
  {
   "cell_type": "markdown",
   "metadata": {},
   "source": [
    "# Checking for max-d unimodality<a class=\"anchor\" id=\"com\"></a>"
   ]
  },
  {
   "cell_type": "markdown",
   "metadata": {},
   "source": [
    "Checking for unimodality of the max-d distributions"
   ]
  },
  {
   "cell_type": "code",
   "execution_count": 53,
   "metadata": {},
   "outputs": [
    {
     "name": "stdout",
     "output_type": "stream",
     "text": [
      "\n",
      "\tHartigans' dip test for unimodality / multimodality with simulated\n",
      "\tp-value (based on 2000 replicates)\n",
      "\n",
      "data:  mouse_data$max_d\n",
      "D = 0.0052932, p-value = 0.965\n",
      "alternative hypothesis: non-unimodal, i.e., at least bimodal\n",
      "\n",
      "\n",
      "\tHartigans' dip test for unimodality / multimodality with simulated\n",
      "\tp-value (based on 2000 replicates)\n",
      "\n",
      "data:  walking_data$max_d\n",
      "D = 0.0061884, p-value = 0.8445\n",
      "alternative hypothesis: non-unimodal, i.e., at least bimodal\n",
      "\n"
     ]
    }
   ],
   "source": [
    "print(dip.test(mouse_data$max_d, simulate.p.value = TRUE))\n",
    "print(dip.test(walking_data$max_d, simulate.p.value = TRUE))"
   ]
  },
  {
   "cell_type": "markdown",
   "metadata": {},
   "source": [
    "Hartigans' dip test doesn't provide evidence in favor of multimodality. Still, the histograms of max-d for the walking task reveal that there are at least two distinct clusters of trajectories. For this reason, we check the robustness of the max-d analysis using a subset of trajectories which exclude changes-of-mind (CoM; see preprocessing notebook for a criterion used to detect CoMs)"
   ]
  },
  {
   "cell_type": "code",
   "execution_count": 54,
   "metadata": {
    "scrolled": false
   },
   "outputs": [
    {
     "data": {
      "image/png": "[encoded data removed]",
      "text/plain": [
       "Plot with title \"Histogram of mouse_data$max_d\""
      ]
     },
     "metadata": {},
     "output_type": "display_data"
    },
    {
     "data": {
      "image/png": "[encoded data removed]",
      "text/plain": [
       "Plot with title \"Histogram of walking_data$max_d\""
      ]
     },
     "metadata": {},
     "output_type": "display_data"
    }
   ],
   "source": [
    "hist(mouse_data$max_d, breaks = 100, freq = TRUE)\n",
    "hist(walking_data$max_d, breaks = 100, freq = TRUE)"
   ]
  },
  {
   "cell_type": "code",
   "execution_count": 55,
   "metadata": {},
   "outputs": [],
   "source": [
    "mouse_data_no_com <- mouse_data[mouse_data$is_com==\"False\",]\n",
    "walking_data_no_com <- walking_data[walking_data$is_com==\"False\",]"
   ]
  },
  {
   "cell_type": "markdown",
   "metadata": {},
   "source": [
    "# Functions for model fitting and BF calculation"
   ]
  },
  {
   "cell_type": "code",
   "execution_count": 5,
   "metadata": {},
   "outputs": [],
   "source": [
    "get_bf_dyn <- function(models, data, formulas, prior){ \n",
    "    \" This function fits three models to the supplied data, and returns these models with pairwise BF's\"\n",
    "    m_inter <- fit_model(models$m_inter, data, formulas$f_inter, prior)\n",
    "    m_choice <- fit_model(models$m_choice, data, formulas$f_choice, prior[1,])\n",
    "    m_null <- fit_model(models$m_null, data, formulas$f_null, prior[1,])\n",
    "    \n",
    "    bf <- t(c(bayes_factor(x1 = m_choice, x2 = m_null)$bf,\n",
    "              bayes_factor(x1 = m_inter, x2 = m_null)$bf,\n",
    "              bayes_factor(x1 = m_inter, x2 = m_choice)$bf))\n",
    "    ci_inter <- HPDinterval(as.mcmc(m_inter, combine_chains = TRUE))\n",
    "    \n",
    "    result = list(bf = bf, models = list(m_null = m_null, m_choice = m_choice, m_inter = m_inter), ci_inter = ci_inter)\n",
    "    \n",
    "    return(result)\n",
    "}\n",
    "\n",
    "fit_model <- function(model, data, formula, prior){\n",
    "    \" This function updates the brms model if it exists (to avoid slow recompilation of the C++ model by Stan), \n",
    "    or creates a model from scratch if it doesn't exist yet \"\n",
    "    if(!is.null(model)){\n",
    "        model <- update(model, newdata = data, recompile = F)        \n",
    "    } else {\n",
    "        model <- brm(formula, data = data, family = gaussian(), save_all_pars = TRUE,\n",
    "                   control = list(adapt_delta = 0.99), prior = prior, refresh = 0)\n",
    "    }\n",
    "    return(model)\n",
    "}\n",
    "\n",
    "run_analysis <- function(dv, iv, data, rscale){\n",
    "    \" This function runs our analysis for a given dataset (fake or real) and given dependent and \n",
    "    independent variables (dv and iv); rscale parameter defines the scale of prior distribution \n",
    "    on regression slopes (see Rouder & Morey (2012))\"\n",
    "    models <- list(m_inter = NULL, m_choice = NULL, m_null = NULL)\n",
    "\n",
    "    \" Priors on centered intercepts are the values of DV when all predictors are at their means (see brms docs).\n",
    "    brms accepts priors on non-standardized b coefficients. We compute them by scaling default priors on standardized \n",
    "    coefficients (Rouder & Morey, 2012) to sd(DV)/sd(IV)\"\n",
    "    prior <- c(set_prior(sprintf('normal(%f, %f)', mean(data[, dv]), sd(data[, dv])), class = \"Intercept\"),\n",
    "               set_prior(sprintf('cauchy(0, %f)', rscale*sd(data[, dv])/sd(data[, iv])), class = \"b\"))\n",
    "\n",
    "    interaction_term = paste(iv, \"option_chosen\", sep=':')\n",
    "    formulas <- list(f_inter = as.formula(paste(dv, \"~ (option_chosen | subj_id) + option_chosen +\", interaction_term)),\n",
    "                     f_choice = as.formula(paste(dv, \"~ (option_chosen | subj_id) + option_chosen\")),\n",
    "                     f_null = as.formula(paste(dv, \"~ (1 | subj_id)\")))\n",
    "\n",
    "    bf_result <- get_bf_dyn(models, data, formulas, prior)\n",
    "    \n",
    "    analysis_id <- paste(dv, iv, deparse(substitute(data)))\n",
    "    \n",
    "    bf_result$analysis_id <- analysis_id    \n",
    "    print_bf(bf_result, analysis_id, iv)\n",
    "    \n",
    "    return(bf_result)\n",
    "}"
   ]
  },
  {
   "cell_type": "markdown",
   "metadata": {},
   "source": [
    "# Functions for visualizing and saving the results"
   ]
  },
  {
   "cell_type": "code",
   "execution_count": 6,
   "metadata": {},
   "outputs": [],
   "source": [
    "print_bf <- function(bf_result, analysis_name, iv=\"Delta\"){\n",
    "    print(analysis_name)\n",
    "    print(sprintf(\"BF of choice model over null model: %g\", bf_result$bf[1]))\n",
    "    print(sprintf(\"BF of choice-by-delta model over null model: %g\", bf_result$bf[2]))\n",
    "    print(sprintf(\"BF of choice-by-delta model over choice-only model: %g\", bf_result$bf[3]))\n",
    "    \n",
    "    print(bf_result$ci[c(paste(\"b_\", iv, \":option_chosenll\", sep=\"\"), \n",
    "                         paste(\"b_\", iv, \":option_chosenss\", sep=\"\")),])\n",
    "\n",
    "}\n",
    "\n",
    "spaghetti_plot <- function(model, data, dv, iv, task, figure_format){\n",
    "    file_name=sprintf(\"spaghetti_%s_%s.%s\", task, dv, figure_format)\n",
    "    plt <- plot(marginal_effects(model, spaghetti=TRUE, nsamples=300), plot=FALSE)[[1]]                                                                            \n",
    "    plt <- plt + \n",
    "        geom_point(aes_string(x=iv, y=dv, shape='option_chosen', colour='option_chosen'), \n",
    "                   size = 3, alpha=0.1, data = data) +\n",
    "        theme_pander(base_size = 24) +\n",
    "        ggtitle(paste(task, gsub(\"_\", \"-\", dv))) +\n",
    "#         labs(fill = \"choice\") +\n",
    "#         guides(fill=guide_legend(title=\"choice\"))\n",
    "        theme(plot.title = element_text(hjust = 0.5, size=24, face=\"plain\")) +\n",
    "        xlab(TeX(\"$\\\\Delta$\")) +\n",
    "        ylab(gsub(\"_\", \"-\", dv)) +\n",
    "        theme(legend.position=\"none\") +\n",
    "        scale_color_viridis(discrete=TRUE, alpha=0.2, begin=0.0, end=0.7)\n",
    "    if ((dv == 'RT') & (task == 'walking')){   \n",
    "        plt <- plt + theme(legend.position = c(0.9, 0.9), \n",
    "                           legend.key.size = unit(24, \"points\"),\n",
    "                           legend.title = element_blank(),\n",
    "                           legend.text = element_text(size=24),\n",
    "                           legend.key = element_rect(colour = \"transparent\", fill = \"white\")) \n",
    "#         guides(color=guide_legend(override.aes=list(fill=NA)), fill=guide_legend(title=\"choice\"))\n",
    "#         plt <- plt + guides(linetype = guide_legend(override.aes = list(size = 10)))\n",
    "    }\n",
    "    ggsave(file.path(figure_path, file_name), dpi=150, width=8, height=4) \n",
    "}\n",
    "\n",
    "joyplot <- function(model, file_name){\n",
    "    m <- as.matrix(as.mcmc(model, combine_chains = FALSE))\n",
    "\n",
    "    # Only keep the choice-by-lambda interaction parameters    \n",
    "    m <- m[,grep(\",option_chosen\", colnames(m))]\n",
    "    \n",
    "    # Reformat column names\n",
    "    colnames(m) <- sub(\"r_subj_id\\\\[\", \"s\", colnames(m))\n",
    "    colnames(m) <- sub(\",option_chosenss]\", \"\", colnames(m))\n",
    "    \n",
    "    # Reorder columns(parameters) by their mean values and plot the result        \n",
    "    plt <- mcmc_areas_ridges(m[,order(colMeans(m))])#, prob=0.95)\n",
    "    \n",
    "    plt <- plt + theme_pander(base_size = 12) +\n",
    "        xlab(\"Offset of regression coefficient for SS choices\") #+\n",
    "#         scale_color_manual(values = c(\"#D55E00\", \"#0072B2\"), guide = \"none\")\n",
    "#     +\n",
    "#        scale_color_viridis(discrete=TRUE, alpha=0.4, begin=0.0, end=0.7)\n",
    "    ggsave(file.path(figure_path, file_name), dpi=150, width=4, height=8)\n",
    "}\n",
    "\n",
    "posterior_plot <- function(model, iv, file_name){\n",
    "    plot <- mcmc_areas_ridges(as.matrix(as.mcmc(model, combine_chains = TRUE)), \n",
    "                              regex_pars = paste(\"b_\", iv, \":option_chosen\", sep=\"\"), prob=0.95)\n",
    "    ggsave(file.path(figure_path, file_name), dpi=150, width=8, height=4)\n",
    "}\n",
    "\n",
    "save_posterior <- function(model, file_name){    \n",
    "    write.csv(as.matrix(as.mcmc(model, combine_chains=TRUE)), \n",
    "              file=file.path(\"posterior_csv\", file_name), row.names=FALSE)\n",
    "}\n",
    "\n",
    "visualize_model <- function(model, data, task, dv, iv, figure_format){\n",
    "    spaghetti_plot(model, data, dv, iv, task, figure_format)\n",
    "    joyplot(model, file_name=sprintf(\"joy_%s_%s.%s\", task, dv, figure_format))\n",
    "    save_posterior(model, file_name = sprintf(\"posterior_%s_%s.%s\", task, dv, \"csv\"))\n",
    "#     posterior_plot(model, iv, file_name=sprintf(\"posterior_%s_%s.%s\", task, dv, figure_format))\n",
    "}"
   ]
  },
  {
   "cell_type": "markdown",
   "metadata": {},
   "source": [
    "# Functions for aggregating the results"
   ]
  },
  {
   "cell_type": "code",
   "execution_count": 7,
   "metadata": {
    "scrolled": true
   },
   "outputs": [],
   "source": [
    "save_all_plots <- function(results, iv){\n",
    "    visualize_model(results$mouse_max_d_bf$models$m_inter, mouse_data, \"mouse\", \"max_d\", \"Delta\", figure_format)\n",
    "    visualize_model(results$mouse_rt_bf$models$m_inter, mouse_data, \"mouse\", \"RT\", iv, figure_format)\n",
    "    visualize_model(results$walking_max_d_bf$models$m_inter, walking_data, \"walking\", \"max_d\", iv, figure_format)\n",
    "    visualize_model(results$walking_rt_bf$models$m_inter, walking_data, \"walking\", \"RT\", iv, figure_format)\n",
    "    visualize_model(results$mouse_max_d_no_com_bf$models$m_inter, mouse_data_no_com, \n",
    "                    \"mouse_no_com\", \"max_d\", iv, figure_format) \n",
    "    visualize_model(results$walking_max_d_no_com_bf$models$m_inter, walking_data_no_com, \n",
    "                    \"walking_no_com\", \"max_d\", iv, figure_format)    \n",
    "    visualize_model(results$walking_rt_no_com_bf$models$m_inter, walking_data_no_com, \n",
    "                    \"walking_no_com\", \"RT\", iv, figure_format)    \n",
    "    visualize_model(results$mouse_rt_no_com_bf$models$m_inter, mouse_data_no_com, \n",
    "                    \"mouse_no_com\", \"RT\", iv, figure_format)\n",
    "}\n",
    "\n",
    "print_all_bfs <- function(results, iv){\n",
    "    print_bf(results$mouse_max_d_bf, \"mouse task max-d analysis\", iv)\n",
    "    print_bf(results$mouse_rt_bf, \"mouse task RT analysis\", iv)\n",
    "    print_bf(results$walking_max_d_bf, \"walking task max-d analysis\", iv)\n",
    "    print_bf(results$walking_rt_bf, \"walking task RT analysis\", iv)    \n",
    "\n",
    "    print_bf(results$mouse_max_d_no_com_bf, \"mouse task max-d no CoM analysis\", iv)\n",
    "    print_bf(results$mouse_rt_no_com_bf, \"mouse task RT no CoM analysis\", iv)\n",
    "    print_bf(results$walking_max_d_no_com_bf, \"walking task max-d no CoM analysis\", iv)\n",
    "    print_bf(results$walking_rt_no_com_bf, \"walking task RT no CoM analysis\", iv)    \n",
    "}\n",
    "\n",
    "run_all_analyses <- function(iv, rscale){\n",
    "    mouse_max_d_bf <- run_analysis(\"max_d\", iv, mouse_data, rscale)\n",
    "    mouse_rt_bf <- run_analysis(\"RT\", iv, mouse_data, rscale)\n",
    "    \n",
    "    walking_max_d_bf <- run_analysis(\"max_d\", iv, walking_data, rscale)\n",
    "    walking_rt_bf <- run_analysis(\"RT\", iv, walking_data, rscale)\n",
    "    \n",
    "    mouse_max_d_no_com_bf <- run_analysis(\"max_d\", iv, mouse_data_no_com, rscale)        \n",
    "    mouse_rt_no_com_bf <- run_analysis(\"RT\", iv, mouse_data_no_com, rscale)    \n",
    "    \n",
    "    walking_max_d_no_com_bf <- run_analysis(\"max_d\", iv, walking_data_no_com, rscale)\n",
    "    walking_rt_no_com_bf <- run_analysis(\"RT\", iv, walking_data_no_com, rscale)\n",
    "        \n",
    "    return(list(mouse_max_d_bf = mouse_max_d_bf, mouse_rt_bf = mouse_rt_bf, \n",
    "                walking_max_d_bf = walking_max_d_bf, walking_rt_bf = walking_rt_bf, \n",
    "                mouse_max_d_no_com_bf = mouse_max_d_no_com_bf, mouse_rt_no_com_bf = mouse_rt_no_com_bf,\n",
    "                walking_max_d_no_com_bf = walking_max_d_no_com_bf, walking_rt_no_com_bf = walking_rt_no_com_bf))\n",
    "}"
   ]
  },
  {
   "cell_type": "markdown",
   "metadata": {},
   "source": [
    "# Run analyses (takes a lot of time!)"
   ]
  },
  {
   "cell_type": "code",
   "execution_count": null,
   "metadata": {},
   "outputs": [],
   "source": [
    "lambda_results <- run_all_analyses(\"Lambda\", rscale=0.707)"
   ]
  },
  {
   "cell_type": "code",
   "execution_count": null,
   "metadata": {},
   "outputs": [],
   "source": [
    "delta_results <- run_all_analyses(\"Delta\", rscale=0.707)"
   ]
  },
  {
   "cell_type": "code",
   "execution_count": null,
   "metadata": {},
   "outputs": [],
   "source": [
    "delta_results_narrow_priors <- run_all_analyses(\"Delta\", rscale=0.5)"
   ]
  },
  {
   "cell_type": "code",
   "execution_count": null,
   "metadata": {},
   "outputs": [
    {
     "name": "stderr",
     "output_type": "stream",
     "text": [
      "Compiling the C++ model\n"
     ]
    }
   ],
   "source": [
    "delta_results_wide_priors <- run_all_analyses(\"Delta\", rscale=1.0)"
   ]
  },
  {
   "cell_type": "markdown",
   "metadata": {},
   "source": [
    "# Print Bayes factors"
   ]
  },
  {
   "cell_type": "code",
   "execution_count": 108,
   "metadata": {
    "scrolled": false
   },
   "outputs": [
    {
     "name": "stdout",
     "output_type": "stream",
     "text": [
      "[1] \"mouse task max-d analysis\"\n",
      "[1] \"BF of choice model over null model: 2.96549e+74\"\n",
      "[1] \"BF of choice-by-delta model over null model: 2.68863e+75\"\n",
      "[1] \"BF of choice-by-delta model over choice-only model: 8.98548\"\n",
      "                              lower     upper\n",
      "b_Lambda:option_chosenll -11.218003 -3.770717\n",
      "b_Lambda:option_chosenss  -1.933067  4.618961\n",
      "[1] \"mouse task RT analysis\"\n",
      "[1] \"BF of choice model over null model: 1.00679e+08\"\n",
      "[1] \"BF of choice-by-delta model over null model: 2.82883e+19\"\n",
      "[1] \"BF of choice-by-delta model over choice-only model: 2.9449e+11\"\n",
      "                               lower       upper\n",
      "b_Lambda:option_chosenll -0.15145158 -0.07744219\n",
      "b_Lambda:option_chosenss  0.06866046  0.13029267\n",
      "[1] \"walking task max-d analysis\"\n",
      "[1] \"BF of choice model over null model: 7.74145e+67\"\n",
      "[1] \"BF of choice-by-delta model over null model: 2.50419e+76\"\n",
      "[1] \"BF of choice-by-delta model over choice-only model: 2.90041e+08\"\n",
      "                                lower        upper\n",
      "b_Lambda:option_chosenll -0.011862150 -0.004983253\n",
      "b_Lambda:option_chosenss  0.005713809  0.012636997\n",
      "[1] \"walking task RT analysis\"\n",
      "[1] \"BF of choice model over null model: 1.97143e+11\"\n",
      "[1] \"BF of choice-by-delta model over null model: 6.25115e+15\"\n",
      "[1] \"BF of choice-by-delta model over choice-only model: 33055.5\"\n",
      "                               lower       upper\n",
      "b_Lambda:option_chosenll -0.05495761 -0.01578187\n",
      "b_Lambda:option_chosenss  0.02478137  0.06329764\n",
      "[1] \"mouse task max-d no CoM analysis\"\n",
      "[1] \"BF of choice model over null model: 8.27011e+58\"\n",
      "[1] \"BF of choice-by-delta model over null model: 3.436e+56\"\n",
      "[1] \"BF of choice-by-delta model over choice-only model: 0.00457824\"\n",
      "                              lower    upper\n",
      "b_Lambda:option_chosenll -2.7812959 1.569374\n",
      "b_Lambda:option_chosenss -0.2947433 3.776936\n",
      "[1] \"mouse task RT no CoM analysis\"\n",
      "[1] \"BF of choice model over null model: 606.854\"\n",
      "[1] \"BF of choice-by-delta model over null model: 1.73758e+12\"\n",
      "[1] \"BF of choice-by-delta model over choice-only model: 3.18033e+09\"\n",
      "                               lower       upper\n",
      "b_Lambda:option_chosenll -0.11464654 -0.03892007\n",
      "b_Lambda:option_chosenss  0.07176679  0.13052833\n",
      "[1] \"walking task max-d no CoM analysis\"\n",
      "[1] \"BF of choice model over null model: 3.49104e+58\"\n",
      "[1] \"BF of choice-by-delta model over null model: 4.45956e+66\"\n",
      "[1] \"BF of choice-by-delta model over choice-only model: 1.30845e+08\"\n",
      "                                lower        upper\n",
      "b_Lambda:option_chosenll -0.008916060 -0.002892721\n",
      "b_Lambda:option_chosenss  0.005845964  0.011892956\n",
      "[1] \"walking task RT no CoM analysis\"\n",
      "[1] \"BF of choice model over null model: 4.44644e+06\"\n",
      "[1] \"BF of choice-by-delta model over null model: 1.05401e+10\"\n",
      "[1] \"BF of choice-by-delta model over choice-only model: 2302.14\"\n",
      "                               lower        upper\n",
      "b_Lambda:option_chosenll -0.04669391 -0.007009778\n",
      "b_Lambda:option_chosenss  0.02502154  0.062041625\n"
     ]
    }
   ],
   "source": [
    "print_all_bfs(lambda_results, 'Lambda')"
   ]
  },
  {
   "cell_type": "code",
   "execution_count": 109,
   "metadata": {
    "scrolled": true
   },
   "outputs": [
    {
     "name": "stdout",
     "output_type": "stream",
     "text": [
      "[1] \"mouse task max-d analysis\"\n",
      "[1] \"BF of choice model over null model: 3.59026e+74\"\n",
      "[1] \"BF of choice-by-delta model over null model: 6.58773e+83\"\n",
      "[1] \"BF of choice-by-delta model over choice-only model: 1.8783e+09\"\n",
      "                            lower     upper\n",
      "b_Delta:option_chosenll -100.1092 -42.33949\n",
      "b_Delta:option_chosenss   35.1366  68.99659\n",
      "[1] \"mouse task RT analysis\"\n",
      "[1] \"BF of choice model over null model: 1.05444e+08\"\n",
      "[1] \"BF of choice-by-delta model over null model: 1.26663e+47\"\n",
      "[1] \"BF of choice-by-delta model over choice-only model: 1.21729e+39\"\n",
      "                             lower      upper\n",
      "b_Delta:option_chosenll -1.4247551 -0.9233783\n",
      "b_Delta:option_chosenss  0.7192841  0.9983055\n",
      "[1] \"walking task max-d analysis\"\n",
      "[1] \"BF of choice model over null model: 9.14502e+67\"\n",
      "[1] \"BF of choice-by-delta model over null model: 9.65165e+82\"\n",
      "[1] \"BF of choice-by-delta model over choice-only model: 9.07761e+14\"\n",
      "                              lower       upper\n",
      "b_Delta:option_chosenll -0.13121142 -0.07410030\n",
      "b_Delta:option_chosenss  0.04010518  0.07630295\n",
      "[1] \"walking task RT analysis\"\n",
      "[1] \"BF of choice model over null model: 1.741e+11\"\n",
      "[1] \"BF of choice-by-delta model over null model: 3.12779e+35\"\n",
      "[1] \"BF of choice-by-delta model over choice-only model: 1.52411e+24\"\n",
      "                             lower      upper\n",
      "b_Delta:option_chosenll -0.8245629 -0.5101397\n",
      "b_Delta:option_chosenss  0.3290564  0.5169095\n",
      "[1] \"mouse task max-d no CoM analysis\"\n",
      "[1] \"BF of choice model over null model: 9.6178e+58\"\n",
      "[1] \"BF of choice-by-delta model over null model: 7.80813e+59\"\n",
      "[1] \"BF of choice-by-delta model over choice-only model: 7.42682\"\n",
      "                             lower    upper\n",
      "b_Delta:option_chosenll -40.825042 -4.65535\n",
      "b_Delta:option_chosenss   7.560289 28.16490\n",
      "[1] \"mouse task RT no CoM analysis\"\n",
      "[1] \"BF of choice model over null model: 595.558\"\n",
      "[1] \"BF of choice-by-delta model over null model: 2.47818e+34\"\n",
      "[1] \"BF of choice-by-delta model over choice-only model: 4.35966e+31\"\n",
      "                             lower      upper\n",
      "b_Delta:option_chosenll -1.2925569 -0.8061381\n",
      "b_Delta:option_chosenss  0.6044692  0.8720008\n",
      "[1] \"walking task max-d no CoM analysis\"\n",
      "[1] \"BF of choice model over null model: 3.55383e+58\"\n",
      "[1] \"BF of choice-by-delta model over null model: 6.10943e+72\"\n",
      "[1] \"BF of choice-by-delta model over choice-only model: 1.57147e+14\"\n",
      "                              lower       upper\n",
      "b_Delta:option_chosenll -0.11112703 -0.05924834\n",
      "b_Delta:option_chosenss  0.03402427  0.06627290\n",
      "[1] \"walking task RT no CoM analysis\"\n",
      "[1] \"BF of choice model over null model: 4.87853e+06\"\n",
      "[1] \"BF of choice-by-delta model over null model: 5.29488e+29\"\n",
      "[1] \"BF of choice-by-delta model over choice-only model: 1.0175e+23\"\n",
      "                             lower      upper\n",
      "b_Delta:option_chosenll -0.7924926 -0.4820655\n",
      "b_Delta:option_chosenss  0.3217975  0.5050622\n"
     ]
    }
   ],
   "source": [
    "print_all_bfs(delta_results, 'Delta')"
   ]
  },
  {
   "cell_type": "markdown",
   "metadata": {},
   "source": [
    "# Save plots"
   ]
  },
  {
   "cell_type": "code",
   "execution_count": 80,
   "metadata": {},
   "outputs": [
    {
     "name": "stderr",
     "output_type": "stream",
     "text": [
      "Scale for 'colour' is already present. Adding another scale for 'colour',\n",
      "which will replace the existing scale.\n",
      "Scale for 'colour' is already present. Adding another scale for 'colour',\n",
      "which will replace the existing scale.\n",
      "Scale for 'colour' is already present. Adding another scale for 'colour',\n",
      "which will replace the existing scale.\n",
      "Scale for 'colour' is already present. Adding another scale for 'colour',\n",
      "which will replace the existing scale.\n",
      "Scale for 'colour' is already present. Adding another scale for 'colour',\n",
      "which will replace the existing scale.\n",
      "Scale for 'colour' is already present. Adding another scale for 'colour',\n",
      "which will replace the existing scale.\n",
      "Scale for 'colour' is already present. Adding another scale for 'colour',\n",
      "which will replace the existing scale.\n",
      "Scale for 'colour' is already present. Adding another scale for 'colour',\n",
      "which will replace the existing scale.\n"
     ]
    }
   ],
   "source": [
    "save_all_plots(delta_results)"
   ]
  },
  {
   "cell_type": "markdown",
   "metadata": {},
   "source": [
    "# Generate tables with Bayes factors"
   ]
  },
  {
   "cell_type": "code",
   "execution_count": 29,
   "metadata": {},
   "outputs": [],
   "source": [
    "save_bf_table <- function(results, caption, label, file_name){\n",
    "    hyp_1_format_string <- \"\\\\begin{table}[]\n",
    "                            \\\\caption{%s}\n",
    "                            \\\\label{%s}\n",
    "                            \\\\begin{tabular}{@{}llll@{}}\n",
    "                            \\\\toprule\n",
    "                             &  & max-d & RT \\\\\\\\ \\\\midrule\n",
    "                            \\\\multirow{2}{*}{walking} & All data & \\\\num{%g} & \\\\num{%g} \\\\\\\\\n",
    "                             & CoM excluded &  \\\\num{%g} & \\\\num{%g} \\\\\\\\\n",
    "                            \\\\multirow{2}{*}{mouse-tracking} & All data & \\\\num{%g} & \\\\num{%g} \\\\\\\\\n",
    "                             & CoM excluded & \\\\num{%g} & \\\\num{%g} \\\\\\\\ \\\\cmidrule(l){1-4} \n",
    "                            \\\\end{tabular}\n",
    "                            \\\\end{table}\"\n",
    "    \n",
    "    output <- sprintf(hyp_1_format_string, caption, label, \n",
    "                      results$walking_max_d_bf$bf[3], results$walking_rt_bf$bf[3],\n",
    "                      results$walking_max_d_no_com_bf$bf[3], results$walking_rt_no_com_bf$bf[3],\n",
    "                      results$mouse_max_d_bf$bf[3], results$mouse_rt_bf$bf[3],\n",
    "                      results$mouse_max_d_no_com_bf$bf[3], results$mouse_rt_no_com_bf$bf[3])\n",
    "\n",
    "    fileConn<-file(file.path(table_path, file_name))\n",
    "    writeLines(output, fileConn)\n",
    "    close(fileConn)    \n",
    "}"
   ]
  },
  {
   "cell_type": "code",
   "execution_count": 7,
   "metadata": {},
   "outputs": [],
   "source": [
    "caption = \"Results of testing Hypothesis 1 using $\\\\Delta$ instead of $\\\\lambda$ to measure relative values of the options:\n",
    "        Bayes factors in favor of $\\\\textrm{M}_{\\\\textrm{choice} \\\\, \\\\times \\\\,\n",
    "        \\\\Delta}$ over $\\\\textrm{M}_{\\\\textrm{choice}}$\"\n",
    "label = \"tab:hyp_1_bf_delta\"\n",
    "file_name = \"hyp_1_bf_delta.tex\"\n",
    "\n",
    "save_bf_table(delta_results, caption, label, file_name)"
   ]
  },
  {
   "cell_type": "code",
   "execution_count": 8,
   "metadata": {},
   "outputs": [],
   "source": [
    "caption = \"Results of testing Hypothesis 1: Bayes factors in favor of $\\\\textrm{M}_{\\\\textrm{choice} \\\\, \\\\times \\\\,\n",
    "        \\\\lambda}$ over $\\\\textrm{M}_{\\\\textrm{choice}}$\"\n",
    "label = \"tab:hyp_1_bf_lambda\"\n",
    "file_name = \"hyp_1_bf_lambda.tex\"\n",
    "\n",
    "save_bf_table(lambda_results, caption, label, file_name)"
   ]
  },
  {
   "cell_type": "markdown",
   "metadata": {},
   "source": [
    "# Save coefficients "
   ]
  },
  {
   "cell_type": "code",
   "execution_count": 4,
   "metadata": {},
   "outputs": [],
   "source": [
    "m <- as.mcmc(delta_results$mouse_max_d_bf$models$m_inter, combine_chains = FALSE)\n",
    "coeffs<-colMeans(as.matrix(m))\n",
    "write.csv(coeffs, file = \"max_d_coeffs_walking.csv\")\n",
    "\n",
    "m <- as.mcmc(delta_results$mouse_rt_bf$models$m_inter, combine_chains = FALSE)\n",
    "coeffs<-colMeans(as.matrix(m))\n",
    "write.csv(coeffs, file = \"RT_coeffs_mouse.csv\")"
   ]
  },
  {
   "cell_type": "markdown",
   "metadata": {},
   "source": [
    "# Save all results to RData file"
   ]
  },
  {
   "cell_type": "code",
   "execution_count": 110,
   "metadata": {},
   "outputs": [],
   "source": [
    "save.image()"
   ]
  }
 ],
 "metadata": {
  "kernelspec": {
   "display_name": "R",
   "language": "R",
   "name": "ir"
  },
  "language_info": {
   "codemirror_mode": "r",
   "file_extension": ".r",
   "mimetype": "text/x-r-source",
   "name": "R",
   "pygments_lexer": "r",
   "version": "3.5.1"
  }
 },
 "nbformat": 4,
 "nbformat_minor": 2
}
