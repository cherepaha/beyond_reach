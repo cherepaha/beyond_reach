{
 "cells": [
  {
   "cell_type": "code",
   "execution_count": 1,
   "metadata": {},
   "outputs": [
    {
     "name": "stderr",
     "output_type": "stream",
     "text": [
      "Loading required package: mvtnorm\n",
      "Loading required package: Matrix\n",
      "Loading required package: stats4\n",
      "Loading required package: gmm\n",
      "Loading required package: sandwich\n",
      "Loading required package: Rcpp\n",
      "Loading 'brms' package (version 2.4.0). Useful instructions\n",
      "can be found by typing help('brms'). A more detailed introduction\n",
      "to the package is available through vignette('brms_overview').\n",
      "Run theme_set(theme_default()) to use the default bayesplot theme.\n",
      "mefa 3.2-7 \t 2016-01-11\n",
      "\n",
      "Attaching package: 'mefa'\n",
      "\n",
      "The following object is masked from 'package:reshape2':\n",
      "\n",
      "    melt\n",
      "\n",
      "NOTE: As of tidybayes version 1.0, several functions, arguments, and output column names\n",
      "      have undergone significant name changes in order to adopt a unified naming scheme.\n",
      "      See help('tidybayes-deprecated') for more information.\n",
      "\n",
      "\n",
      "Attaching package: 'ggstance'\n",
      "\n",
      "The following objects are masked from 'package:ggplot2':\n",
      "\n",
      "    geom_errorbarh, GeomErrorbarh\n",
      "\n",
      "Loading required package: viridisLite\n",
      "\n",
      "Attaching package: 'data.table'\n",
      "\n",
      "The following object is masked from 'package:mefa':\n",
      "\n",
      "    melt\n",
      "\n",
      "The following objects are masked from 'package:reshape2':\n",
      "\n",
      "    dcast, melt\n",
      "\n"
     ]
    }
   ],
   "source": [
    "library(tmvtnorm)\n",
    "library(ggplot2)\n",
    "library(ggExtra)\n",
    "library(brms)\n",
    "library(reshape2)\n",
    "library(coda)\n",
    "library(mefa)\n",
    "library(tidybayes)\n",
    "library(ggstance)\n",
    "library(viridis)\n",
    "library(latex2exp)\n",
    "library(ggthemes)\n",
    "library(data.table)"
   ]
  },
  {
   "cell_type": "code",
   "execution_count": 2,
   "metadata": {},
   "outputs": [],
   "source": [
    "get_processed_data <- function(){\n",
    "    filename <- \"C:/Users/Arkady/Google Drive/data/beyond_the_reach/choices_processed.txt\"\n",
    "    data <- read.table(filename, header = TRUE, sep = \",\")\n",
    "    data[, 'subj_id'] <- factor(data[, 'subj_id'])\n",
    "    data[, 'choice'] <- factor(data[, 'choice'])\n",
    "    \n",
    "    return(data)\n",
    "}"
   ]
  },
  {
   "cell_type": "code",
   "execution_count": 3,
   "metadata": {},
   "outputs": [],
   "source": [
    "data <- get_processed_data()"
   ]
  }
 ],
 "metadata": {
  "kernelspec": {
   "display_name": "R",
   "language": "R",
   "name": "ir"
  },
  "language_info": {
   "codemirror_mode": "r",
   "file_extension": ".r",
   "mimetype": "text/x-r-source",
   "name": "R",
   "pygments_lexer": "r",
   "version": "3.5.1"
  }
 },
 "nbformat": 4,
 "nbformat_minor": 2
}
