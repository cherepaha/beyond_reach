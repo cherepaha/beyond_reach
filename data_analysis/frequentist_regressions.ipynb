{
 "cells": [
  {
   "cell_type": "markdown",
   "metadata": {},
   "source": [
    "Just to check whether the results of Bayesian regressions are consistent with their frequentist counterparts. In all cases (max-d/RT, mouse/walking), the models involving choice-by-$\\Delta$ interaction are most supported by the data. "
   ]
  },
  {
   "cell_type": "code",
   "execution_count": 1,
   "metadata": {},
   "outputs": [
    {
     "name": "stderr",
     "output_type": "stream",
     "text": [
      "Warning message:\n",
      "\"package 'coin' was built under R version 3.5.2\"Loading required package: survival\n",
      "Loading required package: Matrix\n",
      "Warning message:\n",
      "\"package 'lmerTest' was built under R version 3.5.2\"\n",
      "Attaching package: 'lmerTest'\n",
      "\n",
      "The following object is masked from 'package:lme4':\n",
      "\n",
      "    lmer\n",
      "\n",
      "The following object is masked from 'package:stats':\n",
      "\n",
      "    step\n",
      "\n",
      "Loading required package: carData\n"
     ]
    }
   ],
   "source": [
    "library(coin)\n",
    "library(lme4)\n",
    "library(lmerTest)\n",
    "library(plyr)\n",
    "library(xtable)\n",
    "library(LMERConvenienceFunctions)\n",
    "library(car)"
   ]
  },
  {
   "cell_type": "code",
   "execution_count": 2,
   "metadata": {},
   "outputs": [],
   "source": [
    "get_processed_data <- function(data_path){\n",
    "    filename <- file.path(data_path, \"choices_processed.txt\")\n",
    "    data <- read.table(filename, header = TRUE, sep = \",\")\n",
    "    data[, \"subj_id\"] <- as.factor(data[, \"subj_id\"])\n",
    "    data[, \"option_chosen\"] <- as.factor(data[, \"option_chosen\"])\n",
    "    \n",
    "    return(data)\n",
    "}\n",
    "\n",
    "data <- get_processed_data(data_path)\n",
    "\n",
    "mouse_data <- data[data$task==\"mouse\",]\n",
    "walking_data <- data[data$task==\"walking\",]"
   ]
  },
  {
   "cell_type": "markdown",
   "metadata": {},
   "source": [
    "# Mouse-tracking task: max-d"
   ]
  },
  {
   "cell_type": "code",
   "execution_count": 3,
   "metadata": {},
   "outputs": [],
   "source": [
    "max_d_mouse_analysis <- function(stats.df){\n",
    "    choice.mer = lmer(max_d ~ (option_chosen | subj_id) + option_chosen + option_chosen:Delta, stats.df)\n",
    "    print(summary(choice.mer))\n",
    "\n",
    "    choice.output = summary(choice.mer)$coefficients\n",
    "\n",
    "    file_name = file.path(table_path, \"max_d_vs_Delta_mouse.tex\")\n",
    "    print(xtable(choice.output, digits = c(2,2,2,2,2,-2), \n",
    "                 label = \"tab:freq_max_d_vs_lambda_mouse\",\n",
    "                 caption = \"Mouse-tracking task: maximum deviation as a function of $\\\\Delta$ and choice\"), \n",
    "          math.style.exponents = TRUE, type = \"latex\", file = file_name, booktabs = TRUE)\n",
    "}"
   ]
  },
  {
   "cell_type": "code",
   "execution_count": 4,
   "metadata": {},
   "outputs": [
    {
     "name": "stdout",
     "output_type": "stream",
     "text": [
      "Linear mixed model fit by REML. t-tests use Satterthwaite's method [\n",
      "lmerModLmerTest]\n",
      "Formula: \n",
      "max_d ~ (option_chosen | subj_id) + option_chosen + option_chosen:Delta\n",
      "   Data: stats.df\n",
      "\n",
      "REML criterion at convergence: 30349.9\n",
      "\n",
      "Scaled residuals: \n",
      "    Min      1Q  Median      3Q     Max \n",
      "-4.7985 -0.4734 -0.0983  0.2939  6.5622 \n",
      "\n",
      "Random effects:\n",
      " Groups   Name            Variance Std.Dev. Corr \n",
      " subj_id  (Intercept)      9143     95.62        \n",
      "          option_chosenss 10610    103.00   -0.58\n",
      " Residual                 10305    101.51        \n",
      "Number of obs: 2490, groups:  subj_id, 54\n",
      "\n",
      "Fixed effects:\n",
      "                      Estimate Std. Error       df t value Pr(>|t|)    \n",
      "(Intercept)            228.123     13.730   54.589  16.615  < 2e-16 ***\n",
      "option_chosenss        -19.267     15.275   57.718  -1.261    0.212    \n",
      "option_chosenll:Delta  -75.204     15.332 2417.764  -4.905 9.97e-07 ***\n",
      "option_chosenss:Delta   49.764      8.929 2405.511   5.573 2.78e-08 ***\n",
      "---\n",
      "Signif. codes:  0 '***' 0.001 '**' 0.01 '*' 0.05 '.' 0.1 ' ' 1\n",
      "\n",
      "Correlation of Fixed Effects:\n",
      "             (Intr) optn_c optn_chsnl:D\n",
      "optn_chsnss  -0.598                    \n",
      "optn_chsnl:D -0.151  0.136             \n",
      "optn_chsns:D  0.001  0.206  0.002      \n"
     ]
    }
   ],
   "source": [
    "max_d_mouse_analysis(mouse_data)"
   ]
  },
  {
   "cell_type": "code",
   "execution_count": 5,
   "metadata": {
    "scrolled": false
   },
   "outputs": [
    {
     "name": "stdout",
     "output_type": "stream",
     "text": [
      "Linear mixed model fit by REML. t-tests use Satterthwaite's method [\n",
      "lmerModLmerTest]\n",
      "Formula: \n",
      "max_d ~ (option_chosen | subj_id) + option_chosen + option_chosen:Delta\n",
      "   Data: stats.df\n",
      "\n",
      "REML criterion at convergence: 25270\n",
      "\n",
      "Scaled residuals: \n",
      "    Min      1Q  Median      3Q     Max \n",
      "-4.9373 -0.5094 -0.0426  0.4512  7.8063 \n",
      "\n",
      "Random effects:\n",
      " Groups   Name            Variance Std.Dev. Corr \n",
      " subj_id  (Intercept)     4747     68.90         \n",
      "          option_chosenss 4083     63.89    -0.60\n",
      " Residual                 3651     60.43         \n",
      "Number of obs: 2263, groups:  subj_id, 54\n",
      "\n",
      "Fixed effects:\n",
      "                      Estimate Std. Error       df t value Pr(>|t|)    \n",
      "(Intercept)            175.585      9.882   54.850  17.769  < 2e-16 ***\n",
      "option_chosenss         -6.244      9.630   54.462  -0.648  0.51950    \n",
      "option_chosenll:Delta  -24.504      9.512 2187.317  -2.576  0.01006 *  \n",
      "option_chosenss:Delta   17.771      5.477 2177.424   3.245  0.00119 ** \n",
      "---\n",
      "Signif. codes:  0 '***' 0.001 '**' 0.01 '*' 0.05 '.' 0.1 ' ' 1\n",
      "\n",
      "Correlation of Fixed Effects:\n",
      "             (Intr) optn_c optn_chsnl:D\n",
      "optn_chsnss  -0.615                    \n",
      "optn_chsnl:D -0.141  0.144             \n",
      "optn_chsns:D  0.002  0.207  0.002      \n"
     ]
    }
   ],
   "source": [
    "max_d_mouse_analysis(mouse_data_no_com)"
   ]
  },
  {
   "cell_type": "markdown",
   "metadata": {},
   "source": [
    "The frequentist analysis is consistent with the findings of Bayesian regressions. In the mouse task, the effect of $\\Delta$ on max-d is significant for the LL option, but the evidence of effect diminishes if we exclude changes-of-mind"
   ]
  },
  {
   "cell_type": "markdown",
   "metadata": {},
   "source": [
    "# Mouse-tracking task: response time"
   ]
  },
  {
   "cell_type": "code",
   "execution_count": 6,
   "metadata": {},
   "outputs": [],
   "source": [
    "rt_mouse_analysis <- function(stats.df){\n",
    "    choice.mer = lmer(RT ~ (option_chosen | subj_id) + option_chosen + option_chosen:Delta, stats.df)\n",
    "    print(summary(choice.mer))\n",
    "\n",
    "    choice.output = summary(choice.mer)$coefficients\n",
    "\n",
    "    file_name = file.path(table_path, \"RT_vs_Delta_mouse.tex\")\n",
    "    print(xtable(choice.output, digits = c(2,2,2,2,2,-2), \n",
    "                 label = \"tab:freq_RT_vs_Delta_mouse\",\n",
    "                 caption = \"Mouse-tracking task: response time as a function of $\\\\Delta$ and choice\"), \n",
    "          math.style.exponents = TRUE, type = \"latex\", file = file_name, booktabs = TRUE)\n",
    "}"
   ]
  },
  {
   "cell_type": "code",
   "execution_count": 7,
   "metadata": {},
   "outputs": [
    {
     "name": "stdout",
     "output_type": "stream",
     "text": [
      "Linear mixed model fit by REML. t-tests use Satterthwaite's method [\n",
      "lmerModLmerTest]\n",
      "Formula: RT ~ (option_chosen | subj_id) + option_chosen + option_chosen:Delta\n",
      "   Data: stats.df\n",
      "\n",
      "REML criterion at convergence: 6776.9\n",
      "\n",
      "Scaled residuals: \n",
      "    Min      1Q  Median      3Q     Max \n",
      "-2.5525 -0.5795 -0.1354  0.3920  4.9302 \n",
      "\n",
      "Random effects:\n",
      " Groups   Name            Variance Std.Dev. Corr \n",
      " subj_id  (Intercept)     0.71978  0.8484        \n",
      "          option_chosenss 0.08119  0.2849   -0.80\n",
      " Residual                 0.81714  0.9040        \n",
      "Number of obs: 2490, groups:  subj_id, 54\n",
      "\n",
      "Fixed effects:\n",
      "                        Estimate Std. Error         df t value Pr(>|t|)    \n",
      "(Intercept)              3.14266    0.12119   55.36944  25.932   <2e-16 ***\n",
      "option_chosenss         -0.16411    0.06526   89.94638  -2.515   0.0137 *  \n",
      "option_chosenll:Delta   -1.28396    0.13427 2386.84495  -9.562   <2e-16 ***\n",
      "option_chosenss:Delta    0.77894    0.07818 2408.89710   9.964   <2e-16 ***\n",
      "---\n",
      "Signif. codes:  0 '***' 0.001 '**' 0.01 '*' 0.05 '.' 0.1 ' ' 1\n",
      "\n",
      "Correlation of Fixed Effects:\n",
      "             (Intr) optn_c optn_chsnl:D\n",
      "optn_chsnss  -0.624                    \n",
      "optn_chsnl:D -0.156  0.292             \n",
      "optn_chsns:D  0.007  0.422  0.018      \n"
     ]
    }
   ],
   "source": [
    "rt_mouse_analysis(mouse_data)"
   ]
  },
  {
   "cell_type": "code",
   "execution_count": 8,
   "metadata": {},
   "outputs": [
    {
     "name": "stdout",
     "output_type": "stream",
     "text": [
      "Linear mixed model fit by REML. t-tests use Satterthwaite's method [\n",
      "lmerModLmerTest]\n",
      "Formula: RT ~ (option_chosen | subj_id) + option_chosen + option_chosen:Delta\n",
      "   Data: stats.df\n",
      "\n",
      "REML criterion at convergence: 5859.6\n",
      "\n",
      "Scaled residuals: \n",
      "    Min      1Q  Median      3Q     Max \n",
      "-2.5476 -0.5833 -0.1387  0.3779  5.1628 \n",
      "\n",
      "Random effects:\n",
      " Groups   Name            Variance Std.Dev. Corr \n",
      " subj_id  (Intercept)     0.58040  0.7618        \n",
      "          option_chosenss 0.06043  0.2458   -0.59\n",
      " Residual                 0.71006  0.8427        \n",
      "Number of obs: 2263, groups:  subj_id, 54\n",
      "\n",
      "Fixed effects:\n",
      "                        Estimate Std. Error         df t value Pr(>|t|)    \n",
      "(Intercept)              2.99726    0.11046   56.78075  27.134   <2e-16 ***\n",
      "option_chosenss         -0.10815    0.06300   92.91984  -1.717   0.0893 .  \n",
      "option_chosenll:Delta   -1.13413    0.13017 2158.10129  -8.713   <2e-16 ***\n",
      "option_chosenss:Delta    0.67932    0.07541 2205.67785   9.008   <2e-16 ***\n",
      "---\n",
      "Signif. codes:  0 '***' 0.001 '**' 0.01 '*' 0.05 '.' 0.1 ' ' 1\n",
      "\n",
      "Correlation of Fixed Effects:\n",
      "             (Intr) optn_c optn_chsnl:D\n",
      "optn_chsnss  -0.503                    \n",
      "optn_chsnl:D -0.181  0.315             \n",
      "optn_chsns:D  0.008  0.434  0.015      \n"
     ]
    }
   ],
   "source": [
    "rt_mouse_analysis(mouse_data_no_com)"
   ]
  },
  {
   "cell_type": "markdown",
   "metadata": {},
   "source": [
    "# Walking task: max-d"
   ]
  },
  {
   "cell_type": "code",
   "execution_count": 9,
   "metadata": {},
   "outputs": [],
   "source": [
    "max_d_walking_analysis <- function(stats.df){\n",
    "    choice.mer = lmer(max_d ~ (option_chosen | subj_id) + option_chosen + option_chosen:Delta, stats.df)\n",
    "    print(summary(choice.mer))\n",
    "\n",
    "    choice.output = summary(choice.mer)$coefficients\n",
    "\n",
    "    file_name = file.path(table_path, \"max_d_vs_Delta_walking.tex\")\n",
    "    print(xtable(choice.output, digits = c(2,2,2,2,2,-2), \n",
    "                 label = \"tab:freq_max_d_vs_Delta_mouse\",\n",
    "                 caption = \"Walking task: maximum deviation as a function of $\\\\Delta$ and choice\"), \n",
    "          math.style.exponents = TRUE, type = \"latex\", file = file_name, booktabs = TRUE)\n",
    "}"
   ]
  },
  {
   "cell_type": "code",
   "execution_count": 10,
   "metadata": {},
   "outputs": [
    {
     "name": "stdout",
     "output_type": "stream",
     "text": [
      "Linear mixed model fit by REML. t-tests use Satterthwaite's method [\n",
      "lmerModLmerTest]\n",
      "Formula: \n",
      "max_d ~ (option_chosen | subj_id) + option_chosen + option_chosen:Delta\n",
      "   Data: stats.df\n",
      "\n",
      "REML criterion at convergence: -4054.6\n",
      "\n",
      "Scaled residuals: \n",
      "    Min      1Q  Median      3Q     Max \n",
      "-3.4195 -0.5828 -0.0613  0.4588 10.0837 \n",
      "\n",
      "Random effects:\n",
      " Groups   Name            Variance Std.Dev. Corr \n",
      " subj_id  (Intercept)     0.007085 0.08417       \n",
      "          option_chosenss 0.009742 0.09870  -0.46\n",
      " Residual                 0.009789 0.09894       \n",
      "Number of obs: 2451, groups:  subj_id, 54\n",
      "\n",
      "Fixed effects:\n",
      "                        Estimate Std. Error         df t value Pr(>|t|)    \n",
      "(Intercept)            4.842e-01  1.211e-02  5.251e+01  39.991  < 2e-16 ***\n",
      "option_chosenss        1.569e-03  1.462e-02  5.894e+01   0.107    0.915    \n",
      "option_chosenll:Delta -1.033e-01  1.507e-02  2.393e+03  -6.855 9.06e-12 ***\n",
      "option_chosenss:Delta  5.811e-02  9.588e-03  2.369e+03   6.060 1.58e-09 ***\n",
      "---\n",
      "Signif. codes:  0 '***' 0.001 '**' 0.01 '*' 0.05 '.' 0.1 ' ' 1\n",
      "\n",
      "Correlation of Fixed Effects:\n",
      "             (Intr) optn_c optn_chsnl:D\n",
      "optn_chsnss  -0.483                    \n",
      "optn_chsnl:D -0.156  0.130             \n",
      "optn_chsns:D  0.001  0.217  0.002      \n"
     ]
    }
   ],
   "source": [
    "max_d_walking_analysis(walking_data)"
   ]
  },
  {
   "cell_type": "code",
   "execution_count": 11,
   "metadata": {},
   "outputs": [
    {
     "name": "stdout",
     "output_type": "stream",
     "text": [
      "Linear mixed model fit by REML. t-tests use Satterthwaite's method [\n",
      "lmerModLmerTest]\n",
      "Formula: \n",
      "max_d ~ (option_chosen | subj_id) + option_chosen + option_chosen:Delta\n",
      "   Data: stats.df\n",
      "\n",
      "REML criterion at convergence: -4697.2\n",
      "\n",
      "Scaled residuals: \n",
      "    Min      1Q  Median      3Q     Max \n",
      "-3.9542 -0.6283 -0.0486  0.5333  4.7156 \n",
      "\n",
      "Random effects:\n",
      " Groups   Name            Variance Std.Dev. Corr \n",
      " subj_id  (Intercept)     0.006445 0.08028       \n",
      "          option_chosenss 0.007060 0.08402  -0.44\n",
      " Residual                 0.007342 0.08568       \n",
      "Number of obs: 2425, groups:  subj_id, 54\n",
      "\n",
      "Fixed effects:\n",
      "                        Estimate Std. Error         df t value Pr(>|t|)    \n",
      "(Intercept)            4.758e-01  1.146e-02  5.191e+01  41.524  < 2e-16 ***\n",
      "option_chosenss        1.648e-03  1.250e-02  5.786e+01   0.132    0.896    \n",
      "option_chosenll:Delta -8.446e-02  1.315e-02  2.366e+03  -6.422 1.62e-10 ***\n",
      "option_chosenss:Delta  5.186e-02  8.324e-03  2.342e+03   6.230 5.52e-10 ***\n",
      "---\n",
      "Signif. codes:  0 '***' 0.001 '**' 0.01 '*' 0.05 '.' 0.1 ' ' 1\n",
      "\n",
      "Correlation of Fixed Effects:\n",
      "             (Intr) optn_c optn_chsnl:D\n",
      "optn_chsnss  -0.465                    \n",
      "optn_chsnl:D -0.147  0.135             \n",
      "optn_chsns:D  0.001  0.221  0.002      \n"
     ]
    }
   ],
   "source": [
    "max_d_walking_analysis(walking_data_no_com)"
   ]
  },
  {
   "cell_type": "markdown",
   "metadata": {},
   "source": [
    "# Walking data: response time"
   ]
  },
  {
   "cell_type": "code",
   "execution_count": 12,
   "metadata": {},
   "outputs": [],
   "source": [
    "rt_walking_analysis <- function(stats.df){\n",
    "    choice.mer = lmer(RT ~ (option_chosen | subj_id) + option_chosen + option_chosen:Delta, stats.df)\n",
    "    print(summary(choice.mer))\n",
    "\n",
    "    choice.output = summary(choice.mer)$coefficients\n",
    "\n",
    "    file_name = file.path(table_path, \"RT_vs_Delta_walking.tex\")\n",
    "    print(xtable(choice.output, digits = c(2,2,2,2,2,-2), \n",
    "                 label = \"tab:freq_RT_vs_Delta_walking\",\n",
    "                 caption = \"Walking task: response time as a function of $\\\\Delta$ and choice\"), \n",
    "          math.style.exponents = TRUE, type = \"latex\", file = file_name, booktabs = TRUE)\n",
    "}"
   ]
  },
  {
   "cell_type": "code",
   "execution_count": 13,
   "metadata": {},
   "outputs": [
    {
     "name": "stdout",
     "output_type": "stream",
     "text": [
      "Linear mixed model fit by REML. t-tests use Satterthwaite's method [\n",
      "lmerModLmerTest]\n",
      "Formula: RT ~ (option_chosen | subj_id) + option_chosen + option_chosen:Delta\n",
      "   Data: stats.df\n",
      "\n",
      "REML criterion at convergence: 4355.8\n",
      "\n",
      "Scaled residuals: \n",
      "    Min      1Q  Median      3Q     Max \n",
      "-2.7371 -0.6142 -0.1411  0.4279  6.5490 \n",
      "\n",
      "Random effects:\n",
      " Groups   Name            Variance Std.Dev. Corr \n",
      " subj_id  (Intercept)     0.6063   0.7787        \n",
      "          option_chosenss 0.0651   0.2551   -0.39\n",
      " Residual                 0.3056   0.5528        \n",
      "Number of obs: 2451, groups:  subj_id, 54\n",
      "\n",
      "Fixed effects:\n",
      "                        Estimate Std. Error         df t value Pr(>|t|)    \n",
      "(Intercept)            5.028e+00  1.082e-01  5.342e+01  46.487  < 2e-16 ***\n",
      "option_chosenss       -8.196e-03  4.722e-02  7.371e+01  -0.174    0.863    \n",
      "option_chosenll:Delta -6.714e-01  8.322e-02  2.337e+03  -8.068 1.13e-15 ***\n",
      "option_chosenss:Delta  4.191e-01  5.312e-02  2.393e+03   7.889 4.59e-15 ***\n",
      "---\n",
      "Signif. codes:  0 '***' 0.001 '**' 0.01 '*' 0.05 '.' 0.1 ' ' 1\n",
      "\n",
      "Correlation of Fixed Effects:\n",
      "             (Intr) optn_c optn_chsnl:D\n",
      "optn_chsnss  -0.375                    \n",
      "optn_chsnl:D -0.099  0.228             \n",
      "optn_chsns:D  0.003  0.372  0.011      \n"
     ]
    }
   ],
   "source": [
    "rt_walking_analysis(walking_data)"
   ]
  },
  {
   "cell_type": "code",
   "execution_count": 14,
   "metadata": {},
   "outputs": [
    {
     "name": "stdout",
     "output_type": "stream",
     "text": [
      "Linear mixed model fit by REML. t-tests use Satterthwaite's method [\n",
      "lmerModLmerTest]\n",
      "Formula: RT ~ (option_chosen | subj_id) + option_chosen + option_chosen:Delta\n",
      "   Data: stats.df\n",
      "\n",
      "REML criterion at convergence: 4227\n",
      "\n",
      "Scaled residuals: \n",
      "    Min      1Q  Median      3Q     Max \n",
      "-2.7755 -0.6083 -0.1428  0.4359  6.6380 \n",
      "\n",
      "Random effects:\n",
      " Groups   Name            Variance Std.Dev. Corr \n",
      " subj_id  (Intercept)     0.60716  0.7792        \n",
      "          option_chosenss 0.04953  0.2225   -0.40\n",
      " Residual                 0.29588  0.5439        \n",
      "Number of obs: 2425, groups:  subj_id, 54\n",
      "\n",
      "Fixed effects:\n",
      "                        Estimate Std. Error         df t value Pr(>|t|)    \n",
      "(Intercept)            5.010e+00  1.082e-01  5.350e+01  46.301  < 2e-16 ***\n",
      "option_chosenss       -7.388e-03  4.392e-02  7.410e+01  -0.168    0.867    \n",
      "option_chosenll:Delta -6.406e-01  8.218e-02  2.282e+03  -7.795 9.69e-15 ***\n",
      "option_chosenss:Delta  4.068e-01  5.230e-02  2.365e+03   7.778 1.09e-14 ***\n",
      "---\n",
      "Signif. codes:  0 '***' 0.001 '**' 0.01 '*' 0.05 '.' 0.1 ' ' 1\n",
      "\n",
      "Correlation of Fixed Effects:\n",
      "             (Intr) optn_c optn_chsnl:D\n",
      "optn_chsnss  -0.370                    \n",
      "optn_chsnl:D -0.100  0.249             \n",
      "optn_chsns:D  0.003  0.395  0.012      \n"
     ]
    }
   ],
   "source": [
    "rt_walking_analysis(walking_data_no_com)"
   ]
  }
 ],
 "metadata": {
  "kernelspec": {
   "display_name": "R",
   "language": "R",
   "name": "ir"
  },
  "language_info": {
   "codemirror_mode": "r",
   "file_extension": ".r",
   "mimetype": "text/x-r-source",
   "name": "R",
   "pygments_lexer": "r",
   "version": "3.5.1"
  }
 },
 "nbformat": 4,
 "nbformat_minor": 2
}
