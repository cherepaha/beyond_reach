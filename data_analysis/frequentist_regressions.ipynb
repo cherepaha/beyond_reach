{
 "cells": [
  {
   "cell_type": "code",
   "execution_count": 11,
   "metadata": {},
   "outputs": [],
   "source": [
    "library(coin)\n",
    "library(lme4)\n",
    "library(lmerTest)\n",
    "library(plyr)\n",
    "library(xtable)\n",
    "library(LMERConvenienceFunctions)\n",
    "library(car)"
   ]
  },
  {
   "cell_type": "markdown",
   "metadata": {},
   "source": [
    "# Hypothesis 1"
   ]
  },
  {
   "cell_type": "markdown",
   "metadata": {},
   "source": [
    "Just to check whether the results of Bayesian regressions are consistent with their frequentist counterparts. In all cases (max-d/RT, mouse/walking), the models involving choice-by-$\\Delta$ (or $\\lambda$) interaction are most supported by the data. "
   ]
  },
  {
   "cell_type": "code",
   "execution_count": 12,
   "metadata": {},
   "outputs": [],
   "source": [
    "data_path = \"C:/Users/Arkady/Google Drive/data/beyond_the_reach\"\n",
    "table_path = \"C:/Users/Arkady/Dropbox/Research/Journal papers/2018 Beyond the reach/tables\""
   ]
  },
  {
   "cell_type": "code",
   "execution_count": 13,
   "metadata": {},
   "outputs": [],
   "source": [
    "get_processed_data <- function(data_path){\n",
    "    filename <- file.path(data_path, \"choices_processed.txt\")\n",
    "    data <- read.table(filename, header = TRUE, sep = \",\")    \n",
    "    return(data)\n",
    "}\n",
    "\n",
    "data <- get_processed_data(data_path)\n",
    "\n",
    "mouse_data <- data[data$task==\"mouse\",]\n",
    "walking_data <- data[data$task==\"walking\",]"
   ]
  },
  {
   "cell_type": "code",
   "execution_count": 14,
   "metadata": {},
   "outputs": [],
   "source": [
    "fit_lmer <- function(dv, iv, task, data, caption){    \n",
    "    interaction_term = paste(iv, \"choice\", sep=':')\n",
    "    formula = as.formula(paste(dv, \"~ (choice | subj_id) + choice +\", interaction_term))\n",
    "    \n",
    "    fitted_model = lmer(formula, data)\n",
    "    print(summary(fitted_model))\n",
    "\n",
    "    output = summary(fitted_model)$coefficients\n",
    "\n",
    "    id = paste(\"hyp1\", \"freq\", dv, \"vs\", iv, task, sep=\"_\")\n",
    "    file_name = file.path(table_path, paste(id, \"tex\", sep=\".\"))\n",
    "    print(xtable(output, display = c(\"g\",\"g\",\"g\",\"g\",\"g\",\"g\"), # digits = c(2,3,2,2,2,-2), \n",
    "                 label = paste(\"tab\", id, sep=\":\"), caption = caption), \n",
    "          caption.placement = \"top\", table.placement=\"!h\", math.style.exponents = TRUE, floating.environment = \"table*\", \n",
    "          type = \"latex\", file = file_name, booktabs = TRUE)\n",
    "}"
   ]
  },
  {
   "cell_type": "markdown",
   "metadata": {},
   "source": [
    "## Preregistered analyses ($\\lambda$)"
   ]
  },
  {
   "cell_type": "code",
   "execution_count": 15,
   "metadata": {},
   "outputs": [
    {
     "name": "stdout",
     "output_type": "stream",
     "text": [
      "Linear mixed model fit by REML. t-tests use Satterthwaite's method [\n",
      "lmerModLmerTest]\n",
      "Formula: formula\n",
      "   Data: data\n",
      "\n",
      "REML criterion at convergence: -4030.2\n",
      "\n",
      "Scaled residuals: \n",
      "    Min      1Q  Median      3Q     Max \n",
      "-3.6350 -0.5906 -0.0771  0.4565 10.0653 \n",
      "\n",
      "Random effects:\n",
      " Groups   Name        Variance Std.Dev. Corr \n",
      " subj_id  (Intercept) 0.007883 0.08879       \n",
      "          choiceSS    0.012226 0.11057  -0.52\n",
      " Residual             0.009810 0.09904       \n",
      "Number of obs: 2451, groups:  subj_id, 54\n",
      "\n",
      "Fixed effects:\n",
      "                  Estimate Std. Error         df t value Pr(>|t|)    \n",
      "(Intercept)      5.157e-01  1.464e-02  9.115e+01  35.231  < 2e-16 ***\n",
      "choiceSS        -6.510e-02  1.762e-02  8.198e+01  -3.695 0.000396 ***\n",
      "choiceLL:lambda -1.088e-02  1.840e-03  2.374e+03  -5.915 3.80e-09 ***\n",
      "choiceSS:lambda  9.859e-03  1.750e-03  2.354e+03   5.634 1.97e-08 ***\n",
      "---\n",
      "Signif. codes:  0 '***' 0.001 '**' 0.01 '*' 0.05 '.' 0.1 ' ' 1\n",
      "\n",
      "Correlation of Fixed Effects:\n",
      "            (Intr) chocSS chcLL:\n",
      "choiceSS    -0.632              \n",
      "chocLL:lmbd -0.513  0.426       \n",
      "chocSS:lmbd -0.001 -0.160  0.001\n"
     ]
    }
   ],
   "source": [
    "fit_lmer(\"max_d\", \"lambda\", \"walking\", walking_data, \n",
    "         \"Walking task: maximum deviation as a function of $\\\\lambda$ and choice\")"
   ]
  },
  {
   "cell_type": "code",
   "execution_count": 16,
   "metadata": {},
   "outputs": [
    {
     "name": "stdout",
     "output_type": "stream",
     "text": [
      "Linear mixed model fit by REML. t-tests use Satterthwaite's method [\n",
      "lmerModLmerTest]\n",
      "Formula: formula\n",
      "   Data: data\n",
      "\n",
      "REML criterion at convergence: 4422.6\n",
      "\n",
      "Scaled residuals: \n",
      "    Min      1Q  Median      3Q     Max \n",
      "-2.5791 -0.6301 -0.1520  0.4375  6.4257 \n",
      "\n",
      "Random effects:\n",
      " Groups   Name        Variance Std.Dev. Corr \n",
      " subj_id  (Intercept) 0.6354   0.7971        \n",
      "          choiceSS    0.1228   0.3504   -0.45\n",
      " Residual             0.3102   0.5570        \n",
      "Number of obs: 2451, groups:  subj_id, 54\n",
      "\n",
      "Fixed effects:\n",
      "                  Estimate Std. Error         df t value Pr(>|t|)    \n",
      "(Intercept)      5.199e+00  1.179e-01  6.836e+01  44.091  < 2e-16 ***\n",
      "choiceSS        -4.050e-01  7.010e-02  1.356e+02  -5.778 4.95e-08 ***\n",
      "choiceLL:lambda -6.262e-02  1.032e-02  2.386e+03  -6.068 1.50e-09 ***\n",
      "choiceSS:lambda  5.402e-02  9.814e-03  2.373e+03   5.505 4.10e-08 ***\n",
      "---\n",
      "Signif. codes:  0 '***' 0.001 '**' 0.01 '*' 0.05 '.' 0.1 ' ' 1\n",
      "\n",
      "Correlation of Fixed Effects:\n",
      "            (Intr) chocSS chcLL:\n",
      "choiceSS    -0.539              \n",
      "chocLL:lmbd -0.356  0.601       \n",
      "chocSS:lmbd -0.004 -0.221  0.005\n"
     ]
    }
   ],
   "source": [
    "fit_lmer(\"RT\", \"lambda\", \"walking\", walking_data, \n",
    "         \"Walking task: response time as a function of $\\\\lambda$ and choice\")"
   ]
  },
  {
   "cell_type": "code",
   "execution_count": 17,
   "metadata": {},
   "outputs": [
    {
     "name": "stdout",
     "output_type": "stream",
     "text": [
      "Linear mixed model fit by REML. t-tests use Satterthwaite's method [\n",
      "lmerModLmerTest]\n",
      "Formula: formula\n",
      "   Data: data\n",
      "\n",
      "REML criterion at convergence: 30380\n",
      "\n",
      "Scaled residuals: \n",
      "    Min      1Q  Median      3Q     Max \n",
      "-4.7578 -0.4744 -0.0945  0.2796  6.2160 \n",
      "\n",
      "Random effects:\n",
      " Groups   Name        Variance Std.Dev. Corr \n",
      " subj_id  (Intercept)  9350     96.69        \n",
      "          choiceSS    12074    109.88   -0.60\n",
      " Residual             10377    101.87        \n",
      "Number of obs: 2490, groups:  subj_id, 54\n",
      "\n",
      "Fixed effects:\n",
      "                Estimate Std. Error       df t value Pr(>|t|)    \n",
      "(Intercept)      261.959     15.850   91.279  16.528  < 2e-16 ***\n",
      "choiceSS         -74.355     17.815   83.453  -4.174 7.31e-05 ***\n",
      "choiceLL:lambda  -10.744      1.948 2412.495  -5.516 3.84e-08 ***\n",
      "choiceSS:lambda    2.244      1.730 2403.847   1.298    0.195    \n",
      "---\n",
      "Signif. codes:  0 '***' 0.001 '**' 0.01 '*' 0.05 '.' 0.1 ' ' 1\n",
      "\n",
      "Correlation of Fixed Effects:\n",
      "            (Intr) chocSS chcLL:\n",
      "choiceSS    -0.693              \n",
      "chocLL:lmbd -0.501  0.446       \n",
      "chocSS:lmbd -0.002 -0.157  0.001\n"
     ]
    }
   ],
   "source": [
    "fit_lmer(\"max_d\", \"lambda\", \"mouse\", mouse_data, \n",
    "         \"Mouse-tracking task: maximum deviation as a function of $\\\\lambda$ and choice\")"
   ]
  },
  {
   "cell_type": "code",
   "execution_count": 18,
   "metadata": {},
   "outputs": [
    {
     "name": "stdout",
     "output_type": "stream",
     "text": [
      "Linear mixed model fit by REML. t-tests use Satterthwaite's method [\n",
      "lmerModLmerTest]\n",
      "Formula: formula\n",
      "   Data: data\n",
      "\n",
      "REML criterion at convergence: 6838.7\n",
      "\n",
      "Scaled residuals: \n",
      "    Min      1Q  Median      3Q     Max \n",
      "-2.4798 -0.5655 -0.1427  0.3473  4.7882 \n",
      "\n",
      "Random effects:\n",
      " Groups   Name        Variance Std.Dev. Corr \n",
      " subj_id  (Intercept) 0.7877   0.8875        \n",
      "          choiceSS    0.2345   0.4842   -0.65\n",
      " Residual             0.8210   0.9061        \n",
      "Number of obs: 2490, groups:  subj_id, 54\n",
      "\n",
      "Fixed effects:\n",
      "                  Estimate Std. Error         df t value Pr(>|t|)    \n",
      "(Intercept)        3.63090    0.14342   89.67325  25.316  < 2e-16 ***\n",
      "choiceSS          -1.10862    0.10760  162.20354 -10.303  < 2e-16 ***\n",
      "choiceLL:lambda   -0.16184    0.01724 2430.88966  -9.389  < 2e-16 ***\n",
      "choiceSS:lambda    0.10935    0.01528 2432.58894   7.158 1.08e-12 ***\n",
      "---\n",
      "Signif. codes:  0 '***' 0.001 '**' 0.01 '*' 0.05 '.' 0.1 ' ' 1\n",
      "\n",
      "Correlation of Fixed Effects:\n",
      "            (Intr) chocSS chcLL:\n",
      "choiceSS    -0.725              \n",
      "chocLL:lmbd -0.487  0.651       \n",
      "chocSS:lmbd -0.009 -0.223  0.007\n"
     ]
    }
   ],
   "source": [
    "fit_lmer(\"RT\", \"lambda\", \"mouse\", mouse_data, \n",
    "         \"Mouse-tracking task: response time as a function of $\\\\lambda$ and choice\")"
   ]
  },
  {
   "cell_type": "markdown",
   "metadata": {},
   "source": [
    "## Exploratory analyses ($\\Delta$)"
   ]
  },
  {
   "cell_type": "code",
   "execution_count": 19,
   "metadata": {},
   "outputs": [
    {
     "name": "stdout",
     "output_type": "stream",
     "text": [
      "Linear mixed model fit by REML. t-tests use Satterthwaite's method [\n",
      "lmerModLmerTest]\n",
      "Formula: formula\n",
      "   Data: data\n",
      "\n",
      "REML criterion at convergence: -4054.6\n",
      "\n",
      "Scaled residuals: \n",
      "    Min      1Q  Median      3Q     Max \n",
      "-3.4195 -0.5828 -0.0613  0.4588 10.0837 \n",
      "\n",
      "Random effects:\n",
      " Groups   Name        Variance Std.Dev. Corr \n",
      " subj_id  (Intercept) 0.007085 0.08417       \n",
      "          choiceSS    0.009742 0.09870  -0.46\n",
      " Residual             0.009789 0.09894       \n",
      "Number of obs: 2451, groups:  subj_id, 54\n",
      "\n",
      "Fixed effects:\n",
      "                 Estimate Std. Error         df t value Pr(>|t|)    \n",
      "(Intercept)     4.842e-01  1.211e-02  5.251e+01  39.991  < 2e-16 ***\n",
      "choiceSS        1.569e-03  1.462e-02  5.894e+01   0.107    0.915    \n",
      "choiceLL:Delta -1.033e-01  1.507e-02  2.393e+03  -6.855 9.06e-12 ***\n",
      "choiceSS:Delta  5.811e-02  9.588e-03  2.369e+03   6.060 1.58e-09 ***\n",
      "---\n",
      "Signif. codes:  0 '***' 0.001 '**' 0.01 '*' 0.05 '.' 0.1 ' ' 1\n",
      "\n",
      "Correlation of Fixed Effects:\n",
      "            (Intr) chocSS chLL:D\n",
      "choiceSS    -0.483              \n",
      "choicLL:Dlt -0.156  0.130       \n",
      "choicSS:Dlt  0.001  0.217  0.002\n"
     ]
    }
   ],
   "source": [
    "fit_lmer(\"max_d\", \"Delta\", \"walking\", walking_data, \n",
    "         \"Walking task: maximum deviation as a function of $\\\\Delta$ and choice\")"
   ]
  },
  {
   "cell_type": "code",
   "execution_count": 20,
   "metadata": {},
   "outputs": [
    {
     "name": "stdout",
     "output_type": "stream",
     "text": [
      "Linear mixed model fit by REML. t-tests use Satterthwaite's method [\n",
      "lmerModLmerTest]\n",
      "Formula: formula\n",
      "   Data: data\n",
      "\n",
      "REML criterion at convergence: 4355.8\n",
      "\n",
      "Scaled residuals: \n",
      "    Min      1Q  Median      3Q     Max \n",
      "-2.7371 -0.6142 -0.1411  0.4279  6.5490 \n",
      "\n",
      "Random effects:\n",
      " Groups   Name        Variance Std.Dev. Corr \n",
      " subj_id  (Intercept) 0.6063   0.7787        \n",
      "          choiceSS    0.0651   0.2551   -0.39\n",
      " Residual             0.3056   0.5528        \n",
      "Number of obs: 2451, groups:  subj_id, 54\n",
      "\n",
      "Fixed effects:\n",
      "                 Estimate Std. Error         df t value Pr(>|t|)    \n",
      "(Intercept)     5.028e+00  1.082e-01  5.342e+01  46.487  < 2e-16 ***\n",
      "choiceSS       -8.196e-03  4.722e-02  7.371e+01  -0.174    0.863    \n",
      "choiceLL:Delta -6.714e-01  8.322e-02  2.337e+03  -8.068 1.13e-15 ***\n",
      "choiceSS:Delta  4.191e-01  5.312e-02  2.393e+03   7.889 4.59e-15 ***\n",
      "---\n",
      "Signif. codes:  0 '***' 0.001 '**' 0.01 '*' 0.05 '.' 0.1 ' ' 1\n",
      "\n",
      "Correlation of Fixed Effects:\n",
      "            (Intr) chocSS chLL:D\n",
      "choiceSS    -0.375              \n",
      "choicLL:Dlt -0.099  0.228       \n",
      "choicSS:Dlt  0.003  0.372  0.011\n"
     ]
    }
   ],
   "source": [
    "fit_lmer(\"RT\", \"Delta\", \"walking\", walking_data, \n",
    "         \"Walking task: response time as a function of $\\\\Delta$ and choice\")"
   ]
  },
  {
   "cell_type": "code",
   "execution_count": 21,
   "metadata": {},
   "outputs": [
    {
     "name": "stdout",
     "output_type": "stream",
     "text": [
      "Linear mixed model fit by REML. t-tests use Satterthwaite's method [\n",
      "lmerModLmerTest]\n",
      "Formula: formula\n",
      "   Data: data\n",
      "\n",
      "REML criterion at convergence: 30349.9\n",
      "\n",
      "Scaled residuals: \n",
      "    Min      1Q  Median      3Q     Max \n",
      "-4.7985 -0.4734 -0.0983  0.2939  6.5622 \n",
      "\n",
      "Random effects:\n",
      " Groups   Name        Variance Std.Dev. Corr \n",
      " subj_id  (Intercept)  9143     95.62        \n",
      "          choiceSS    10610    103.00   -0.58\n",
      " Residual             10305    101.51        \n",
      "Number of obs: 2490, groups:  subj_id, 54\n",
      "\n",
      "Fixed effects:\n",
      "               Estimate Std. Error       df t value Pr(>|t|)    \n",
      "(Intercept)     228.123     13.730   54.589  16.615  < 2e-16 ***\n",
      "choiceSS        -19.267     15.275   57.718  -1.261    0.212    \n",
      "choiceLL:Delta  -75.204     15.332 2417.764  -4.905 9.97e-07 ***\n",
      "choiceSS:Delta   49.764      8.929 2405.511   5.573 2.78e-08 ***\n",
      "---\n",
      "Signif. codes:  0 '***' 0.001 '**' 0.01 '*' 0.05 '.' 0.1 ' ' 1\n",
      "\n",
      "Correlation of Fixed Effects:\n",
      "            (Intr) chocSS chLL:D\n",
      "choiceSS    -0.598              \n",
      "choicLL:Dlt -0.151  0.136       \n",
      "choicSS:Dlt  0.001  0.206  0.002\n"
     ]
    }
   ],
   "source": [
    "fit_lmer(\"max_d\", \"Delta\", \"mouse\", mouse_data, \n",
    "         \"Mouse-tracking task: maximum deviation as a function of $\\\\Delta$ and choice\")"
   ]
  },
  {
   "cell_type": "code",
   "execution_count": 22,
   "metadata": {
    "scrolled": false
   },
   "outputs": [
    {
     "name": "stdout",
     "output_type": "stream",
     "text": [
      "Linear mixed model fit by REML. t-tests use Satterthwaite's method [\n",
      "lmerModLmerTest]\n",
      "Formula: formula\n",
      "   Data: data\n",
      "\n",
      "REML criterion at convergence: 6776.9\n",
      "\n",
      "Scaled residuals: \n",
      "    Min      1Q  Median      3Q     Max \n",
      "-2.5525 -0.5795 -0.1354  0.3920  4.9302 \n",
      "\n",
      "Random effects:\n",
      " Groups   Name        Variance Std.Dev. Corr \n",
      " subj_id  (Intercept) 0.71978  0.8484        \n",
      "          choiceSS    0.08119  0.2849   -0.80\n",
      " Residual             0.81714  0.9040        \n",
      "Number of obs: 2490, groups:  subj_id, 54\n",
      "\n",
      "Fixed effects:\n",
      "                 Estimate Std. Error         df t value Pr(>|t|)    \n",
      "(Intercept)       3.14266    0.12119   55.36944  25.932   <2e-16 ***\n",
      "choiceSS         -0.16411    0.06526   89.94638  -2.515   0.0137 *  \n",
      "choiceLL:Delta   -1.28396    0.13427 2386.84495  -9.562   <2e-16 ***\n",
      "choiceSS:Delta    0.77894    0.07818 2408.89710   9.964   <2e-16 ***\n",
      "---\n",
      "Signif. codes:  0 '***' 0.001 '**' 0.01 '*' 0.05 '.' 0.1 ' ' 1\n",
      "\n",
      "Correlation of Fixed Effects:\n",
      "            (Intr) chocSS chLL:D\n",
      "choiceSS    -0.624              \n",
      "choicLL:Dlt -0.156  0.292       \n",
      "choicSS:Dlt  0.007  0.422  0.018\n"
     ]
    }
   ],
   "source": [
    "fit_lmer(\"RT\", \"Delta\", \"mouse\", mouse_data, \n",
    "         \"Mouse-tracking task: response time as a function of $\\\\Delta$ and choice\")"
   ]
  },
  {
   "cell_type": "markdown",
   "metadata": {},
   "source": [
    "# Hypothesis 2"
   ]
  },
  {
   "cell_type": "code",
   "execution_count": 23,
   "metadata": {},
   "outputs": [],
   "source": [
    "get_k_data <- function(data_path, file_name){\n",
    "    data <- read.table(file.path(data_path, file_name), header = TRUE, sep = \"\\t\")\n",
    "    data$AUC <- 1 - data$k\n",
    "    return(data)\n",
    "}"
   ]
  },
  {
   "cell_type": "markdown",
   "metadata": {},
   "source": [
    "## Preregistered analysis ($k$)"
   ]
  },
  {
   "cell_type": "code",
   "execution_count": 24,
   "metadata": {},
   "outputs": [
    {
     "name": "stdout",
     "output_type": "stream",
     "text": [
      "[1] 108\n"
     ]
    }
   ],
   "source": [
    "prereg_k_data <- get_k_data(data_path, \"k_values_54.csv\")\n",
    "print(nrow(prereg_k_data))"
   ]
  },
  {
   "cell_type": "code",
   "execution_count": 25,
   "metadata": {},
   "outputs": [],
   "source": [
    "fit_lmer_k <- function(data, label, caption){      \n",
    "    fitted_model = lmer(k ~ (1 | subj_id) + task * session, data)\n",
    "    print(summary(fitted_model))\n",
    "\n",
    "    output = summary(fitted_model)$coefficients\n",
    "\n",
    "    file_name = file.path(table_path, paste(label, \"tex\", sep=\".\"))\n",
    "    print(xtable(output, display = c(\"g\",\"g\",\"g\",\"g\",\"g\",\"g\"), # digits = c(2,3,2,2,2,-2), \n",
    "                 label = paste(\"tab\", label, sep=\":\"), caption = caption), \n",
    "          caption.placement = \"top\", table.placement=\"!h\", math.style.exponents = TRUE, floating.environment = \"table*\", \n",
    "          type = \"latex\", file = file_name, booktabs = TRUE)\n",
    "}"
   ]
  },
  {
   "cell_type": "code",
   "execution_count": 26,
   "metadata": {
    "scrolled": false
   },
   "outputs": [
    {
     "name": "stdout",
     "output_type": "stream",
     "text": [
      "Linear mixed model fit by REML. t-tests use Satterthwaite's method [\n",
      "lmerModLmerTest]\n",
      "Formula: k ~ (1 | subj_id) + task * session\n",
      "   Data: data\n",
      "\n",
      "REML criterion at convergence: -75.9\n",
      "\n",
      "Scaled residuals: \n",
      "    Min      1Q  Median      3Q     Max \n",
      "-2.7314 -0.3184  0.1527  0.4226  2.0700 \n",
      "\n",
      "Random effects:\n",
      " Groups   Name        Variance Std.Dev.\n",
      " subj_id  (Intercept) 0.027129 0.16471 \n",
      " Residual             0.009666 0.09832 \n",
      "Number of obs: 108, groups:  subj_id, 54\n",
      "\n",
      "Fixed effects:\n",
      "                          Estimate Std. Error       df t value Pr(>|t|)    \n",
      "(Intercept)                0.81270    0.03625 67.37423  22.419   <2e-16 ***\n",
      "taskwalking               -0.03126    0.05224 67.37423  -0.598    0.552    \n",
      "sessionsecond             -0.05230    0.05224 67.37423  -1.001    0.320    \n",
      "taskwalking:sessionsecond  0.03733    0.09738 52.00000   0.383    0.703    \n",
      "---\n",
      "Signif. codes:  0 '***' 0.001 '**' 0.01 '*' 0.05 '.' 0.1 ' ' 1\n",
      "\n",
      "Correlation of Fixed Effects:\n",
      "            (Intr) tskwlk sssnsc\n",
      "taskwalking -0.694              \n",
      "sessionscnd -0.694  0.864       \n",
      "tskwlkng:ss  0.647 -0.932 -0.932\n"
     ]
    }
   ],
   "source": [
    "fit_lmer_k(prereg_k_data, \"hyp2_freq_prereg_k\", \"Preregistered $k$-value as a function of task and session\")"
   ]
  },
  {
   "cell_type": "markdown",
   "metadata": {},
   "source": [
    "## Exploratory analysis ($k_{\\log}$)"
   ]
  },
  {
   "cell_type": "code",
   "execution_count": 27,
   "metadata": {},
   "outputs": [
    {
     "name": "stdout",
     "output_type": "stream",
     "text": [
      "[1] 108\n"
     ]
    }
   ],
   "source": [
    "k_log_delay_data <- get_data(data_path, \"k_values_54_log.csv\")\n",
    "print(nrow(k_log_delay_data))"
   ]
  },
  {
   "cell_type": "code",
   "execution_count": 28,
   "metadata": {},
   "outputs": [
    {
     "name": "stdout",
     "output_type": "stream",
     "text": [
      "Linear mixed model fit by REML. t-tests use Satterthwaite's method [\n",
      "lmerModLmerTest]\n",
      "Formula: k ~ (1 | subj_id) + task * session\n",
      "   Data: data\n",
      "\n",
      "REML criterion at convergence: -123.1\n",
      "\n",
      "Scaled residuals: \n",
      "     Min       1Q   Median       3Q      Max \n",
      "-1.80095 -0.46893  0.01364  0.39099  1.81455 \n",
      "\n",
      "Random effects:\n",
      " Groups   Name        Variance Std.Dev.\n",
      " subj_id  (Intercept) 0.021085 0.14521 \n",
      " Residual             0.005254 0.07249 \n",
      "Number of obs: 108, groups:  subj_id, 54\n",
      "\n",
      "Fixed effects:\n",
      "                          Estimate Std. Error       df t value Pr(>|t|)    \n",
      "(Intercept)                0.54126    0.03067 63.38270  17.647   <2e-16 ***\n",
      "taskwalking               -0.03956    0.04420 63.38270  -0.895   0.3741    \n",
      "sessionsecond             -0.09377    0.04420 63.38270  -2.121   0.0378 *  \n",
      "taskwalking:sessionsecond  0.05628    0.08388 52.00000   0.671   0.5052    \n",
      "---\n",
      "Signif. codes:  0 '***' 0.001 '**' 0.01 '*' 0.05 '.' 0.1 ' ' 1\n",
      "\n",
      "Correlation of Fixed Effects:\n",
      "            (Intr) tskwlk sssnsc\n",
      "taskwalking -0.694              \n",
      "sessionscnd -0.694  0.897       \n",
      "tskwlkng:ss  0.658 -0.949 -0.949\n"
     ]
    }
   ],
   "source": [
    "fit_lmer_k(k_log_delay_data, \"hyp2_freq_k_log_delay\", \"$k_{\\\\log}$-value as a function of task and session\")"
   ]
  }
 ],
 "metadata": {
  "kernelspec": {
   "display_name": "R",
   "language": "R",
   "name": "ir"
  },
  "language_info": {
   "codemirror_mode": "r",
   "file_extension": ".r",
   "mimetype": "text/x-r-source",
   "name": "R",
   "pygments_lexer": "r",
   "version": "3.5.1"
  }
 },
 "nbformat": 4,
 "nbformat_minor": 2
}
