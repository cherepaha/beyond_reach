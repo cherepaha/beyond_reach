{
 "cells": [
  {
   "cell_type": "markdown",
   "metadata": {},
   "source": [
    "Just to check whether the results of Bayesian regressions are consistent with their frequentist counterparts. In all cases (max-d/RT, mouse/walking), the models involving choice-by-$\\Delta$ interaction are most supported by the data. "
   ]
  },
  {
   "cell_type": "code",
   "execution_count": 1,
   "metadata": {},
   "outputs": [
    {
     "name": "stderr",
     "output_type": "stream",
     "text": [
      "Warning message:\n",
      "\"package 'coin' was built under R version 3.5.2\"Loading required package: survival\n",
      "Warning message:\n",
      "\"package 'lme4' was built under R version 3.5.2\"Loading required package: Matrix\n",
      "Warning message:\n",
      "\"package 'lmerTest' was built under R version 3.5.2\"\n",
      "Attaching package: 'lmerTest'\n",
      "\n",
      "The following object is masked from 'package:lme4':\n",
      "\n",
      "    lmer\n",
      "\n",
      "The following object is masked from 'package:stats':\n",
      "\n",
      "    step\n",
      "\n",
      "Warning message:\n",
      "\"package 'plyr' was built under R version 3.5.2\"Warning message:\n",
      "\"package 'LMERConvenienceFunctions' was built under R version 3.5.2\"Warning message:\n",
      "\"package 'car' was built under R version 3.5.2\"Loading required package: carData\n"
     ]
    }
   ],
   "source": [
    "library(coin)\n",
    "library(lme4)\n",
    "library(lmerTest)\n",
    "library(plyr)\n",
    "library(xtable)\n",
    "library(LMERConvenienceFunctions)\n",
    "library(car)"
   ]
  },
  {
   "cell_type": "code",
   "execution_count": 3,
   "metadata": {},
   "outputs": [],
   "source": [
    "get_processed_data <- function(data_path){\n",
    "    filename <- file.path(data_path, \"choices_processed.txt\")\n",
    "    data <- read.table(filename, header = TRUE, sep = \",\")\n",
    "    data[, \"subj_id\"] <- as.factor(data[, \"subj_id\"])\n",
    "    data[, \"option_chosen\"] <- as.factor(data[, \"option_chosen\"])\n",
    "    \n",
    "    return(data)\n",
    "}\n",
    "\n",
    "data <- get_processed_data(data_path)\n",
    "\n",
    "mouse_data <- data[data$task==\"mouse\",]\n",
    "walking_data <- data[data$task==\"walking\",]"
   ]
  },
  {
   "cell_type": "markdown",
   "metadata": {},
   "source": [
    "# Mouse-tracking task: max-d"
   ]
  },
  {
   "cell_type": "code",
   "execution_count": 6,
   "metadata": {},
   "outputs": [],
   "source": [
    "max_d_mouse_analysis <- function(stats.df){\n",
    "    choice.mer = lmer(max_d ~ (option_chosen | subj_id) + option_chosen:Delta, stats.df)\n",
    "    print(summary(choice.mer))\n",
    "\n",
    "    choice.output = summary(choice.mer)$coefficients\n",
    "\n",
    "    file_name = file.path(table_path, \"max_d_vs_Delta_mouse.tex\")\n",
    "    print(xtable(choice.output, digits = c(2,2,2,2,2,-2), \n",
    "                 label = \"tab:freq_max_d_vs_lambda_mouse\",\n",
    "                 caption = \"Maximum deviation as a function of $\\\\Delta$ and choice\"), \n",
    "          math.style.exponents = TRUE, type = \"latex\", file = file_name)\n",
    "}"
   ]
  },
  {
   "cell_type": "code",
   "execution_count": 7,
   "metadata": {},
   "outputs": [
    {
     "name": "stdout",
     "output_type": "stream",
     "text": [
      "Linear mixed model fit by REML. t-tests use Satterthwaite's method [\n",
      "lmerModLmerTest]\n",
      "Formula: max_d ~ (option_chosen | subj_id) + option_chosen:Delta\n",
      "   Data: stats.df\n",
      "\n",
      "REML criterion at convergence: 30358.7\n",
      "\n",
      "Scaled residuals: \n",
      "    Min      1Q  Median      3Q     Max \n",
      "-4.7960 -0.4696 -0.1000  0.2916  6.5699 \n",
      "\n",
      "Random effects:\n",
      " Groups   Name            Variance Std.Dev. Corr \n",
      " subj_id  (Intercept)      9137     95.59        \n",
      "          option_chosenss 10643    103.16   -0.58\n",
      " Residual                 10307    101.52        \n",
      "Number of obs: 2490, groups:  subj_id, 54\n",
      "\n",
      "Fixed effects:\n",
      "                      Estimate Std. Error       df t value Pr(>|t|)    \n",
      "(Intercept)            217.790     11.004   57.036  19.792  < 2e-16 ***\n",
      "option_chosenll:Delta  -72.583     15.193 2440.899  -4.777 1.88e-06 ***\n",
      "option_chosenss:Delta   52.075      8.738 2382.530   5.960 2.91e-09 ***\n",
      "---\n",
      "Signif. codes:  0 '***' 0.001 '**' 0.01 '*' 0.05 '.' 0.1 ' ' 1\n",
      "\n",
      "Correlation of Fixed Effects:\n",
      "             (Intr) optn_chsnl:D\n",
      "optn_chsnl:D -0.088             \n",
      "optn_chsns:D  0.158 -0.027      \n"
     ]
    }
   ],
   "source": [
    "max_d_mouse_analysis(mouse_data)"
   ]
  },
  {
   "cell_type": "code",
   "execution_count": 8,
   "metadata": {
    "scrolled": false
   },
   "outputs": [
    {
     "name": "stdout",
     "output_type": "stream",
     "text": [
      "Linear mixed model fit by REML. t-tests use Satterthwaite's method [\n",
      "lmerModLmerTest]\n",
      "Formula: max_d ~ (option_chosen | subj_id) + option_chosen:Delta\n",
      "   Data: stats.df\n",
      "\n",
      "REML criterion at convergence: 25276.8\n",
      "\n",
      "Scaled residuals: \n",
      "    Min      1Q  Median      3Q     Max \n",
      "-4.9249 -0.5078 -0.0418  0.4489  7.8043 \n",
      "\n",
      "Random effects:\n",
      " Groups   Name            Variance Std.Dev. Corr \n",
      " subj_id  (Intercept)     4718     68.69         \n",
      "          option_chosenss 4001     63.26    -0.59\n",
      " Residual                 3652     60.43         \n",
      "Number of obs: 2263, groups:  subj_id, 54\n",
      "\n",
      "Fixed effects:\n",
      "                      Estimate Std. Error       df t value Pr(>|t|)    \n",
      "(Intercept)            171.625      7.800   56.311  22.005  < 2e-16 ***\n",
      "option_chosenll:Delta  -23.618      9.411 2207.682  -2.510 0.012159 *  \n",
      "option_chosenss:Delta   18.516      5.357 2167.285   3.457 0.000557 ***\n",
      "---\n",
      "Signif. codes:  0 '***' 0.001 '**' 0.01 '*' 0.05 '.' 0.1 ' ' 1\n",
      "\n",
      "Correlation of Fixed Effects:\n",
      "             (Intr) optn_chsnl:D\n",
      "optn_chsnl:D -0.067             \n",
      "optn_chsns:D  0.167 -0.029      \n"
     ]
    }
   ],
   "source": [
    "max_d_mouse_analysis(mouse_data_no_com)"
   ]
  },
  {
   "cell_type": "markdown",
   "metadata": {},
   "source": [
    "The frequentist analysis is consistent with the findings of Bayesian regressions. In the mouse task, the effect of $\\Delta$ on max-d is significant for the LL option, but the evidence of effect diminishes if we exclude changes-of-mind"
   ]
  },
  {
   "cell_type": "markdown",
   "metadata": {},
   "source": [
    "# Mouse-tracking task: response time"
   ]
  },
  {
   "cell_type": "code",
   "execution_count": 4,
   "metadata": {},
   "outputs": [],
   "source": [
    "rt_mouse_analysis <- function(stats.df){\n",
    "    choice.mer = lmer(RT ~ (option_chosen | subj_id) + option_chosen:Delta, stats.df)\n",
    "    print(summary(choice.mer))\n",
    "\n",
    "    choice.output = summary(choice.mer)$coefficients\n",
    "\n",
    "    file_name = file.path(table_path, \"RT_vs_Delta_mouse.tex\")\n",
    "    print(xtable(choice.output, digits = c(2,2,2,2,2,-2), \n",
    "                 label = \"tab:freq_RT_vs_Delta_mouse\",\n",
    "                 caption = \"Response time as a function of $\\\\Delta$ and choice\"), \n",
    "          math.style.exponents = TRUE, type = \"latex\", file = file_name)\n",
    "}"
   ]
  },
  {
   "cell_type": "code",
   "execution_count": 5,
   "metadata": {},
   "outputs": [
    {
     "name": "stdout",
     "output_type": "stream",
     "text": [
      "Linear mixed model fit by REML. t-tests use Satterthwaite's method [\n",
      "lmerModLmerTest]\n",
      "Formula: RT ~ (option_chosen | subj_id) + option_chosen:Delta\n",
      "   Data: stats.df\n",
      "\n",
      "REML criterion at convergence: 6779.5\n",
      "\n",
      "Scaled residuals: \n",
      "    Min      1Q  Median      3Q     Max \n",
      "-2.5195 -0.5786 -0.1349  0.3994  4.9148 \n",
      "\n",
      "Random effects:\n",
      " Groups   Name            Variance Std.Dev. Corr \n",
      " subj_id  (Intercept)     0.74661  0.8641        \n",
      "          option_chosenss 0.08848  0.2975   -0.81\n",
      " Residual                 0.81829  0.9046        \n",
      "Number of obs: 2490, groups:  subj_id, 54\n",
      "\n",
      "Fixed effects:\n",
      "                        Estimate Std. Error         df t value Pr(>|t|)    \n",
      "(Intercept)              2.94760    0.09476   67.72971  31.107   <2e-16 ***\n",
      "option_chosenll:Delta   -1.18855    0.12880 1721.72225  -9.228   <2e-16 ***\n",
      "option_chosenss:Delta    0.85930    0.07116 1107.77160  12.076   <2e-16 ***\n",
      "---\n",
      "Signif. codes:  0 '***' 0.001 '**' 0.01 '*' 0.05 '.' 0.1 ' ' 1\n",
      "\n",
      "Correlation of Fixed Effects:\n",
      "             (Intr) optn_chsnl:D\n",
      "optn_chsnl:D  0.040             \n",
      "optn_chsns:D  0.390 -0.116      \n"
     ]
    }
   ],
   "source": [
    "rt_mouse_analysis(mouse_data)"
   ]
  },
  {
   "cell_type": "code",
   "execution_count": 9,
   "metadata": {},
   "outputs": [
    {
     "name": "stdout",
     "output_type": "stream",
     "text": [
      "Linear mixed model fit by REML. t-tests use Satterthwaite's method [\n",
      "lmerModLmerTest]\n",
      "Formula: RT ~ (option_chosen | subj_id) + option_chosen:Delta\n",
      "   Data: stats.df\n",
      "\n",
      "REML criterion at convergence: 5858.8\n",
      "\n",
      "Scaled residuals: \n",
      "    Min      1Q  Median      3Q     Max \n",
      "-2.5218 -0.5824 -0.1384  0.3800  5.1283 \n",
      "\n",
      "Random effects:\n",
      " Groups   Name            Variance Std.Dev. Corr \n",
      " subj_id  (Intercept)     0.58341  0.7638        \n",
      "          option_chosenss 0.06115  0.2473   -0.60\n",
      " Residual                 0.71069  0.8430        \n",
      "Number of obs: 2263, groups:  subj_id, 54\n",
      "\n",
      "Fixed effects:\n",
      "                        Estimate Std. Error         df t value Pr(>|t|)    \n",
      "(Intercept)              2.90081    0.09532   60.29693  30.432   <2e-16 ***\n",
      "option_chosenll:Delta   -1.06404    0.12362 1443.74773  -8.607   <2e-16 ***\n",
      "option_chosenss:Delta    0.73537    0.06801  998.11853  10.813   <2e-16 ***\n",
      "---\n",
      "Signif. codes:  0 '***' 0.001 '**' 0.01 '*' 0.05 '.' 0.1 ' ' 1\n",
      "\n",
      "Correlation of Fixed Effects:\n",
      "             (Intr) optn_chsnl:D\n",
      "optn_chsnl:D -0.025             \n",
      "optn_chsns:D  0.295 -0.142      \n"
     ]
    }
   ],
   "source": [
    "rt_mouse_analysis(mouse_data_no_com)"
   ]
  },
  {
   "cell_type": "markdown",
   "metadata": {},
   "source": [
    "# Walking task: max-d"
   ]
  },
  {
   "cell_type": "code",
   "execution_count": 13,
   "metadata": {},
   "outputs": [],
   "source": [
    "max_d_walking_analysis <- function(stats.df){\n",
    "    choice.mer = lmer(max_d ~ (option_chosen | subj_id) + option_chosen:Delta, stats.df)\n",
    "    print(summary(choice.mer))\n",
    "\n",
    "    choice.output = summary(choice.mer)$coefficients\n",
    "\n",
    "    file_name = file.path(table_path, \"max_d_vs_Delta_walking.tex\")\n",
    "    print(xtable(choice.output, digits = c(2,2,2,2,2,-2), \n",
    "                 label = \"tab:freq_max_d_vs_Delta_mouse\",\n",
    "                 caption = \"Maximum deviation as a function of $\\\\Delta$ and choice\"), \n",
    "          math.style.exponents = TRUE, type = \"latex\", file = file_name)\n",
    "}"
   ]
  },
  {
   "cell_type": "code",
   "execution_count": 14,
   "metadata": {},
   "outputs": [
    {
     "name": "stdout",
     "output_type": "stream",
     "text": [
      "Linear mixed model fit by REML. t-tests use Satterthwaite's method [\n",
      "lmerModLmerTest]\n",
      "Formula: max_d ~ (option_chosen | subj_id) + option_chosen:Delta\n",
      "   Data: stats.df\n",
      "\n",
      "REML criterion at convergence: -4061.3\n",
      "\n",
      "Scaled residuals: \n",
      "    Min      1Q  Median      3Q     Max \n",
      "-3.4194 -0.5830 -0.0616  0.4585 10.0826 \n",
      "\n",
      "Random effects:\n",
      " Groups   Name            Variance Std.Dev. Corr \n",
      " subj_id  (Intercept)     0.007050 0.08396       \n",
      "          option_chosenss 0.009555 0.09775  -0.45\n",
      " Residual                 0.009789 0.09894       \n",
      "Number of obs: 2451, groups:  subj_id, 54\n",
      "\n",
      "Fixed effects:\n",
      "                        Estimate Std. Error         df t value Pr(>|t|)    \n",
      "(Intercept)            4.848e-01  1.060e-02  5.514e+01  45.754  < 2e-16 ***\n",
      "option_chosenll:Delta -1.036e-01  1.494e-02  2.396e+03  -6.931 5.34e-12 ***\n",
      "option_chosenss:Delta  5.792e-02  9.356e-03  2.304e+03   6.191 7.05e-10 ***\n",
      "---\n",
      "Signif. codes:  0 '***' 0.001 '**' 0.01 '*' 0.05 '.' 0.1 ' ' 1\n",
      "\n",
      "Correlation of Fixed Effects:\n",
      "             (Intr) optn_chsnl:D\n",
      "optn_chsnl:D -0.108             \n",
      "optn_chsns:D  0.124 -0.028      \n"
     ]
    }
   ],
   "source": [
    "max_d_walking_analysis(walking_data)"
   ]
  },
  {
   "cell_type": "code",
   "execution_count": 15,
   "metadata": {},
   "outputs": [
    {
     "name": "stdout",
     "output_type": "stream",
     "text": [
      "Linear mixed model fit by REML. t-tests use Satterthwaite's method [\n",
      "lmerModLmerTest]\n",
      "Formula: max_d ~ (option_chosen | subj_id) + option_chosen:Delta\n",
      "   Data: stats.df\n",
      "\n",
      "REML criterion at convergence: -4704.1\n",
      "\n",
      "Scaled residuals: \n",
      "    Min      1Q  Median      3Q     Max \n",
      "-3.9540 -0.6285 -0.0489  0.5332  4.7149 \n",
      "\n",
      "Random effects:\n",
      " Groups   Name            Variance Std.Dev. Corr \n",
      " subj_id  (Intercept)     0.006415 0.08009       \n",
      "          option_chosenss 0.006922 0.08320  -0.43\n",
      " Residual                 0.007342 0.08568       \n",
      "Number of obs: 2425, groups:  subj_id, 54\n",
      "\n",
      "Fixed effects:\n",
      "                        Estimate Std. Error         df t value Pr(>|t|)    \n",
      "(Intercept)            4.765e-01  1.014e-02  5.490e+01  46.976  < 2e-16 ***\n",
      "option_chosenll:Delta -8.472e-02  1.303e-02  2.367e+03  -6.503 9.60e-11 ***\n",
      "option_chosenss:Delta  5.165e-02  8.115e-03  2.269e+03   6.364 2.36e-10 ***\n",
      "---\n",
      "Signif. codes:  0 '***' 0.001 '**' 0.01 '*' 0.05 '.' 0.1 ' ' 1\n",
      "\n",
      "Correlation of Fixed Effects:\n",
      "             (Intr) optn_chsnl:D\n",
      "optn_chsnl:D -0.096             \n",
      "optn_chsns:D  0.120 -0.029      \n"
     ]
    }
   ],
   "source": [
    "max_d_walking_analysis(walking_data_no_com)"
   ]
  },
  {
   "cell_type": "markdown",
   "metadata": {},
   "source": [
    "# Walking data: response time"
   ]
  },
  {
   "cell_type": "code",
   "execution_count": 10,
   "metadata": {},
   "outputs": [],
   "source": [
    "rt_walking_analysis <- function(stats.df){\n",
    "    choice.mer = lmer(RT ~ (option_chosen | subj_id) + option_chosen:Delta, stats.df)\n",
    "    print(summary(choice.mer))\n",
    "\n",
    "    choice.output = summary(choice.mer)$coefficients\n",
    "\n",
    "    file_name = file.path(table_path, \"RT_vs_Delta_walking.tex\")\n",
    "    print(xtable(choice.output, digits = c(2,2,2,2,2,-2), \n",
    "                 label = \"tab:freq_RT_vs_Delta_walking\",\n",
    "                 caption = \"Response time as a function of $\\\\Delta$ and choice\"), \n",
    "          math.style.exponents = TRUE, type = \"latex\", file = file_name)\n",
    "}"
   ]
  },
  {
   "cell_type": "code",
   "execution_count": 11,
   "metadata": {},
   "outputs": [
    {
     "name": "stdout",
     "output_type": "stream",
     "text": [
      "Linear mixed model fit by REML. t-tests use Satterthwaite's method [\n",
      "lmerModLmerTest]\n",
      "Formula: RT ~ (option_chosen | subj_id) + option_chosen:Delta\n",
      "   Data: stats.df\n",
      "\n",
      "REML criterion at convergence: 4351.6\n",
      "\n",
      "Scaled residuals: \n",
      "    Min      1Q  Median      3Q     Max \n",
      "-2.7404 -0.6144 -0.1410  0.4276  6.5473 \n",
      "\n",
      "Random effects:\n",
      " Groups   Name            Variance Std.Dev. Corr \n",
      " subj_id  (Intercept)     0.6044   0.7775        \n",
      "          option_chosenss 0.0634   0.2518   -0.39\n",
      " Residual                 0.3056   0.5528        \n",
      "Number of obs: 2451, groups:  subj_id, 54\n",
      "\n",
      "Fixed effects:\n",
      "                        Estimate Std. Error         df t value Pr(>|t|)    \n",
      "(Intercept)              5.02087    0.10024   55.75774  50.087  < 2e-16 ***\n",
      "option_chosenll:Delta   -0.66817    0.08097 1930.11947  -8.253 2.84e-16 ***\n",
      "option_chosenss:Delta    0.42293    0.04925 1330.50135   8.587  < 2e-16 ***\n",
      "---\n",
      "Signif. codes:  0 '***' 0.001 '**' 0.01 '*' 0.05 '.' 0.1 ' ' 1\n",
      "\n",
      "Correlation of Fixed Effects:\n",
      "             (Intr) optn_chsnl:D\n",
      "optn_chsnl:D -0.015             \n",
      "optn_chsns:D  0.165 -0.083      \n"
     ]
    }
   ],
   "source": [
    "rt_walking_analysis(walking_data)"
   ]
  },
  {
   "cell_type": "code",
   "execution_count": 12,
   "metadata": {},
   "outputs": [
    {
     "name": "stdout",
     "output_type": "stream",
     "text": [
      "Linear mixed model fit by REML. t-tests use Satterthwaite's method [\n",
      "lmerModLmerTest]\n",
      "Formula: RT ~ (option_chosen | subj_id) + option_chosen:Delta\n",
      "   Data: stats.df\n",
      "\n",
      "REML criterion at convergence: 4222.6\n",
      "\n",
      "Scaled residuals: \n",
      "    Min      1Q  Median      3Q     Max \n",
      "-2.7790 -0.6058 -0.1425  0.4351  6.6359 \n",
      "\n",
      "Random effects:\n",
      " Groups   Name            Variance Std.Dev. Corr \n",
      " subj_id  (Intercept)     0.60522  0.7780        \n",
      "          option_chosenss 0.04802  0.2191   -0.40\n",
      " Residual                 0.29588  0.5439        \n",
      "Number of obs: 2425, groups:  subj_id, 54\n",
      "\n",
      "Fixed effects:\n",
      "                        Estimate Std. Error         df t value Pr(>|t|)    \n",
      "(Intercept)              5.00362    0.10055   56.02432  49.764  < 2e-16 ***\n",
      "option_chosenll:Delta   -0.63709    0.07952 1744.57989  -8.012 2.04e-15 ***\n",
      "option_chosenss:Delta    0.41070    0.04798 1140.36511   8.559  < 2e-16 ***\n",
      "---\n",
      "Signif. codes:  0 '***' 0.001 '**' 0.01 '*' 0.05 '.' 0.1 ' ' 1\n",
      "\n",
      "Correlation of Fixed Effects:\n",
      "             (Intr) optn_chsnl:D\n",
      "optn_chsnl:D -0.009             \n",
      "optn_chsns:D  0.174 -0.098      \n"
     ]
    }
   ],
   "source": [
    "rt_walking_analysis(walking_data_no_com)"
   ]
  }
 ],
 "metadata": {
  "kernelspec": {
   "display_name": "R",
   "language": "R",
   "name": "ir"
  },
  "language_info": {
   "codemirror_mode": "r",
   "file_extension": ".r",
   "mimetype": "text/x-r-source",
   "name": "R",
   "pygments_lexer": "r",
   "version": "3.5.1"
  }
 },
 "nbformat": 4,
 "nbformat_minor": 2
}
