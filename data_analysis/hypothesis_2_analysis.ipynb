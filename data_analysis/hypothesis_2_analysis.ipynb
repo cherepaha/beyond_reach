{
 "cells": [
  {
   "cell_type": "code",
   "execution_count": 1,
   "metadata": {},
   "outputs": [
    {
     "name": "stderr",
     "output_type": "stream",
     "text": [
      "Loading required package: Rcpp\n",
      "Loading 'brms' package (version 2.4.0). Useful instructions\n",
      "can be found by typing help('brms'). A more detailed introduction\n",
      "to the package is available through vignette('brms_overview').\n",
      "Run theme_set(theme_default()) to use the default bayesplot theme.\n",
      "NOTE: As of tidybayes version 1.0, several functions, arguments, and output column names\n",
      "      have undergone significant name changes in order to adopt a unified naming scheme.\n",
      "      See help('tidybayes-deprecated') for more information.\n",
      "\n",
      "\n",
      "Attaching package: 'ggstance'\n",
      "\n",
      "The following objects are masked from 'package:ggplot2':\n",
      "\n",
      "    geom_errorbarh, GeomErrorbarh\n",
      "\n",
      "Loading required package: viridisLite\n",
      "\n",
      "Attaching package: 'data.table'\n",
      "\n",
      "The following objects are masked from 'package:reshape2':\n",
      "\n",
      "    dcast, melt\n",
      "\n"
     ]
    }
   ],
   "source": [
    "library(ggplot2)\n",
    "library(ggExtra)\n",
    "library(brms)\n",
    "library(reshape2)\n",
    "library(coda)\n",
    "library(tidybayes)\n",
    "library(ggstance)\n",
    "library(viridis)\n",
    "library(latex2exp)\n",
    "library(ggthemes)\n",
    "library(data.table)"
   ]
  },
  {
   "cell_type": "code",
   "execution_count": 2,
   "metadata": {},
   "outputs": [
    {
     "data": {
      "text/html": [
       "110"
      ],
      "text/latex": [
       "110"
      ],
      "text/markdown": [
       "110"
      ],
      "text/plain": [
       "[1] 110"
      ]
     },
     "metadata": {},
     "output_type": "display_data"
    }
   ],
   "source": [
    "get_data <- function(){\n",
    "    filename <- \"C:/Users/Arkady/Google Drive/data/beyond_the_reach/k-values.csv\"\n",
    "    data <- read.table(filename, header = TRUE, sep = \"\\t\")\n",
    "    data[, 'subj_id'] <- factor(data[, 'subj_id'])  \n",
    "    data[, 'task'] <- factor(data[, 'task'])  \n",
    "    data[, 'order'] <- factor(data[, 'order'])  \n",
    "    return(data)\n",
    "}\n",
    "\n",
    "data <- get_data()\n",
    "nrow(data)"
   ]
  },
  {
   "cell_type": "code",
   "execution_count": 3,
   "metadata": {},
   "outputs": [],
   "source": [
    "get_bf_k <- function(data){\n",
    "    # sd(IV) in this case is 0.5, as IV is task (equal number of 0's and 1's)\n",
    "    priors_task <- c(set_prior(sprintf('normal(%f, %f)', mean(data$k), sd(data$k)), class = 'Intercept'),\n",
    "                    set_prior(sprintf('cauchy(0.0, %f)', 0.707*sd(data$k)/0.5), class = 'b'))\n",
    "\n",
    "    m_null <- brm(k ~ (1 | subj_id), data=data, family=gaussian(), save_all_pars=TRUE, prior=priors_task[1,],\n",
    "                  refresh=0, control = list(adapt_delta = 0.9, max_treedepth=15))\n",
    "    m_task <- brm(k ~ (1 | subj_id) + task, data=data, family=gaussian(), save_all_pars=TRUE, prior=priors_task, \n",
    "                  refresh=0, control = list(adapt_delta = 0.9, max_treedepth=15))    \n",
    "    m_order <- brm(k ~ (1 | subj_id) + order, data=data, family=gaussian(), save_all_pars=TRUE, prior=priors_task, \n",
    "                  refresh=0, control = list(adapt_delta = 0.9, max_treedepth=15))\n",
    "    m_inter <- brm(k ~ (1 | subj_id) + task*order, data=data, family=gaussian(), save_all_pars=TRUE, prior=priors_task, \n",
    "                  refresh=0, control = list(adapt_delta = 0.9, max_treedepth=15))\n",
    "    \n",
    "    bf_task <- bayes_factor(x1=m_task, x2=m_null)$bf\n",
    "    bf_order <- bayes_factor(x1=m_order, x2=m_null)$bf\n",
    "    bf_inter <- bayes_factor(x1=m_inter, x2=m_null)$bf\n",
    "    \n",
    "    names(bf_task) <- 'bf_task'\n",
    "    names(bf_order) <- 'bf_order'\n",
    "    names(bf_inter) <- 'bf_inter'\n",
    "        \n",
    "    result = list(bf=t(c(bf_task, bf_order, bf_inter)), m_null=m_null, m_task=m_task, m_order=m_order, m_inter=m_inter)\n",
    "    \n",
    "    return(result)\n",
    "}"
   ]
  },
  {
   "cell_type": "code",
   "execution_count": 4,
   "metadata": {
    "scrolled": false
   },
   "outputs": [
    {
     "name": "stderr",
     "output_type": "stream",
     "text": [
      "Compiling the C++ model\n",
      "Start sampling\n"
     ]
    },
    {
     "name": "stdout",
     "output_type": "stream",
     "text": [
      "\n",
      "Gradient evaluation took 0 seconds\n",
      "1000 transitions using 10 leapfrog steps per transition would take 0 seconds.\n",
      "Adjust your expectations accordingly!\n",
      "\n",
      "\n",
      "\n",
      " Elapsed Time: 0.368 seconds (Warm-up)\n",
      "               0.155 seconds (Sampling)\n",
      "               0.523 seconds (Total)\n",
      "\n",
      "\n",
      "Gradient evaluation took 0 seconds\n",
      "1000 transitions using 10 leapfrog steps per transition would take 0 seconds.\n",
      "Adjust your expectations accordingly!\n",
      "\n",
      "\n",
      "\n",
      " Elapsed Time: 0.338 seconds (Warm-up)\n",
      "               0.153 seconds (Sampling)\n",
      "               0.491 seconds (Total)\n",
      "\n",
      "\n",
      "Gradient evaluation took 0 seconds\n",
      "1000 transitions using 10 leapfrog steps per transition would take 0 seconds.\n",
      "Adjust your expectations accordingly!\n",
      "\n",
      "\n",
      "\n",
      " Elapsed Time: 0.369 seconds (Warm-up)\n",
      "               0.143 seconds (Sampling)\n",
      "               0.512 seconds (Total)\n",
      "\n",
      "\n",
      "Gradient evaluation took 0 seconds\n",
      "1000 transitions using 10 leapfrog steps per transition would take 0 seconds.\n",
      "Adjust your expectations accordingly!\n",
      "\n",
      "\n",
      "\n",
      " Elapsed Time: 0.357 seconds (Warm-up)\n",
      "               0.143 seconds (Sampling)\n",
      "               0.5 seconds (Total)\n",
      "\n"
     ]
    },
    {
     "name": "stderr",
     "output_type": "stream",
     "text": [
      "Compiling the C++ model\n",
      "Start sampling\n"
     ]
    },
    {
     "name": "stdout",
     "output_type": "stream",
     "text": [
      "\n",
      "Gradient evaluation took 0 seconds\n",
      "1000 transitions using 10 leapfrog steps per transition would take 0 seconds.\n",
      "Adjust your expectations accordingly!\n",
      "\n",
      "\n",
      "\n",
      " Elapsed Time: 0.417 seconds (Warm-up)\n",
      "               0.193 seconds (Sampling)\n",
      "               0.61 seconds (Total)\n",
      "\n",
      "\n",
      "Gradient evaluation took 0 seconds\n",
      "1000 transitions using 10 leapfrog steps per transition would take 0 seconds.\n",
      "Adjust your expectations accordingly!\n",
      "\n",
      "\n",
      "\n",
      " Elapsed Time: 0.467 seconds (Warm-up)\n",
      "               0.173 seconds (Sampling)\n",
      "               0.64 seconds (Total)\n",
      "\n",
      "\n",
      "Gradient evaluation took 0 seconds\n",
      "1000 transitions using 10 leapfrog steps per transition would take 0 seconds.\n",
      "Adjust your expectations accordingly!\n",
      "\n",
      "\n",
      "\n",
      " Elapsed Time: 0.491 seconds (Warm-up)\n",
      "               0.202 seconds (Sampling)\n",
      "               0.693 seconds (Total)\n",
      "\n",
      "\n",
      "Gradient evaluation took 0 seconds\n",
      "1000 transitions using 10 leapfrog steps per transition would take 0 seconds.\n",
      "Adjust your expectations accordingly!\n",
      "\n",
      "\n",
      "\n",
      " Elapsed Time: 0.548 seconds (Warm-up)\n",
      "               0.183 seconds (Sampling)\n",
      "               0.731 seconds (Total)\n",
      "\n"
     ]
    },
    {
     "name": "stderr",
     "output_type": "stream",
     "text": [
      "Compiling the C++ model\n",
      "Start sampling\n"
     ]
    },
    {
     "name": "stdout",
     "output_type": "stream",
     "text": [
      "\n",
      "Gradient evaluation took 0 seconds\n",
      "1000 transitions using 10 leapfrog steps per transition would take 0 seconds.\n",
      "Adjust your expectations accordingly!\n",
      "\n",
      "\n",
      "\n",
      " Elapsed Time: 0.454 seconds (Warm-up)\n",
      "               0.177 seconds (Sampling)\n",
      "               0.631 seconds (Total)\n",
      "\n",
      "\n",
      "Gradient evaluation took 0 seconds\n",
      "1000 transitions using 10 leapfrog steps per transition would take 0 seconds.\n",
      "Adjust your expectations accordingly!\n",
      "\n",
      "\n",
      "\n",
      " Elapsed Time: 0.481 seconds (Warm-up)\n",
      "               0.192 seconds (Sampling)\n",
      "               0.673 seconds (Total)\n",
      "\n",
      "\n",
      "Gradient evaluation took 0 seconds\n",
      "1000 transitions using 10 leapfrog steps per transition would take 0 seconds.\n",
      "Adjust your expectations accordingly!\n",
      "\n",
      "\n",
      "\n",
      " Elapsed Time: 0.429 seconds (Warm-up)\n",
      "               0.194 seconds (Sampling)\n",
      "               0.623 seconds (Total)\n",
      "\n",
      "\n",
      "Gradient evaluation took 0 seconds\n",
      "1000 transitions using 10 leapfrog steps per transition would take 0 seconds.\n",
      "Adjust your expectations accordingly!\n",
      "\n",
      "\n",
      "\n",
      " Elapsed Time: 0.5 seconds (Warm-up)\n",
      "               0.184 seconds (Sampling)\n",
      "               0.684 seconds (Total)\n",
      "\n"
     ]
    },
    {
     "name": "stderr",
     "output_type": "stream",
     "text": [
      "Compiling the C++ model\n",
      "Start sampling\n"
     ]
    },
    {
     "name": "stdout",
     "output_type": "stream",
     "text": [
      "\n",
      "Gradient evaluation took 0 seconds\n",
      "1000 transitions using 10 leapfrog steps per transition would take 0 seconds.\n",
      "Adjust your expectations accordingly!\n",
      "\n",
      "\n",
      "\n",
      " Elapsed Time: 0.648 seconds (Warm-up)\n",
      "               0.463 seconds (Sampling)\n",
      "               1.111 seconds (Total)\n",
      "\n",
      "\n",
      "Gradient evaluation took 0 seconds\n",
      "1000 transitions using 10 leapfrog steps per transition would take 0 seconds.\n",
      "Adjust your expectations accordingly!\n",
      "\n",
      "\n",
      "\n",
      " Elapsed Time: 0.636 seconds (Warm-up)\n",
      "               0.245 seconds (Sampling)\n",
      "               0.881 seconds (Total)\n",
      "\n",
      "\n",
      "Gradient evaluation took 0 seconds\n",
      "1000 transitions using 10 leapfrog steps per transition would take 0 seconds.\n",
      "Adjust your expectations accordingly!\n",
      "\n",
      "\n",
      "\n",
      " Elapsed Time: 0.547 seconds (Warm-up)\n",
      "               0.29 seconds (Sampling)\n",
      "               0.837 seconds (Total)\n",
      "\n",
      "\n",
      "Gradient evaluation took 0 seconds\n",
      "1000 transitions using 10 leapfrog steps per transition would take 0 seconds.\n",
      "Adjust your expectations accordingly!\n",
      "\n",
      "\n",
      "\n",
      " Elapsed Time: 0.647 seconds (Warm-up)\n",
      "               0.246 seconds (Sampling)\n",
      "               0.893 seconds (Total)\n",
      "\n",
      "Iteration: 1\n",
      "Iteration: 2\n",
      "Iteration: 3\n",
      "Iteration: 4\n",
      "Iteration: 5\n",
      "Iteration: 6\n",
      "Iteration: 1\n",
      "Iteration: 2\n",
      "Iteration: 3\n",
      "Iteration: 4\n",
      "Iteration: 5\n",
      "Iteration: 6\n",
      "Iteration: 7\n",
      "Iteration: 1\n",
      "Iteration: 2\n",
      "Iteration: 3\n",
      "Iteration: 4\n",
      "Iteration: 5\n",
      "Iteration: 1\n",
      "Iteration: 2\n",
      "Iteration: 3\n",
      "Iteration: 4\n",
      "Iteration: 5\n",
      "Iteration: 6\n",
      "Iteration: 1\n",
      "Iteration: 2\n",
      "Iteration: 3\n",
      "Iteration: 4\n",
      "Iteration: 5\n",
      "Iteration: 6\n",
      "Iteration: 1\n",
      "Iteration: 2\n",
      "Iteration: 3\n",
      "Iteration: 4\n",
      "Iteration: 5\n"
     ]
    }
   ],
   "source": [
    "result <- get_bf_k(data)"
   ]
  },
  {
   "cell_type": "code",
   "execution_count": 5,
   "metadata": {},
   "outputs": [
    {
     "data": {
      "text/html": [
       "<table>\n",
       "<thead><tr><th scope=col>bf_task</th><th scope=col>bf_order</th><th scope=col>bf_inter</th></tr></thead>\n",
       "<tbody>\n",
       "\t<tr><td>14.05645</td><td>3.105616</td><td>175.6802</td></tr>\n",
       "</tbody>\n",
       "</table>\n"
      ],
      "text/latex": [
       "\\begin{tabular}{lll}\n",
       " bf\\_task & bf\\_order & bf\\_inter\\\\\n",
       "\\hline\n",
       "\t 14.05645 & 3.105616 & 175.6802\\\\\n",
       "\\end{tabular}\n"
      ],
      "text/markdown": [
       "\n",
       "bf_task | bf_order | bf_inter | \n",
       "|---|\n",
       "| 14.05645 | 3.105616 | 175.6802 | \n",
       "\n",
       "\n"
      ],
      "text/plain": [
       "     bf_task  bf_order bf_inter\n",
       "[1,] 14.05645 3.105616 175.6802"
      ]
     },
     "metadata": {},
     "output_type": "display_data"
    }
   ],
   "source": [
    "1/result$bf"
   ]
  },
  {
   "cell_type": "code",
   "execution_count": 6,
   "metadata": {},
   "outputs": [],
   "source": [
    "hpd_task<-HPDinterval(as.mcmc(result$m_task, combine_chains = TRUE))\n",
    "hpd_order<-HPDinterval(as.mcmc(result$m_order, combine_chains = TRUE))"
   ]
  },
  {
   "cell_type": "code",
   "execution_count": 7,
   "metadata": {},
   "outputs": [
    {
     "data": {
      "text/html": [
       "<dl class=dl-horizontal>\n",
       "\t<dt>lower</dt>\n",
       "\t\t<dd>-0.0723365119837754</dd>\n",
       "\t<dt>upper</dt>\n",
       "\t\t<dd>0.00259659806873502</dd>\n",
       "</dl>\n"
      ],
      "text/latex": [
       "\\begin{description*}\n",
       "\\item[lower] -0.0723365119837754\n",
       "\\item[upper] 0.00259659806873502\n",
       "\\end{description*}\n"
      ],
      "text/markdown": [
       "lower\n",
       ":   -0.0723365119837754upper\n",
       ":   0.00259659806873502\n",
       "\n"
      ],
      "text/plain": [
       "       lower        upper \n",
       "-0.072336512  0.002596598 "
      ]
     },
     "metadata": {},
     "output_type": "display_data"
    }
   ],
   "source": [
    "# hpd_task['b_taskwalking',]\n",
    "hpd_order['b_order2',]"
   ]
  }
 ],
 "metadata": {
  "kernelspec": {
   "display_name": "R",
   "language": "R",
   "name": "ir"
  },
  "language_info": {
   "codemirror_mode": "r",
   "file_extension": ".r",
   "mimetype": "text/x-r-source",
   "name": "R",
   "pygments_lexer": "r",
   "version": "3.5.1"
  }
 },
 "nbformat": 4,
 "nbformat_minor": 2
}
