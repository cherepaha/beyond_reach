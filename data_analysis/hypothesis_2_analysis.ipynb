{
 "cells": [
  {
   "cell_type": "code",
   "execution_count": 1,
   "metadata": {},
   "outputs": [
    {
     "name": "stderr",
     "output_type": "stream",
     "text": [
      "Loading required package: Rcpp\n",
      "Loading 'brms' package (version 2.4.0). Useful instructions\n",
      "can be found by typing help('brms'). A more detailed introduction\n",
      "to the package is available through vignette('brms_overview').\n",
      "Run theme_set(theme_default()) to use the default bayesplot theme.\n",
      "NOTE: As of tidybayes version 1.0, several functions, arguments, and output column names\n",
      "      have undergone significant name changes in order to adopt a unified naming scheme.\n",
      "      See help('tidybayes-deprecated') for more information.\n",
      "\n",
      "\n",
      "Attaching package: 'ggstance'\n",
      "\n",
      "The following objects are masked from 'package:ggplot2':\n",
      "\n",
      "    geom_errorbarh, GeomErrorbarh\n",
      "\n",
      "Loading required package: viridisLite\n",
      "\n",
      "Attaching package: 'data.table'\n",
      "\n",
      "The following objects are masked from 'package:reshape2':\n",
      "\n",
      "    dcast, melt\n",
      "\n",
      "This is bayesplot version 1.5.0\n",
      "- Plotting theme set to bayesplot::theme_default()\n",
      "- Online documentation at mc-stan.org/bayesplot\n"
     ]
    }
   ],
   "source": [
    "library(ggplot2)\n",
    "library(ggExtra)\n",
    "library(brms)\n",
    "library(reshape2)\n",
    "library(coda)\n",
    "library(tidybayes)\n",
    "library(ggstance)\n",
    "library(viridis)\n",
    "library(latex2exp)\n",
    "library(ggthemes)\n",
    "library(data.table)\n",
    "library(bayesplot)"
   ]
  },
  {
   "cell_type": "markdown",
   "metadata": {},
   "source": [
    "# Preregistered analysis"
   ]
  },
  {
   "cell_type": "code",
   "execution_count": 5,
   "metadata": {
    "scrolled": true
   },
   "outputs": [
    {
     "data": {
      "text/html": [
       "106"
      ],
      "text/latex": [
       "106"
      ],
      "text/markdown": [
       "106"
      ],
      "text/plain": [
       "[1] 106"
      ]
     },
     "metadata": {},
     "output_type": "display_data"
    }
   ],
   "source": [
    "get_data <- function(){\n",
    "    filename <- \"C:/Users/Arkady/Google Drive/data/beyond_the_reach/k_values_53.csv\"\n",
    "    data <- read.table(filename, header = TRUE, sep = \"\\t\")\n",
    "    data[, 'subj_id'] <- factor(data[, 'subj_id'])  \n",
    "    data[, 'task'] <- factor(data[, 'task'])  \n",
    "    data[, 'order'] <- factor(data[, 'order'])  \n",
    "    return(data)\n",
    "}\n",
    "\n",
    "data <- get_data()\n",
    "nrow(data)"
   ]
  },
  {
   "cell_type": "code",
   "execution_count": 6,
   "metadata": {},
   "outputs": [],
   "source": [
    "get_bf_k <- function(data){\n",
    "    # sd(IV) in this case is 0.5, as IV is task (equal number of 0's and 1's)\n",
    "    priors_task <- c(set_prior(sprintf('normal(%f, %f)', mean(data$k), sd(data$k)), class='Intercept'),\n",
    "                    set_prior(sprintf('cauchy(0.0, %f)', 0.707*sd(data$k)/0.5), class='b'))\n",
    "    \n",
    "    priors_bias <- c(set_prior(sprintf('normal(%f, %f)', mean(data$k), sd(data$k)), class='Intercept'),                    \n",
    "                    set_prior(sprintf('cauchy(0.0, %f)', 0.707*sd(data$k)/sd(data$SS_bias)), class='b'),\n",
    "                    set_prior(sprintf('cauchy(0.0, %f)', 0.707*sd(data$k)/0.5), class='b', coef='taskwalking'))\n",
    "\n",
    "    m_null <- brm(k ~ (1 | subj_id), data=data, family=gaussian(), save_all_pars=TRUE, prior=priors_task[1,],\n",
    "                  refresh=0, control = list(adapt_delta = 0.9, max_treedepth=15))\n",
    "    m_task <- brm(k ~ (1 | subj_id) + task, data=data, family=gaussian(), save_all_pars=TRUE, prior=priors_task, \n",
    "                  refresh=0, control = list(adapt_delta = 0.9, max_treedepth=15))    \n",
    "    m_order <- brm(k ~ (1 | subj_id) + order, data=data, family=gaussian(), save_all_pars=TRUE, prior=priors_task, \n",
    "                  refresh=0, control = list(adapt_delta = 0.9, max_treedepth=15))\n",
    "#     m_inter <- brm(k ~ (1 | subj_id) + task*order, data=data, family=gaussian(), save_all_pars=TRUE, prior=priors_task, \n",
    "#                   refresh=0, control = list(adapt_delta = 0.9, max_treedepth=15))\n",
    "#     m_bias <- brm(k ~ (1 | subj_id) + task:SS_bias, data=data, family=gaussian(), save_all_pars=TRUE, \n",
    "#                   prior=priors_bias, refresh=0, control = list(adapt_delta = 0.9, max_treedepth=15))\n",
    "    \n",
    "    bf_task <- bayes_factor(x1=m_task, x2=m_null)$bf\n",
    "    bf_order <- bayes_factor(x1=m_order, x2=m_null)$bf\n",
    "#     bf_inter <- bayes_factor(x1=m_inter, x2=m_null)$bf\n",
    "#     bf_bias <- bayes_factor(x1=m_bias, x2=m_null)$bf\n",
    "    \n",
    "    names(bf_task) <- 'bf_task'\n",
    "    names(bf_order) <- 'bf_order'\n",
    "#     names(bf_inter) <- 'bf_inter'\n",
    "#     names(bf_bias) <- 'bf_bias'\n",
    "        \n",
    "    result = list(bf=t(c(\n",
    "                         bf_task, \n",
    "                         bf_order\n",
    "#                         , bf_inter \n",
    "#                          bf_bias\n",
    "                         )), \n",
    "                  m_null=m_null, \n",
    "                  m_task=m_task, \n",
    "                  m_order=m_order\n",
    "#                   , m_inter=m_inter\n",
    "#                   m_bias=m_bias\n",
    "                 )\n",
    "    \n",
    "    return(result)\n",
    "}"
   ]
  },
  {
   "cell_type": "code",
   "execution_count": 7,
   "metadata": {
    "scrolled": true
   },
   "outputs": [
    {
     "name": "stderr",
     "output_type": "stream",
     "text": [
      "Compiling the C++ model\n",
      "Start sampling\n"
     ]
    },
    {
     "name": "stdout",
     "output_type": "stream",
     "text": [
      "\n",
      "Gradient evaluation took 0 seconds\n",
      "1000 transitions using 10 leapfrog steps per transition would take 0 seconds.\n",
      "Adjust your expectations accordingly!\n",
      "\n",
      "\n",
      "\n",
      " Elapsed Time: 0.384 seconds (Warm-up)\n",
      "               0.184 seconds (Sampling)\n",
      "               0.568 seconds (Total)\n",
      "\n",
      "\n",
      "Gradient evaluation took 0 seconds\n",
      "1000 transitions using 10 leapfrog steps per transition would take 0 seconds.\n",
      "Adjust your expectations accordingly!\n",
      "\n",
      "\n",
      "\n",
      " Elapsed Time: 0.373 seconds (Warm-up)\n",
      "               0.157 seconds (Sampling)\n",
      "               0.53 seconds (Total)\n",
      "\n",
      "\n",
      "Gradient evaluation took 0 seconds\n",
      "1000 transitions using 10 leapfrog steps per transition would take 0 seconds.\n",
      "Adjust your expectations accordingly!\n",
      "\n",
      "\n",
      "\n",
      " Elapsed Time: 0.365 seconds (Warm-up)\n",
      "               0.16 seconds (Sampling)\n",
      "               0.525 seconds (Total)\n",
      "\n",
      "\n",
      "Gradient evaluation took 0.001 seconds\n",
      "1000 transitions using 10 leapfrog steps per transition would take 10 seconds.\n",
      "Adjust your expectations accordingly!\n",
      "\n",
      "\n",
      "\n",
      " Elapsed Time: 0.34 seconds (Warm-up)\n",
      "               0.156 seconds (Sampling)\n",
      "               0.496 seconds (Total)\n",
      "\n"
     ]
    },
    {
     "name": "stderr",
     "output_type": "stream",
     "text": [
      "Compiling the C++ model\n",
      "Start sampling\n"
     ]
    },
    {
     "name": "stdout",
     "output_type": "stream",
     "text": [
      "\n",
      "Gradient evaluation took 0 seconds\n",
      "1000 transitions using 10 leapfrog steps per transition would take 0 seconds.\n",
      "Adjust your expectations accordingly!\n",
      "\n",
      "\n",
      "\n",
      " Elapsed Time: 0.649 seconds (Warm-up)\n",
      "               0.243 seconds (Sampling)\n",
      "               0.892 seconds (Total)\n",
      "\n",
      "\n",
      "Gradient evaluation took 0 seconds\n",
      "1000 transitions using 10 leapfrog steps per transition would take 0 seconds.\n",
      "Adjust your expectations accordingly!\n",
      "\n",
      "\n",
      "\n",
      " Elapsed Time: 0.507 seconds (Warm-up)\n",
      "               0.23 seconds (Sampling)\n",
      "               0.737 seconds (Total)\n",
      "\n",
      "\n",
      "Gradient evaluation took 0 seconds\n",
      "1000 transitions using 10 leapfrog steps per transition would take 0 seconds.\n",
      "Adjust your expectations accordingly!\n",
      "\n",
      "\n",
      "\n",
      " Elapsed Time: 0.618 seconds (Warm-up)\n",
      "               0.415 seconds (Sampling)\n",
      "               1.033 seconds (Total)\n",
      "\n",
      "\n",
      "Gradient evaluation took 0 seconds\n",
      "1000 transitions using 10 leapfrog steps per transition would take 0 seconds.\n",
      "Adjust your expectations accordingly!\n",
      "\n",
      "\n",
      "\n",
      " Elapsed Time: 0.767 seconds (Warm-up)\n",
      "               0.273 seconds (Sampling)\n",
      "               1.04 seconds (Total)\n",
      "\n"
     ]
    },
    {
     "name": "stderr",
     "output_type": "stream",
     "text": [
      "Compiling the C++ model\n",
      "Start sampling\n"
     ]
    },
    {
     "name": "stdout",
     "output_type": "stream",
     "text": [
      "\n",
      "Gradient evaluation took 0 seconds\n",
      "1000 transitions using 10 leapfrog steps per transition would take 0 seconds.\n",
      "Adjust your expectations accordingly!\n",
      "\n",
      "\n",
      "\n",
      " Elapsed Time: 1.252 seconds (Warm-up)\n",
      "               0.527 seconds (Sampling)\n",
      "               1.779 seconds (Total)\n",
      "\n",
      "\n",
      "Gradient evaluation took 0 seconds\n",
      "1000 transitions using 10 leapfrog steps per transition would take 0 seconds.\n",
      "Adjust your expectations accordingly!\n",
      "\n",
      "\n",
      "\n",
      " Elapsed Time: 1.011 seconds (Warm-up)\n",
      "               0.367 seconds (Sampling)\n",
      "               1.378 seconds (Total)\n",
      "\n",
      "\n",
      "Gradient evaluation took 0 seconds\n",
      "1000 transitions using 10 leapfrog steps per transition would take 0 seconds.\n",
      "Adjust your expectations accordingly!\n",
      "\n",
      "\n",
      "\n",
      " Elapsed Time: 0.865 seconds (Warm-up)\n",
      "               0.284 seconds (Sampling)\n",
      "               1.149 seconds (Total)\n",
      "\n",
      "\n",
      "Gradient evaluation took 0.001 seconds\n",
      "1000 transitions using 10 leapfrog steps per transition would take 10 seconds.\n",
      "Adjust your expectations accordingly!\n",
      "\n",
      "\n",
      "\n",
      " Elapsed Time: 0.847 seconds (Warm-up)\n",
      "               0.339 seconds (Sampling)\n",
      "               1.186 seconds (Total)\n",
      "\n"
     ]
    },
    {
     "name": "stderr",
     "output_type": "stream",
     "text": [
      "Compiling the C++ model\n",
      "Start sampling\n"
     ]
    },
    {
     "name": "stdout",
     "output_type": "stream",
     "text": [
      "\n",
      "Gradient evaluation took 0 seconds\n",
      "1000 transitions using 10 leapfrog steps per transition would take 0 seconds.\n",
      "Adjust your expectations accordingly!\n",
      "\n",
      "\n",
      "\n",
      " Elapsed Time: 0.795 seconds (Warm-up)\n",
      "               0.568 seconds (Sampling)\n",
      "               1.363 seconds (Total)\n",
      "\n",
      "\n",
      "Gradient evaluation took 0 seconds\n",
      "1000 transitions using 10 leapfrog steps per transition would take 0 seconds.\n",
      "Adjust your expectations accordingly!\n",
      "\n",
      "\n",
      "\n",
      " Elapsed Time: 0.832 seconds (Warm-up)\n",
      "               0.347 seconds (Sampling)\n",
      "               1.179 seconds (Total)\n",
      "\n",
      "\n",
      "Gradient evaluation took 0 seconds\n",
      "1000 transitions using 10 leapfrog steps per transition would take 0 seconds.\n",
      "Adjust your expectations accordingly!\n",
      "\n",
      "\n",
      "\n",
      " Elapsed Time: 0.935 seconds (Warm-up)\n",
      "               0.481 seconds (Sampling)\n",
      "               1.416 seconds (Total)\n",
      "\n",
      "\n",
      "Gradient evaluation took 0 seconds\n",
      "1000 transitions using 10 leapfrog steps per transition would take 0 seconds.\n",
      "Adjust your expectations accordingly!\n",
      "\n",
      "\n",
      "\n",
      " Elapsed Time: 1.409 seconds (Warm-up)\n",
      "               0.478 seconds (Sampling)\n",
      "               1.887 seconds (Total)\n",
      "\n",
      "Iteration: 1\n",
      "Iteration: 2\n",
      "Iteration: 3\n",
      "Iteration: 4\n",
      "Iteration: 5\n",
      "Iteration: 6\n",
      "Iteration: 7\n",
      "Iteration: 1\n",
      "Iteration: 2\n",
      "Iteration: 3\n",
      "Iteration: 4\n",
      "Iteration: 5\n",
      "Iteration: 1\n",
      "Iteration: 2\n",
      "Iteration: 3\n",
      "Iteration: 4\n",
      "Iteration: 5\n",
      "Iteration: 6\n",
      "Iteration: 1\n",
      "Iteration: 2\n",
      "Iteration: 3\n",
      "Iteration: 4\n",
      "Iteration: 5\n",
      "Iteration: 1\n",
      "Iteration: 2\n",
      "Iteration: 3\n",
      "Iteration: 4\n",
      "Iteration: 5\n",
      "Iteration: 6\n",
      "Iteration: 1\n",
      "Iteration: 2\n",
      "Iteration: 3\n",
      "Iteration: 4\n",
      "Iteration: 5\n",
      "Iteration: 6\n",
      "Iteration: 7\n"
     ]
    }
   ],
   "source": [
    "result <- get_bf_k(data)"
   ]
  },
  {
   "cell_type": "code",
   "execution_count": 8,
   "metadata": {},
   "outputs": [
    {
     "data": {
      "text/html": [
       "<table>\n",
       "<thead><tr><th scope=col>bf_task</th><th scope=col>bf_order</th><th scope=col>bf_inter</th></tr></thead>\n",
       "<tbody>\n",
       "\t<tr><td>0.07116627 </td><td>0.2838512  </td><td>0.004882093</td></tr>\n",
       "</tbody>\n",
       "</table>\n"
      ],
      "text/latex": [
       "\\begin{tabular}{lll}\n",
       " bf\\_task & bf\\_order & bf\\_inter\\\\\n",
       "\\hline\n",
       "\t 0.07116627  & 0.2838512   & 0.004882093\\\\\n",
       "\\end{tabular}\n"
      ],
      "text/markdown": [
       "\n",
       "bf_task | bf_order | bf_inter | \n",
       "|---|\n",
       "| 0.07116627  | 0.2838512   | 0.004882093 | \n",
       "\n",
       "\n"
      ],
      "text/plain": [
       "     bf_task    bf_order  bf_inter   \n",
       "[1,] 0.07116627 0.2838512 0.004882093"
      ]
     },
     "metadata": {},
     "output_type": "display_data"
    }
   ],
   "source": [
    "result$bf"
   ]
  },
  {
   "cell_type": "code",
   "execution_count": 19,
   "metadata": {},
   "outputs": [],
   "source": [
    "hpd_task<-HPDinterval(as.mcmc(result$m_task, combine_chains = TRUE))\n",
    "hpd_order<-HPDinterval(as.mcmc(result$m_order, combine_chains = TRUE))\n",
    "# hpd_bias<-HPDinterval(as.mcmc(result$m_bias, combine_chains = TRUE))"
   ]
  },
  {
   "cell_type": "code",
   "execution_count": 21,
   "metadata": {},
   "outputs": [
    {
     "data": {},
     "metadata": {},
     "output_type": "display_data"
    },
    {
     "data": {
      "image/png": "[encoded data removed]",
      "text/plain": [
       "plot without title"
      ]
     },
     "metadata": {},
     "output_type": "display_data"
    }
   ],
   "source": [
    "mcmc_areas_ridges(as.matrix(as.mcmc(result$m_order, combine_chains = TRUE)), regex_pars = \"b_order\", prob=0.95)"
   ]
  },
  {
   "cell_type": "code",
   "execution_count": 20,
   "metadata": {
    "scrolled": true
   },
   "outputs": [
    {
     "data": {
      "text/html": [
       "<dl class=dl-horizontal>\n",
       "\t<dt>lower</dt>\n",
       "\t\t<dd>-0.0866453340941229</dd>\n",
       "\t<dt>upper</dt>\n",
       "\t\t<dd>-0.0345070718976646</dd>\n",
       "</dl>\n"
      ],
      "text/latex": [
       "\\begin{description*}\n",
       "\\item[lower] -0.0866453340941229\n",
       "\\item[upper] -0.0345070718976646\n",
       "\\end{description*}\n"
      ],
      "text/markdown": [
       "lower\n",
       ":   -0.0866453340941229upper\n",
       ":   -0.0345070718976646\n",
       "\n"
      ],
      "text/plain": [
       "      lower       upper \n",
       "-0.08664533 -0.03450707 "
      ]
     },
     "metadata": {},
     "output_type": "display_data"
    }
   ],
   "source": [
    "# hpd_task['b_taskwalking',]\n",
    "hpd_order['b_order2',]\n",
    "# hpd_bias"
   ]
  }
 ],
 "metadata": {
  "kernelspec": {
   "display_name": "R",
   "language": "R",
   "name": "ir"
  },
  "language_info": {
   "codemirror_mode": "r",
   "file_extension": ".r",
   "mimetype": "text/x-r-source",
   "name": "R",
   "pygments_lexer": "r",
   "version": "3.5.1"
  }
 },
 "nbformat": 4,
 "nbformat_minor": 2
}
