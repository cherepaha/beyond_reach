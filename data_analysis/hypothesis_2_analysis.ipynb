{
 "cells": [
  {
   "cell_type": "code",
   "execution_count": 1,
   "metadata": {
    "scrolled": false
   },
   "outputs": [
    {
     "name": "stderr",
     "output_type": "stream",
     "text": [
      "Loading required package: Rcpp\n",
      "Registered S3 method overwritten by 'xts':\n",
      "  method     from\n",
      "  as.zoo.xts zoo \n",
      "Loading 'brms' package (version 2.9.0). Useful instructions\n",
      "can be found by typing help('brms'). A more detailed introduction\n",
      "to the package is available through vignette('brms_overview').\n",
      "\n",
      "Attaching package: 'ggstance'\n",
      "\n",
      "The following objects are masked from 'package:ggplot2':\n",
      "\n",
      "    geom_errorbarh, GeomErrorbarh\n",
      "\n",
      "Loading required package: viridisLite\n",
      "\n",
      "Attaching package: 'data.table'\n",
      "\n",
      "The following objects are masked from 'package:reshape2':\n",
      "\n",
      "    dcast, melt\n",
      "\n",
      "This is bayesplot version 1.7.0\n",
      "- Online documentation and vignettes at mc-stan.org/bayesplot\n",
      "- bayesplot theme set to bayesplot::theme_default()\n",
      "   * Does _not_ affect other ggplot2 plots\n",
      "   * See ?bayesplot_theme_set for details on theme setting\n",
      "Loading required package: MASS\n",
      "Loading required package: survival\n",
      "\n",
      "Attaching package: 'survival'\n",
      "\n",
      "The following object is masked from 'package:brms':\n",
      "\n",
      "    kidney\n",
      "\n",
      "Loading required package: npsurv\n",
      "Loading required package: lsei\n",
      "Loading required package: Matrix\n",
      "\n",
      "Attaching package: 'arules'\n",
      "\n",
      "The following objects are masked from 'package:base':\n",
      "\n",
      "    abbreviate, write\n",
      "\n"
     ]
    }
   ],
   "source": [
    "library(ggplot2)\n",
    "library(ggExtra)\n",
    "library(brms)\n",
    "library(reshape2)\n",
    "library(coda)\n",
    "library(tidybayes)\n",
    "library(ggstance)\n",
    "library(viridis)\n",
    "library(latex2exp)\n",
    "library(ggthemes)\n",
    "library(data.table)\n",
    "library(bayesplot)\n",
    "library(fitdistrplus)\n",
    "library(bda)\n",
    "library(arules)"
   ]
  },
  {
   "cell_type": "code",
   "execution_count": 2,
   "metadata": {},
   "outputs": [],
   "source": [
    "data_path <- \"C:/Users/azgonnikov/Google Drive/data/beyond_reach\"\n",
    "table_path <- \"C:/Users/azgonnikov/Dropbox/Research/Journal papers/2019 Beyond reach/tables\""
   ]
  },
  {
   "cell_type": "code",
   "execution_count": 3,
   "metadata": {
    "scrolled": true
   },
   "outputs": [],
   "source": [
    "get_k_data <- function(data_path, file_name){\n",
    "    data <- read.table(file.path(data_path, file_name), header = TRUE, sep = \"\\t\")\n",
    "    data[, 'subj_id'] <- factor(data[, 'subj_id'])  \n",
    "    data$AUC <- 1 - data$k\n",
    "\n",
    "    return(data)\n",
    "}"
   ]
  },
  {
   "cell_type": "code",
   "execution_count": 33,
   "metadata": {},
   "outputs": [],
   "source": [
    "get_bf_k <- function(data, var, family, rscale, n=1){   \n",
    "    # sd(var) in this case is 0.5, as var is task (equal number of 0's and 1's)\n",
    "    priors_task <- c(set_prior(sprintf('normal(%f, %f)', mean(data[, var]), sd(data[, var])), class='Intercept'),\n",
    "                    set_prior(sprintf('cauchy(0.0, %f)', rscale*sd(data[, var])/0.5), class='b'))\n",
    "\n",
    "    formula_null <- as.formula(paste(var, \"~ (1 | subj_id)\"))\n",
    "    formula_task <- as.formula(paste(var, \"~ (1 | subj_id) + task\"))\n",
    "    formula_session <- as.formula(paste(var, \"~ (1 | subj_id) + session\"))\n",
    "    formula_inter <- as.formula(paste(var, \"~ (1 | subj_id) + task*session\"))\n",
    "\n",
    "    m_null <- brm(formula_null, data=data, family=family, save_all_pars=TRUE, prior=priors_task[1,],\n",
    "                  refresh=0, control = list(adapt_delta = 0.9, max_treedepth=15))\n",
    "    m_task <- brm(formula_task, data=data, family=family, save_all_pars=TRUE, prior=priors_task, \n",
    "                  refresh=0, control = list(adapt_delta = 0.9, max_treedepth=15))    \n",
    "    m_session <- brm(formula_session, data=data, family=family, save_all_pars=TRUE, prior=priors_task, \n",
    "                  refresh=0, control = list(adapt_delta = 0.9, max_treedepth=15))\n",
    "\n",
    "    bfs <- data.frame(double(), double())\n",
    "    \n",
    "    for (i in 1:n) {\n",
    "        bf <- t(c(bayes_factor(x1=m_task, x2=m_null, silent=TRUE)$bf, \n",
    "                  bayes_factor(x1=m_session, x2=m_null, silent=TRUE)$bf))\n",
    "\n",
    "        bfs <- rbind(bfs, bf)\n",
    "    }\n",
    "    colnames(bfs) <- c('bf_task', 'bf_session')\n",
    "    result = list(bf=colMeans(bfs),  \n",
    "                  m_null=m_null, \n",
    "                  m_task=m_task, \n",
    "                  m_session=m_session)    \n",
    "    return(result)\n",
    "}\n",
    "\n",
    "save_posterior <- function(model, file_name){    \n",
    "    write.csv(as.matrix(as.mcmc(model, combine_chains=TRUE)), \n",
    "              file=file.path(\"posterior_csv\", file_name), row.names=FALSE)\n",
    "}\n",
    "\n",
    "show_result <- function(result) {\n",
    "    print(\"Bayes factors: \")\n",
    "    print(result$bf)\n",
    "    hpd_task<-HPDinterval(as.mcmc(result$m_task, combine_chains = TRUE))\n",
    "    hpd_session<-HPDinterval(as.mcmc(result$m_session, combine_chains = TRUE))\n",
    "    print(\"Credible interval for the task effect (walking relative to mouse): \")\n",
    "    print(hpd_task['b_taskwalking',])\n",
    "    print(\"Credible interval for the session effect (2nd session relative to 1st): \")\n",
    "    print(hpd_session['b_sessionsecond',])\n",
    "}"
   ]
  },
  {
   "cell_type": "markdown",
   "metadata": {},
   "source": [
    "# Preregistered analysis"
   ]
  },
  {
   "cell_type": "code",
   "execution_count": 5,
   "metadata": {},
   "outputs": [
    {
     "name": "stdout",
     "output_type": "stream",
     "text": [
      "[1] 108\n"
     ]
    }
   ],
   "source": [
    "data <- get_k_data(data_path, \"k_values.csv\")\n",
    "print(nrow(data))"
   ]
  },
  {
   "cell_type": "code",
   "execution_count": 6,
   "metadata": {
    "scrolled": true
   },
   "outputs": [
    {
     "data": {
      "text/html": [
       "<table>\n",
       "<caption>A data.frame: 108 × 6</caption>\n",
       "<thead>\n",
       "\t<tr><th scope=col>subj_id</th><th scope=col>task</th><th scope=col>k</th><th scope=col>session</th><th scope=col>sequence</th><th scope=col>AUC</th></tr>\n",
       "\t<tr><th scope=col>&lt;fct&gt;</th><th scope=col>&lt;fct&gt;</th><th scope=col>&lt;dbl&gt;</th><th scope=col>&lt;fct&gt;</th><th scope=col>&lt;fct&gt;</th><th scope=col>&lt;dbl&gt;</th></tr>\n",
       "</thead>\n",
       "<tbody>\n",
       "\t<tr><td>1322</td><td>mouse</td><td>0.9308362</td><td>first </td><td>mw</td><td>0.069163813</td></tr>\n",
       "\t<tr><td>1402</td><td>mouse</td><td>0.9709332</td><td>first </td><td>mw</td><td>0.029066781</td></tr>\n",
       "\t<tr><td>1408</td><td>mouse</td><td>0.3992865</td><td>second</td><td>wm</td><td>0.600713470</td></tr>\n",
       "\t<tr><td>1474</td><td>mouse</td><td>0.8782820</td><td>first </td><td>mw</td><td>0.121718037</td></tr>\n",
       "\t<tr><td>1879</td><td>mouse</td><td>0.8247432</td><td>second</td><td>wm</td><td>0.175256849</td></tr>\n",
       "\t<tr><td>2045</td><td>mouse</td><td>0.7083333</td><td>first </td><td>mw</td><td>0.291666667</td></tr>\n",
       "\t<tr><td>2249</td><td>mouse</td><td>0.9592894</td><td>first </td><td>mw</td><td>0.040710616</td></tr>\n",
       "\t<tr><td>2261</td><td>mouse</td><td>0.8950342</td><td>first </td><td>mw</td><td>0.104965753</td></tr>\n",
       "\t<tr><td>2752</td><td>mouse</td><td>0.9533818</td><td>second</td><td>wm</td><td>0.046618151</td></tr>\n",
       "\t<tr><td>2758</td><td>mouse</td><td>0.8973316</td><td>second</td><td>wm</td><td>0.102668379</td></tr>\n",
       "\t<tr><td>3713</td><td>mouse</td><td>0.9335331</td><td>first </td><td>mw</td><td>0.066466895</td></tr>\n",
       "\t<tr><td>3720</td><td>mouse</td><td>0.9583048</td><td>first </td><td>mw</td><td>0.041695205</td></tr>\n",
       "\t<tr><td>4037</td><td>mouse</td><td>0.2355594</td><td>second</td><td>wm</td><td>0.764440639</td></tr>\n",
       "\t<tr><td>4413</td><td>mouse</td><td>0.8997146</td><td>first </td><td>mw</td><td>0.100285388</td></tr>\n",
       "\t<tr><td>4422</td><td>mouse</td><td>0.9092751</td><td>first </td><td>mw</td><td>0.090724886</td></tr>\n",
       "\t<tr><td>4441</td><td>mouse</td><td>0.8930793</td><td>second</td><td>wm</td><td>0.106920662</td></tr>\n",
       "\t<tr><td>5181</td><td>mouse</td><td>0.8888413</td><td>first </td><td>mw</td><td>0.111158676</td></tr>\n",
       "\t<tr><td>5390</td><td>mouse</td><td>0.7814070</td><td>second</td><td>wm</td><td>0.218593037</td></tr>\n",
       "\t<tr><td>5399</td><td>mouse</td><td>0.9350029</td><td>second</td><td>wm</td><td>0.064997146</td></tr>\n",
       "\t<tr><td>5571</td><td>mouse</td><td>0.9927083</td><td>first </td><td>mw</td><td>0.007291667</td></tr>\n",
       "\t<tr><td>5752</td><td>mouse</td><td>0.9499429</td><td>second</td><td>wm</td><td>0.050057078</td></tr>\n",
       "\t<tr><td>5778</td><td>mouse</td><td>0.7179509</td><td>first </td><td>mw</td><td>0.282049087</td></tr>\n",
       "\t<tr><td>5781</td><td>mouse</td><td>0.7934361</td><td>first </td><td>mw</td><td>0.206563927</td></tr>\n",
       "\t<tr><td>5813</td><td>mouse</td><td>0.9071204</td><td>first </td><td>mw</td><td>0.092879566</td></tr>\n",
       "\t<tr><td>5950</td><td>mouse</td><td>0.6800514</td><td>second</td><td>wm</td><td>0.319948630</td></tr>\n",
       "\t<tr><td>5953</td><td>mouse</td><td>0.6502568</td><td>first </td><td>mw</td><td>0.349743151</td></tr>\n",
       "\t<tr><td>5966</td><td>mouse</td><td>0.7860017</td><td>first </td><td>mw</td><td>0.213998288</td></tr>\n",
       "\t<tr><td>5985</td><td>mouse</td><td>0.9869150</td><td>second</td><td>wm</td><td>0.013085046</td></tr>\n",
       "\t<tr><td>6022</td><td>mouse</td><td>0.9484161</td><td>second</td><td>wm</td><td>0.051583904</td></tr>\n",
       "\t<tr><td>6025</td><td>mouse</td><td>0.7600171</td><td>second</td><td>wm</td><td>0.239982877</td></tr>\n",
       "\t<tr><td>...</td><td>...</td><td>...</td><td>...</td><td>...</td><td>...</td></tr>\n",
       "\t<tr><td>5950</td><td>walking</td><td>0.9598031</td><td>first </td><td>wm</td><td>0.04019692</td></tr>\n",
       "\t<tr><td>5953</td><td>walking</td><td>0.6005708</td><td>second</td><td>mw</td><td>0.39942922</td></tr>\n",
       "\t<tr><td>5966</td><td>walking</td><td>0.6124001</td><td>second</td><td>mw</td><td>0.38759989</td></tr>\n",
       "\t<tr><td>5985</td><td>walking</td><td>0.9796804</td><td>first </td><td>wm</td><td>0.02031963</td></tr>\n",
       "\t<tr><td>6022</td><td>walking</td><td>0.9492437</td><td>first </td><td>wm</td><td>0.05075628</td></tr>\n",
       "\t<tr><td>6025</td><td>walking</td><td>0.8637414</td><td>first </td><td>wm</td><td>0.13625856</td></tr>\n",
       "\t<tr><td>6076</td><td>walking</td><td>0.5988870</td><td>second</td><td>mw</td><td>0.40111301</td></tr>\n",
       "\t<tr><td>6131</td><td>walking</td><td>0.9768408</td><td>second</td><td>mw</td><td>0.02315925</td></tr>\n",
       "\t<tr><td>6147</td><td>walking</td><td>0.9037814</td><td>first </td><td>wm</td><td>0.09621861</td></tr>\n",
       "\t<tr><td>6179</td><td>walking</td><td>0.3477454</td><td>first </td><td>wm</td><td>0.65225457</td></tr>\n",
       "\t<tr><td>6306</td><td>walking</td><td>0.9852597</td><td>second</td><td>mw</td><td>0.01474030</td></tr>\n",
       "\t<tr><td>6343</td><td>walking</td><td>0.7542523</td><td>second</td><td>mw</td><td>0.24574772</td></tr>\n",
       "\t<tr><td>6573</td><td>walking</td><td>0.5139555</td><td>first </td><td>wm</td><td>0.48604452</td></tr>\n",
       "\t<tr><td>6688</td><td>walking</td><td>0.8666809</td><td>first </td><td>wm</td><td>0.13331906</td></tr>\n",
       "\t<tr><td>6703</td><td>walking</td><td>0.9093750</td><td>second</td><td>mw</td><td>0.09062500</td></tr>\n",
       "\t<tr><td>6920</td><td>walking</td><td>0.7005422</td><td>first </td><td>wm</td><td>0.29945776</td></tr>\n",
       "\t<tr><td>7331</td><td>walking</td><td>0.7264840</td><td>second</td><td>mw</td><td>0.27351598</td></tr>\n",
       "\t<tr><td>7500</td><td>walking</td><td>0.9044235</td><td>first </td><td>wm</td><td>0.09557648</td></tr>\n",
       "\t<tr><td>7502</td><td>walking</td><td>0.6777683</td><td>second</td><td>mw</td><td>0.32223174</td></tr>\n",
       "\t<tr><td>7921</td><td>walking</td><td>0.9767837</td><td>first </td><td>wm</td><td>0.02321632</td></tr>\n",
       "\t<tr><td>7993</td><td>walking</td><td>0.9224743</td><td>first </td><td>wm</td><td>0.07752568</td></tr>\n",
       "\t<tr><td>7998</td><td>walking</td><td>0.7115439</td><td>second</td><td>mw</td><td>0.28845605</td></tr>\n",
       "\t<tr><td>8044</td><td>walking</td><td>0.7383276</td><td>first </td><td>wm</td><td>0.26167237</td></tr>\n",
       "\t<tr><td>8946</td><td>walking</td><td>0.6497574</td><td>second</td><td>mw</td><td>0.35024258</td></tr>\n",
       "\t<tr><td>9155</td><td>walking</td><td>0.9475885</td><td>first </td><td>wm</td><td>0.05241153</td></tr>\n",
       "\t<tr><td>9709</td><td>walking</td><td>0.4437215</td><td>second</td><td>mw</td><td>0.55627854</td></tr>\n",
       "\t<tr><td>9711</td><td>walking</td><td>0.3359589</td><td>second</td><td>mw</td><td>0.66404110</td></tr>\n",
       "\t<tr><td>9792</td><td>walking</td><td>0.6744863</td><td>first </td><td>wm</td><td>0.32551370</td></tr>\n",
       "\t<tr><td>9864</td><td>walking</td><td>0.8644692</td><td>first </td><td>wm</td><td>0.13553082</td></tr>\n",
       "\t<tr><td>9970</td><td>walking</td><td>0.8110873</td><td>first </td><td>wm</td><td>0.18891267</td></tr>\n",
       "</tbody>\n",
       "</table>\n"
      ],
      "text/latex": [
       "A data.frame: 108 × 6\n",
       "\\begin{tabular}{r|llllll}\n",
       " subj\\_id & task & k & session & sequence & AUC\\\\\n",
       " <fct> & <fct> & <dbl> & <fct> & <fct> & <dbl>\\\\\n",
       "\\hline\n",
       "\t 1322 & mouse & 0.9308362 & first  & mw & 0.069163813\\\\\n",
       "\t 1402 & mouse & 0.9709332 & first  & mw & 0.029066781\\\\\n",
       "\t 1408 & mouse & 0.3992865 & second & wm & 0.600713470\\\\\n",
       "\t 1474 & mouse & 0.8782820 & first  & mw & 0.121718037\\\\\n",
       "\t 1879 & mouse & 0.8247432 & second & wm & 0.175256849\\\\\n",
       "\t 2045 & mouse & 0.7083333 & first  & mw & 0.291666667\\\\\n",
       "\t 2249 & mouse & 0.9592894 & first  & mw & 0.040710616\\\\\n",
       "\t 2261 & mouse & 0.8950342 & first  & mw & 0.104965753\\\\\n",
       "\t 2752 & mouse & 0.9533818 & second & wm & 0.046618151\\\\\n",
       "\t 2758 & mouse & 0.8973316 & second & wm & 0.102668379\\\\\n",
       "\t 3713 & mouse & 0.9335331 & first  & mw & 0.066466895\\\\\n",
       "\t 3720 & mouse & 0.9583048 & first  & mw & 0.041695205\\\\\n",
       "\t 4037 & mouse & 0.2355594 & second & wm & 0.764440639\\\\\n",
       "\t 4413 & mouse & 0.8997146 & first  & mw & 0.100285388\\\\\n",
       "\t 4422 & mouse & 0.9092751 & first  & mw & 0.090724886\\\\\n",
       "\t 4441 & mouse & 0.8930793 & second & wm & 0.106920662\\\\\n",
       "\t 5181 & mouse & 0.8888413 & first  & mw & 0.111158676\\\\\n",
       "\t 5390 & mouse & 0.7814070 & second & wm & 0.218593037\\\\\n",
       "\t 5399 & mouse & 0.9350029 & second & wm & 0.064997146\\\\\n",
       "\t 5571 & mouse & 0.9927083 & first  & mw & 0.007291667\\\\\n",
       "\t 5752 & mouse & 0.9499429 & second & wm & 0.050057078\\\\\n",
       "\t 5778 & mouse & 0.7179509 & first  & mw & 0.282049087\\\\\n",
       "\t 5781 & mouse & 0.7934361 & first  & mw & 0.206563927\\\\\n",
       "\t 5813 & mouse & 0.9071204 & first  & mw & 0.092879566\\\\\n",
       "\t 5950 & mouse & 0.6800514 & second & wm & 0.319948630\\\\\n",
       "\t 5953 & mouse & 0.6502568 & first  & mw & 0.349743151\\\\\n",
       "\t 5966 & mouse & 0.7860017 & first  & mw & 0.213998288\\\\\n",
       "\t 5985 & mouse & 0.9869150 & second & wm & 0.013085046\\\\\n",
       "\t 6022 & mouse & 0.9484161 & second & wm & 0.051583904\\\\\n",
       "\t 6025 & mouse & 0.7600171 & second & wm & 0.239982877\\\\\n",
       "\t ... & ... & ... & ... & ... & ...\\\\\n",
       "\t 5950 & walking & 0.9598031 & first  & wm & 0.04019692\\\\\n",
       "\t 5953 & walking & 0.6005708 & second & mw & 0.39942922\\\\\n",
       "\t 5966 & walking & 0.6124001 & second & mw & 0.38759989\\\\\n",
       "\t 5985 & walking & 0.9796804 & first  & wm & 0.02031963\\\\\n",
       "\t 6022 & walking & 0.9492437 & first  & wm & 0.05075628\\\\\n",
       "\t 6025 & walking & 0.8637414 & first  & wm & 0.13625856\\\\\n",
       "\t 6076 & walking & 0.5988870 & second & mw & 0.40111301\\\\\n",
       "\t 6131 & walking & 0.9768408 & second & mw & 0.02315925\\\\\n",
       "\t 6147 & walking & 0.9037814 & first  & wm & 0.09621861\\\\\n",
       "\t 6179 & walking & 0.3477454 & first  & wm & 0.65225457\\\\\n",
       "\t 6306 & walking & 0.9852597 & second & mw & 0.01474030\\\\\n",
       "\t 6343 & walking & 0.7542523 & second & mw & 0.24574772\\\\\n",
       "\t 6573 & walking & 0.5139555 & first  & wm & 0.48604452\\\\\n",
       "\t 6688 & walking & 0.8666809 & first  & wm & 0.13331906\\\\\n",
       "\t 6703 & walking & 0.9093750 & second & mw & 0.09062500\\\\\n",
       "\t 6920 & walking & 0.7005422 & first  & wm & 0.29945776\\\\\n",
       "\t 7331 & walking & 0.7264840 & second & mw & 0.27351598\\\\\n",
       "\t 7500 & walking & 0.9044235 & first  & wm & 0.09557648\\\\\n",
       "\t 7502 & walking & 0.6777683 & second & mw & 0.32223174\\\\\n",
       "\t 7921 & walking & 0.9767837 & first  & wm & 0.02321632\\\\\n",
       "\t 7993 & walking & 0.9224743 & first  & wm & 0.07752568\\\\\n",
       "\t 7998 & walking & 0.7115439 & second & mw & 0.28845605\\\\\n",
       "\t 8044 & walking & 0.7383276 & first  & wm & 0.26167237\\\\\n",
       "\t 8946 & walking & 0.6497574 & second & mw & 0.35024258\\\\\n",
       "\t 9155 & walking & 0.9475885 & first  & wm & 0.05241153\\\\\n",
       "\t 9709 & walking & 0.4437215 & second & mw & 0.55627854\\\\\n",
       "\t 9711 & walking & 0.3359589 & second & mw & 0.66404110\\\\\n",
       "\t 9792 & walking & 0.6744863 & first  & wm & 0.32551370\\\\\n",
       "\t 9864 & walking & 0.8644692 & first  & wm & 0.13553082\\\\\n",
       "\t 9970 & walking & 0.8110873 & first  & wm & 0.18891267\\\\\n",
       "\\end{tabular}\n"
      ],
      "text/markdown": [
       "\n",
       "A data.frame: 108 × 6\n",
       "\n",
       "| subj_id &lt;fct&gt; | task &lt;fct&gt; | k &lt;dbl&gt; | session &lt;fct&gt; | sequence &lt;fct&gt; | AUC &lt;dbl&gt; |\n",
       "|---|---|---|---|---|---|\n",
       "| 1322 | mouse | 0.9308362 | first  | mw | 0.069163813 |\n",
       "| 1402 | mouse | 0.9709332 | first  | mw | 0.029066781 |\n",
       "| 1408 | mouse | 0.3992865 | second | wm | 0.600713470 |\n",
       "| 1474 | mouse | 0.8782820 | first  | mw | 0.121718037 |\n",
       "| 1879 | mouse | 0.8247432 | second | wm | 0.175256849 |\n",
       "| 2045 | mouse | 0.7083333 | first  | mw | 0.291666667 |\n",
       "| 2249 | mouse | 0.9592894 | first  | mw | 0.040710616 |\n",
       "| 2261 | mouse | 0.8950342 | first  | mw | 0.104965753 |\n",
       "| 2752 | mouse | 0.9533818 | second | wm | 0.046618151 |\n",
       "| 2758 | mouse | 0.8973316 | second | wm | 0.102668379 |\n",
       "| 3713 | mouse | 0.9335331 | first  | mw | 0.066466895 |\n",
       "| 3720 | mouse | 0.9583048 | first  | mw | 0.041695205 |\n",
       "| 4037 | mouse | 0.2355594 | second | wm | 0.764440639 |\n",
       "| 4413 | mouse | 0.8997146 | first  | mw | 0.100285388 |\n",
       "| 4422 | mouse | 0.9092751 | first  | mw | 0.090724886 |\n",
       "| 4441 | mouse | 0.8930793 | second | wm | 0.106920662 |\n",
       "| 5181 | mouse | 0.8888413 | first  | mw | 0.111158676 |\n",
       "| 5390 | mouse | 0.7814070 | second | wm | 0.218593037 |\n",
       "| 5399 | mouse | 0.9350029 | second | wm | 0.064997146 |\n",
       "| 5571 | mouse | 0.9927083 | first  | mw | 0.007291667 |\n",
       "| 5752 | mouse | 0.9499429 | second | wm | 0.050057078 |\n",
       "| 5778 | mouse | 0.7179509 | first  | mw | 0.282049087 |\n",
       "| 5781 | mouse | 0.7934361 | first  | mw | 0.206563927 |\n",
       "| 5813 | mouse | 0.9071204 | first  | mw | 0.092879566 |\n",
       "| 5950 | mouse | 0.6800514 | second | wm | 0.319948630 |\n",
       "| 5953 | mouse | 0.6502568 | first  | mw | 0.349743151 |\n",
       "| 5966 | mouse | 0.7860017 | first  | mw | 0.213998288 |\n",
       "| 5985 | mouse | 0.9869150 | second | wm | 0.013085046 |\n",
       "| 6022 | mouse | 0.9484161 | second | wm | 0.051583904 |\n",
       "| 6025 | mouse | 0.7600171 | second | wm | 0.239982877 |\n",
       "| ... | ... | ... | ... | ... | ... |\n",
       "| 5950 | walking | 0.9598031 | first  | wm | 0.04019692 |\n",
       "| 5953 | walking | 0.6005708 | second | mw | 0.39942922 |\n",
       "| 5966 | walking | 0.6124001 | second | mw | 0.38759989 |\n",
       "| 5985 | walking | 0.9796804 | first  | wm | 0.02031963 |\n",
       "| 6022 | walking | 0.9492437 | first  | wm | 0.05075628 |\n",
       "| 6025 | walking | 0.8637414 | first  | wm | 0.13625856 |\n",
       "| 6076 | walking | 0.5988870 | second | mw | 0.40111301 |\n",
       "| 6131 | walking | 0.9768408 | second | mw | 0.02315925 |\n",
       "| 6147 | walking | 0.9037814 | first  | wm | 0.09621861 |\n",
       "| 6179 | walking | 0.3477454 | first  | wm | 0.65225457 |\n",
       "| 6306 | walking | 0.9852597 | second | mw | 0.01474030 |\n",
       "| 6343 | walking | 0.7542523 | second | mw | 0.24574772 |\n",
       "| 6573 | walking | 0.5139555 | first  | wm | 0.48604452 |\n",
       "| 6688 | walking | 0.8666809 | first  | wm | 0.13331906 |\n",
       "| 6703 | walking | 0.9093750 | second | mw | 0.09062500 |\n",
       "| 6920 | walking | 0.7005422 | first  | wm | 0.29945776 |\n",
       "| 7331 | walking | 0.7264840 | second | mw | 0.27351598 |\n",
       "| 7500 | walking | 0.9044235 | first  | wm | 0.09557648 |\n",
       "| 7502 | walking | 0.6777683 | second | mw | 0.32223174 |\n",
       "| 7921 | walking | 0.9767837 | first  | wm | 0.02321632 |\n",
       "| 7993 | walking | 0.9224743 | first  | wm | 0.07752568 |\n",
       "| 7998 | walking | 0.7115439 | second | mw | 0.28845605 |\n",
       "| 8044 | walking | 0.7383276 | first  | wm | 0.26167237 |\n",
       "| 8946 | walking | 0.6497574 | second | mw | 0.35024258 |\n",
       "| 9155 | walking | 0.9475885 | first  | wm | 0.05241153 |\n",
       "| 9709 | walking | 0.4437215 | second | mw | 0.55627854 |\n",
       "| 9711 | walking | 0.3359589 | second | mw | 0.66404110 |\n",
       "| 9792 | walking | 0.6744863 | first  | wm | 0.32551370 |\n",
       "| 9864 | walking | 0.8644692 | first  | wm | 0.13553082 |\n",
       "| 9970 | walking | 0.8110873 | first  | wm | 0.18891267 |\n",
       "\n"
      ],
      "text/plain": [
       "    subj_id task    k         session sequence AUC        \n",
       "1   1322    mouse   0.9308362 first   mw       0.069163813\n",
       "2   1402    mouse   0.9709332 first   mw       0.029066781\n",
       "3   1408    mouse   0.3992865 second  wm       0.600713470\n",
       "4   1474    mouse   0.8782820 first   mw       0.121718037\n",
       "5   1879    mouse   0.8247432 second  wm       0.175256849\n",
       "6   2045    mouse   0.7083333 first   mw       0.291666667\n",
       "7   2249    mouse   0.9592894 first   mw       0.040710616\n",
       "8   2261    mouse   0.8950342 first   mw       0.104965753\n",
       "9   2752    mouse   0.9533818 second  wm       0.046618151\n",
       "10  2758    mouse   0.8973316 second  wm       0.102668379\n",
       "11  3713    mouse   0.9335331 first   mw       0.066466895\n",
       "12  3720    mouse   0.9583048 first   mw       0.041695205\n",
       "13  4037    mouse   0.2355594 second  wm       0.764440639\n",
       "14  4413    mouse   0.8997146 first   mw       0.100285388\n",
       "15  4422    mouse   0.9092751 first   mw       0.090724886\n",
       "16  4441    mouse   0.8930793 second  wm       0.106920662\n",
       "17  5181    mouse   0.8888413 first   mw       0.111158676\n",
       "18  5390    mouse   0.7814070 second  wm       0.218593037\n",
       "19  5399    mouse   0.9350029 second  wm       0.064997146\n",
       "20  5571    mouse   0.9927083 first   mw       0.007291667\n",
       "21  5752    mouse   0.9499429 second  wm       0.050057078\n",
       "22  5778    mouse   0.7179509 first   mw       0.282049087\n",
       "23  5781    mouse   0.7934361 first   mw       0.206563927\n",
       "24  5813    mouse   0.9071204 first   mw       0.092879566\n",
       "25  5950    mouse   0.6800514 second  wm       0.319948630\n",
       "26  5953    mouse   0.6502568 first   mw       0.349743151\n",
       "27  5966    mouse   0.7860017 first   mw       0.213998288\n",
       "28  5985    mouse   0.9869150 second  wm       0.013085046\n",
       "29  6022    mouse   0.9484161 second  wm       0.051583904\n",
       "30  6025    mouse   0.7600171 second  wm       0.239982877\n",
       "... ...     ...     ...       ...     ...      ...        \n",
       "79  5950    walking 0.9598031 first   wm       0.04019692 \n",
       "80  5953    walking 0.6005708 second  mw       0.39942922 \n",
       "81  5966    walking 0.6124001 second  mw       0.38759989 \n",
       "82  5985    walking 0.9796804 first   wm       0.02031963 \n",
       "83  6022    walking 0.9492437 first   wm       0.05075628 \n",
       "84  6025    walking 0.8637414 first   wm       0.13625856 \n",
       "85  6076    walking 0.5988870 second  mw       0.40111301 \n",
       "86  6131    walking 0.9768408 second  mw       0.02315925 \n",
       "87  6147    walking 0.9037814 first   wm       0.09621861 \n",
       "88  6179    walking 0.3477454 first   wm       0.65225457 \n",
       "89  6306    walking 0.9852597 second  mw       0.01474030 \n",
       "90  6343    walking 0.7542523 second  mw       0.24574772 \n",
       "91  6573    walking 0.5139555 first   wm       0.48604452 \n",
       "92  6688    walking 0.8666809 first   wm       0.13331906 \n",
       "93  6703    walking 0.9093750 second  mw       0.09062500 \n",
       "94  6920    walking 0.7005422 first   wm       0.29945776 \n",
       "95  7331    walking 0.7264840 second  mw       0.27351598 \n",
       "96  7500    walking 0.9044235 first   wm       0.09557648 \n",
       "97  7502    walking 0.6777683 second  mw       0.32223174 \n",
       "98  7921    walking 0.9767837 first   wm       0.02321632 \n",
       "99  7993    walking 0.9224743 first   wm       0.07752568 \n",
       "100 7998    walking 0.7115439 second  mw       0.28845605 \n",
       "101 8044    walking 0.7383276 first   wm       0.26167237 \n",
       "102 8946    walking 0.6497574 second  mw       0.35024258 \n",
       "103 9155    walking 0.9475885 first   wm       0.05241153 \n",
       "104 9709    walking 0.4437215 second  mw       0.55627854 \n",
       "105 9711    walking 0.3359589 second  mw       0.66404110 \n",
       "106 9792    walking 0.6744863 first   wm       0.32551370 \n",
       "107 9864    walking 0.8644692 first   wm       0.13553082 \n",
       "108 9970    walking 0.8110873 first   wm       0.18891267 "
      ]
     },
     "metadata": {},
     "output_type": "display_data"
    }
   ],
   "source": [
    "data"
   ]
  },
  {
   "cell_type": "markdown",
   "metadata": {},
   "source": [
    "Contrary to what was assumed at the time of preregistration, k-values aren't approximated well by the normal distribution. Still, we check Bayes factors according to the originally specified design (`gaussian` family parameter in brms)"
   ]
  },
  {
   "cell_type": "code",
   "execution_count": 7,
   "metadata": {
    "scrolled": false
   },
   "outputs": [
    {
     "data": {
      "image/png": "[encoded data removed]",
      "text/plain": [
       "Plot with title \"Histogram and theoretical densities\""
      ]
     },
     "metadata": {},
     "output_type": "display_data"
    }
   ],
   "source": [
    "fit_w  <- fitdist(data$k, \"norm\")\n",
    "denscomp(fit_w)"
   ]
  },
  {
   "cell_type": "code",
   "execution_count": 28,
   "metadata": {
    "scrolled": true
   },
   "outputs": [
    {
     "name": "stdout",
     "output_type": "stream",
     "text": [
      "[1] \"m_null\"\n"
     ]
    },
    {
     "name": "stderr",
     "output_type": "stream",
     "text": [
      "Compiling the C++ model\n",
      "recompiling to avoid crashing R session\n",
      "Start sampling\n"
     ]
    },
    {
     "name": "stdout",
     "output_type": "stream",
     "text": [
      "[1] \"m_task\"\n"
     ]
    },
    {
     "name": "stderr",
     "output_type": "stream",
     "text": [
      "Compiling the C++ model\n",
      "recompiling to avoid crashing R session\n",
      "Start sampling\n"
     ]
    },
    {
     "name": "stdout",
     "output_type": "stream",
     "text": [
      "[1] \"m_session\"\n"
     ]
    },
    {
     "name": "stderr",
     "output_type": "stream",
     "text": [
      "Compiling the C++ model\n",
      "recompiling to avoid crashing R session\n",
      "Start sampling\n"
     ]
    },
    {
     "name": "stdout",
     "output_type": "stream",
     "text": [
      "[1] \"finished fitting the models\"\n",
      "[1] \"finished bf calculation\"\n"
     ]
    }
   ],
   "source": [
    "prereg_result <- get_bf_k(data, 'k', gaussian(), 0.707, n=10)"
   ]
  },
  {
   "cell_type": "code",
   "execution_count": 30,
   "metadata": {},
   "outputs": [],
   "source": [
    "save_posterior(prereg_result$m_session, \"posterior_k_session_prereg.csv\")\n",
    "save_posterior(prereg_result$m_task, \"posterior_k_task_prereg.csv\")"
   ]
  },
  {
   "cell_type": "code",
   "execution_count": 29,
   "metadata": {},
   "outputs": [
    {
     "name": "stdout",
     "output_type": "stream",
     "text": [
      "[1] \"Bayes factors: \"\n",
      "   bf_task bf_session \n",
      " 0.0889623  0.5239769 \n",
      "[1] \"Credible interval for the task effect (walking relative to mouse): \"\n",
      "      lower       upper \n",
      "-0.05885114  0.02254180 \n",
      "[1] \"Credible interval for the session effect (2nd session relative to 1st): \"\n",
      "       lower        upper \n",
      "-0.078410408 -0.001860316 \n"
     ]
    }
   ],
   "source": [
    "show_result(prereg_result)"
   ]
  },
  {
   "cell_type": "markdown",
   "metadata": {},
   "source": [
    "# Exploratory analysis"
   ]
  },
  {
   "cell_type": "markdown",
   "metadata": {},
   "source": [
    "# Accounting for the observed distribution of $k$"
   ]
  },
  {
   "cell_type": "markdown",
   "metadata": {},
   "source": [
    "After reaching BF>10 in favor of null model over the model with the main effect of task, we terminated data collection, even though BF of the model with the session effect has not yet reached the designated boundary of 10. The reason was that it became evident that there is no difference in discounting behavior between tasks.  Just in case, we checked that this holds if we change the `family` parameter of the brms regression to `weibull`, as Weibull distribution more closely matches the distribution of k-values (we ran the model on zero-peaked quantity `1-k`)"
   ]
  },
  {
   "cell_type": "code",
   "execution_count": 8,
   "metadata": {},
   "outputs": [
    {
     "data": {
      "image/png": "[encoded data removed]",
      "text/plain": [
       "Plot with title \"Histogram and theoretical densities\""
      ]
     },
     "metadata": {},
     "output_type": "display_data"
    }
   ],
   "source": [
    "fit_w  <- fitdist(data$AUC, \"weibull\")\n",
    "denscomp(fit_w)"
   ]
  },
  {
   "cell_type": "code",
   "execution_count": 31,
   "metadata": {
    "scrolled": true
   },
   "outputs": [
    {
     "name": "stdout",
     "output_type": "stream",
     "text": [
      "[1] \"m_null\"\n"
     ]
    },
    {
     "name": "stderr",
     "output_type": "stream",
     "text": [
      "Compiling the C++ model\n",
      "Start sampling\n"
     ]
    },
    {
     "name": "stdout",
     "output_type": "stream",
     "text": [
      "[1] \"m_task\"\n"
     ]
    },
    {
     "name": "stderr",
     "output_type": "stream",
     "text": [
      "Compiling the C++ model\n",
      "Start sampling\n"
     ]
    },
    {
     "name": "stdout",
     "output_type": "stream",
     "text": [
      "[1] \"m_session\"\n"
     ]
    },
    {
     "name": "stderr",
     "output_type": "stream",
     "text": [
      "Compiling the C++ model\n",
      "recompiling to avoid crashing R session\n",
      "Start sampling\n"
     ]
    },
    {
     "name": "stdout",
     "output_type": "stream",
     "text": [
      "[1] \"finished fitting the models\"\n",
      "[1] \"finished bf calculation\"\n"
     ]
    }
   ],
   "source": [
    "AUC_weibull_result <- get_bf_k(data, 'AUC', weibull(), 0.707, n=10)"
   ]
  },
  {
   "cell_type": "code",
   "execution_count": 32,
   "metadata": {},
   "outputs": [
    {
     "name": "stdout",
     "output_type": "stream",
     "text": [
      "[1] \"Bayes factors: \"\n",
      "   bf_task bf_session \n",
      " 0.3312445  1.3627433 \n",
      "[1] \"Credible interval for the task effect (walking relative to mouse): \"\n",
      "     lower      upper \n",
      "-0.1163300  0.2536595 \n",
      "[1] \"Credible interval for the session effect (2nd session relative to 1st): \"\n",
      "      lower       upper \n",
      "-0.02854842  0.34495470 \n"
     ]
    }
   ],
   "source": [
    "show_result(AUC_weibull_result)"
   ]
  },
  {
   "cell_type": "markdown",
   "metadata": {},
   "source": [
    "The Bayes factors in favor of the null model decreased and became less conclusive. We however think that using a modified definition of k-value can help to further clarify whether the task or session afffected k. "
   ]
  },
  {
   "cell_type": "markdown",
   "metadata": {},
   "source": [
    "# Using log-delays in calculating k-values\n",
    "\n",
    "Specifically, as many subjects are close to the head part of the k-value distribution (0.9 to 1.0), we might want to emphasize small differences in discounting curves for these subjects. We can do this by changing the definition of k-value in line with Killeen's additive utility model of delay discounting. Specifically, we use log-scaled delays when calculating k-values (which are recorded to \\_log.csv files during preprocessing). "
   ]
  },
  {
   "cell_type": "code",
   "execution_count": 13,
   "metadata": {},
   "outputs": [
    {
     "name": "stdout",
     "output_type": "stream",
     "text": [
      "[1] 108\n"
     ]
    }
   ],
   "source": [
    "log_delay_data <- get_k_data(data_path, \"k_values_log.csv\")\n",
    "print(nrow(log_delay_data))"
   ]
  },
  {
   "cell_type": "markdown",
   "metadata": {},
   "source": [
    "These k-values are more normally distributed"
   ]
  },
  {
   "cell_type": "code",
   "execution_count": 14,
   "metadata": {
    "scrolled": false
   },
   "outputs": [
    {
     "data": {
      "image/png": "[encoded data removed]",
      "text/plain": [
       "Plot with title \"Histogram and theoretical densities\""
      ]
     },
     "metadata": {},
     "output_type": "display_data"
    }
   ],
   "source": [
    "fit_w  <- fitdist(log_delay_data$k, \"norm\")\n",
    "denscomp(fit_w)"
   ]
  },
  {
   "cell_type": "code",
   "execution_count": 34,
   "metadata": {
    "scrolled": true
   },
   "outputs": [
    {
     "name": "stderr",
     "output_type": "stream",
     "text": [
      "Compiling the C++ model\n",
      "recompiling to avoid crashing R session\n",
      "Start sampling\n",
      "Compiling the C++ model\n",
      "Start sampling\n",
      "Compiling the C++ model\n",
      "recompiling to avoid crashing R session\n",
      "Start sampling\n"
     ]
    }
   ],
   "source": [
    "log_delay_result <- get_bf_k(log_delay_data, 'k', gaussian(), 0.707, n=10)"
   ]
  },
  {
   "cell_type": "code",
   "execution_count": 35,
   "metadata": {},
   "outputs": [],
   "source": [
    "save_posterior(log_delay_result$m_session, \"posterior_k_session_log_delay.csv\")\n",
    "save_posterior(log_delay_result$m_task, \"posterior_k_task_log_delay.csv\")"
   ]
  },
  {
   "cell_type": "code",
   "execution_count": 36,
   "metadata": {
    "scrolled": true
   },
   "outputs": [
    {
     "name": "stdout",
     "output_type": "stream",
     "text": [
      "[1] \"Bayes factors: \"\n",
      "     bf_task   bf_session \n",
      "  0.07994488 532.59584210 \n",
      "[1] \"Credible interval for the task effect (walking relative to mouse): \"\n",
      "      lower       upper \n",
      "-0.04522109  0.01913094 \n",
      "[1] \"Credible interval for the session effect (2nd session relative to 1st): \"\n",
      "      lower       upper \n",
      "-0.09339020 -0.03714162 \n"
     ]
    }
   ],
   "source": [
    "show_result(log_delay_result)"
   ]
  },
  {
   "cell_type": "markdown",
   "metadata": {},
   "source": [
    "# Saving results to a table"
   ]
  },
  {
   "cell_type": "code",
   "execution_count": 24,
   "metadata": {},
   "outputs": [],
   "source": [
    "save_bf_table <- function(prereg_result, AUC_weibull_result, log_delay_result, caption, label, file_name){\n",
    "    hyp_2_format_string <- \"\\\\begin{table}[!htbp]\n",
    "                \\\\centering\n",
    "                \\\\sisetup{round-mode=places, round-precision=1, scientific-notation=false}\n",
    "                \\\\caption{%s}\n",
    "                \\\\label{%s}\n",
    "                \\\\begin{tabular}{@{}lll@{}}\n",
    "                \\\\toprule\n",
    "                dependent variable & $\\\\textrm{M}_{\\\\textrm{task}}$ & $\\\\textrm{M}_{\\\\textrm{session}}$ \\\\\\\\ \\\\midrule\n",
    "                $k \\\\sim ~ \\\\textrm{Gaussian}$ & 1/\\\\num{%g} & 1/\\\\num{%g}  \\\\\\\\\n",
    "                $k \\\\sim ~ \\\\textrm{Weibull}$ & 1/\\\\num{%g} & 1/\\\\num{%g}  \\\\\\\\\n",
    "                $k_{\\\\log} \\\\sim ~ \\\\textrm{Gaussian}$ & 1/\\\\num{%g} & \\\\num{%g}\\\\\\\\ \\\\bottomrule\n",
    "                \\\\end{tabular}\n",
    "                \\\\end{table}\"\n",
    "    \n",
    "    # we invert all BFs < 1 for clarity\n",
    "    output <- sprintf(hyp_2_format_string, caption, label, \n",
    "                      1/prereg_result$bf[1], 1/prereg_result$bf[2], \n",
    "                      1/AUC_weibull_result$bf[1], 1/AUC_weibull_result$bf[2], \n",
    "                      1/log_delay_result$bf[1], log_delay_result$bf[2])\n",
    "\n",
    "    fileConn<-file(file.path(table_path, file_name))\n",
    "    writeLines(output, fileConn)\n",
    "    close(fileConn)    \n",
    "}"
   ]
  },
  {
   "cell_type": "code",
   "execution_count": 20,
   "metadata": {},
   "outputs": [],
   "source": [
    "caption = \"Results of testing Hypothesis 2: Bayes factors of the task-only and session-only models \n",
    "        over the null model produced by the preregistered analysis ($k \\\\sim ~ \\\\textrm{Gaussian}$) and \n",
    "        two exploratory analyses\"\n",
    "label = \"tab:hyp_2_bf\"\n",
    "file_name = \"hyp_2_bf.tex\"\n",
    "\n",
    "save_bf_table(prereg_result, AUC_weibull_result, log_delay_result, caption, label, file_name)"
   ]
  },
  {
   "cell_type": "markdown",
   "metadata": {},
   "source": [
    "# Checking the effect of rscale"
   ]
  },
  {
   "cell_type": "code",
   "execution_count": 11,
   "metadata": {},
   "outputs": [],
   "source": [
    "get_all_results <- function(rscale, n=1){\n",
    "    print(\"prereg\")\n",
    "    prereg_result <- get_bf_k(data, 'k', gaussian(), rscale, n)\n",
    "    print(\"weibull\")\n",
    "    AUC_weibull_result <- get_bf_k(data, 'AUC', weibull(), rscale, n)\n",
    "    print(\"log\")\n",
    "    log_delay_result <- get_bf_k(log_delay_data, 'k', gaussian(), rscale, n)\n",
    "    \n",
    "    result = list(prereg_result=prereg_result,  \n",
    "                  AUC_weibull_result=AUC_weibull_result, \n",
    "                  log_delay_result=log_delay_result)\n",
    "    \n",
    "    return(result)\n",
    "}"
   ]
  },
  {
   "cell_type": "markdown",
   "metadata": {},
   "source": [
    "### Narrower priors (rscale = 0.5)"
   ]
  },
  {
   "cell_type": "code",
   "execution_count": 15,
   "metadata": {
    "scrolled": true
   },
   "outputs": [
    {
     "name": "stdout",
     "output_type": "stream",
     "text": [
      "[1] \"prereg\"\n",
      "[1] \"m_null\"\n"
     ]
    },
    {
     "name": "stderr",
     "output_type": "stream",
     "text": [
      "Compiling the C++ model\n",
      "recompiling to avoid crashing R session\n",
      "Start sampling\n"
     ]
    },
    {
     "name": "stdout",
     "output_type": "stream",
     "text": [
      "[1] \"m_task\"\n"
     ]
    },
    {
     "name": "stderr",
     "output_type": "stream",
     "text": [
      "Compiling the C++ model\n",
      "recompiling to avoid crashing R session\n",
      "Start sampling\n"
     ]
    },
    {
     "name": "stdout",
     "output_type": "stream",
     "text": [
      "[1] \"m_session\"\n"
     ]
    },
    {
     "name": "stderr",
     "output_type": "stream",
     "text": [
      "Compiling the C++ model\n",
      "recompiling to avoid crashing R session\n",
      "Start sampling\n"
     ]
    },
    {
     "name": "stdout",
     "output_type": "stream",
     "text": [
      "[1] \"finished fitting the models\"\n",
      "[1] \"finished bf calculation\"\n",
      "[1] \"weibull\"\n",
      "[1] \"m_null\"\n"
     ]
    },
    {
     "name": "stderr",
     "output_type": "stream",
     "text": [
      "Compiling the C++ model\n",
      "Start sampling\n"
     ]
    },
    {
     "name": "stdout",
     "output_type": "stream",
     "text": [
      "[1] \"m_task\"\n"
     ]
    },
    {
     "name": "stderr",
     "output_type": "stream",
     "text": [
      "Compiling the C++ model\n",
      "Start sampling\n"
     ]
    },
    {
     "name": "stdout",
     "output_type": "stream",
     "text": [
      "[1] \"m_session\"\n"
     ]
    },
    {
     "name": "stderr",
     "output_type": "stream",
     "text": [
      "Compiling the C++ model\n",
      "Start sampling\n"
     ]
    },
    {
     "name": "stdout",
     "output_type": "stream",
     "text": [
      "[1] \"finished fitting the models\"\n",
      "[1] \"finished bf calculation\"\n",
      "[1] \"log\"\n",
      "[1] \"m_null\"\n"
     ]
    },
    {
     "name": "stderr",
     "output_type": "stream",
     "text": [
      "Compiling the C++ model\n",
      "Start sampling\n"
     ]
    },
    {
     "name": "stdout",
     "output_type": "stream",
     "text": [
      "[1] \"m_task\"\n"
     ]
    },
    {
     "name": "stderr",
     "output_type": "stream",
     "text": [
      "Compiling the C++ model\n",
      "Start sampling\n"
     ]
    },
    {
     "name": "stdout",
     "output_type": "stream",
     "text": [
      "[1] \"m_session\"\n"
     ]
    },
    {
     "name": "stderr",
     "output_type": "stream",
     "text": [
      "Compiling the C++ model\n",
      "recompiling to avoid crashing R session\n",
      "Start sampling\n"
     ]
    },
    {
     "name": "stdout",
     "output_type": "stream",
     "text": [
      "[1] \"finished fitting the models\"\n",
      "[1] \"finished bf calculation\"\n"
     ]
    }
   ],
   "source": [
    "narrow_prior_results <- get_all_results(rscale=0.5, n=10)"
   ]
  },
  {
   "cell_type": "code",
   "execution_count": 16,
   "metadata": {},
   "outputs": [
    {
     "name": "stdout",
     "output_type": "stream",
     "text": [
      "[1] \"Bayes factors: \"\n",
      "   bf_task bf_session \n",
      " 0.1169310  0.7083312 \n",
      "[1] \"Credible interval for the task effect (walking relative to mouse): \"\n",
      "      lower       upper \n",
      "-0.05823862  0.02250158 \n",
      "[1] \"Credible interval for the session effect (2nd session relative to 1st): \"\n",
      "       lower        upper \n",
      "-0.078409791 -0.003380165 \n"
     ]
    }
   ],
   "source": [
    "show_result(narrow_prior_results$prereg_result)"
   ]
  },
  {
   "cell_type": "code",
   "execution_count": 17,
   "metadata": {},
   "outputs": [
    {
     "name": "stdout",
     "output_type": "stream",
     "text": [
      "[1] \"Bayes factors: \"\n",
      "   bf_task bf_session \n",
      " 0.4717402  1.4588452 \n",
      "[1] \"Credible interval for the task effect (walking relative to mouse): \"\n",
      "     lower      upper \n",
      "-0.1165975  0.2328673 \n",
      "[1] \"Credible interval for the session effect (2nd session relative to 1st): \"\n",
      "      lower       upper \n",
      "-0.03245998  0.33332732 \n"
     ]
    }
   ],
   "source": [
    "show_result(narrow_prior_results$AUC_weibull_result)"
   ]
  },
  {
   "cell_type": "code",
   "execution_count": 18,
   "metadata": {},
   "outputs": [
    {
     "name": "stdout",
     "output_type": "stream",
     "text": [
      "[1] \"Bayes factors: \"\n",
      "    bf_task  bf_session \n",
      "  0.1237841 733.0711869 \n",
      "[1] \"Credible interval for the task effect (walking relative to mouse): \"\n",
      "      lower       upper \n",
      "-0.04753212  0.01918628 \n",
      "[1] \"Credible interval for the session effect (2nd session relative to 1st): \"\n",
      "      lower       upper \n",
      "-0.09352802 -0.03826833 \n"
     ]
    }
   ],
   "source": [
    "show_result(narrow_prior_results$log_delay_result)"
   ]
  },
  {
   "cell_type": "markdown",
   "metadata": {},
   "source": [
    "### Wider priors"
   ]
  },
  {
   "cell_type": "code",
   "execution_count": 19,
   "metadata": {},
   "outputs": [
    {
     "name": "stdout",
     "output_type": "stream",
     "text": [
      "[1] \"prereg\"\n",
      "[1] \"m_null\"\n"
     ]
    },
    {
     "name": "stderr",
     "output_type": "stream",
     "text": [
      "Compiling the C++ model\n",
      "recompiling to avoid crashing R session\n",
      "Start sampling\n"
     ]
    },
    {
     "name": "stdout",
     "output_type": "stream",
     "text": [
      "[1] \"m_task\"\n"
     ]
    },
    {
     "name": "stderr",
     "output_type": "stream",
     "text": [
      "Compiling the C++ model\n",
      "Start sampling\n"
     ]
    },
    {
     "name": "stdout",
     "output_type": "stream",
     "text": [
      "[1] \"m_session\"\n"
     ]
    },
    {
     "name": "stderr",
     "output_type": "stream",
     "text": [
      "Compiling the C++ model\n",
      "recompiling to avoid crashing R session\n",
      "Start sampling\n"
     ]
    },
    {
     "name": "stdout",
     "output_type": "stream",
     "text": [
      "[1] \"finished fitting the models\"\n",
      "[1] \"finished bf calculation\"\n",
      "[1] \"weibull\"\n",
      "[1] \"m_null\"\n"
     ]
    },
    {
     "name": "stderr",
     "output_type": "stream",
     "text": [
      "Compiling the C++ model\n",
      "Start sampling\n"
     ]
    },
    {
     "name": "stdout",
     "output_type": "stream",
     "text": [
      "[1] \"m_task\"\n"
     ]
    },
    {
     "name": "stderr",
     "output_type": "stream",
     "text": [
      "Compiling the C++ model\n",
      "Start sampling\n"
     ]
    },
    {
     "name": "stdout",
     "output_type": "stream",
     "text": [
      "[1] \"m_session\"\n"
     ]
    },
    {
     "name": "stderr",
     "output_type": "stream",
     "text": [
      "Compiling the C++ model\n",
      "recompiling to avoid crashing R session\n",
      "Start sampling\n"
     ]
    },
    {
     "name": "stdout",
     "output_type": "stream",
     "text": [
      "[1] \"finished fitting the models\"\n",
      "[1] \"finished bf calculation\"\n",
      "[1] \"log\"\n",
      "[1] \"m_null\"\n"
     ]
    },
    {
     "name": "stderr",
     "output_type": "stream",
     "text": [
      "Compiling the C++ model\n",
      "recompiling to avoid crashing R session\n",
      "Start sampling\n"
     ]
    },
    {
     "name": "stdout",
     "output_type": "stream",
     "text": [
      "[1] \"m_task\"\n"
     ]
    },
    {
     "name": "stderr",
     "output_type": "stream",
     "text": [
      "Compiling the C++ model\n",
      "Start sampling\n"
     ]
    },
    {
     "name": "stdout",
     "output_type": "stream",
     "text": [
      "[1] \"m_session\"\n"
     ]
    },
    {
     "name": "stderr",
     "output_type": "stream",
     "text": [
      "Compiling the C++ model\n",
      "recompiling to avoid crashing R session\n",
      "Start sampling\n"
     ]
    },
    {
     "name": "stdout",
     "output_type": "stream",
     "text": [
      "[1] \"finished fitting the models\"\n",
      "[1] \"finished bf calculation\"\n"
     ]
    }
   ],
   "source": [
    "wide_prior_results <- get_all_results(rscale=1.0, n=10)"
   ]
  },
  {
   "cell_type": "code",
   "execution_count": 20,
   "metadata": {},
   "outputs": [
    {
     "name": "stdout",
     "output_type": "stream",
     "text": [
      "[1] \"Bayes factors: \"\n",
      "   bf_task bf_session \n",
      "0.07004704 0.42140798 \n",
      "[1] \"Credible interval for the task effect (walking relative to mouse): \"\n",
      "      lower       upper \n",
      "-0.05739056  0.02430858 \n",
      "[1] \"Credible interval for the session effect (2nd session relative to 1st): \"\n",
      "       lower        upper \n",
      "-0.079767965 -0.001854484 \n"
     ]
    }
   ],
   "source": [
    "show_result(wide_prior_results$prereg_result)"
   ]
  },
  {
   "cell_type": "code",
   "execution_count": 21,
   "metadata": {},
   "outputs": [
    {
     "name": "stdout",
     "output_type": "stream",
     "text": [
      "[1] \"Bayes factors: \"\n",
      "   bf_task bf_session \n",
      " 0.2777884  1.0856647 \n",
      "[1] \"Credible interval for the task effect (walking relative to mouse): \"\n",
      "     lower      upper \n",
      "-0.1224638  0.2742162 \n",
      "[1] \"Credible interval for the session effect (2nd session relative to 1st): \"\n",
      "       lower        upper \n",
      "-0.006962629  0.368400962 \n"
     ]
    }
   ],
   "source": [
    "show_result(wide_prior_results$AUC_weibull_result)"
   ]
  },
  {
   "cell_type": "code",
   "execution_count": 22,
   "metadata": {},
   "outputs": [
    {
     "name": "stdout",
     "output_type": "stream",
     "text": [
      "[1] \"Bayes factors: \"\n",
      "     bf_task   bf_session \n",
      "  0.05838948 363.12468776 \n",
      "[1] \"Credible interval for the task effect (walking relative to mouse): \"\n",
      "      lower       upper \n",
      "-0.04551854  0.01857602 \n",
      "[1] \"Credible interval for the session effect (2nd session relative to 1st): \"\n",
      "      lower       upper \n",
      "-0.09417449 -0.03959762 \n"
     ]
    }
   ],
   "source": [
    "show_result(wide_prior_results$log_delay_result)"
   ]
  },
  {
   "cell_type": "markdown",
   "metadata": {},
   "source": [
    "# Saving sensitivity analysis results to separate tables"
   ]
  },
  {
   "cell_type": "code",
   "execution_count": 25,
   "metadata": {},
   "outputs": [],
   "source": [
    "caption = \"Results of testing Hypothesis 2 with narrow priors (scale parameter of the Cauchy distribution set to 1/2): \n",
    "        Bayes factors of the task-only and session-only models \n",
    "        over the null model produced by the preregistered analysis ($k \\\\sim ~ \\\\textrm{Gaussian}$) and \n",
    "        two exploratory analyses\"\n",
    "label = \"tab:hyp_2_bf_narrow\"\n",
    "file_name = \"hyp_2_bf_narrow.tex\"\n",
    "\n",
    "save_bf_table(narrow_prior_results$prereg_result, \n",
    "              narrow_prior_results$AUC_weibull_result, \n",
    "              narrow_prior_results$log_delay_result, caption, label, file_name)"
   ]
  },
  {
   "cell_type": "code",
   "execution_count": 26,
   "metadata": {},
   "outputs": [],
   "source": [
    "caption = \"Results of testing Hypothesis 2 with wide priors (scale parameter of the Cauchy distribution set to 1): \n",
    "        Bayes factors of the task-only and session-only models \n",
    "        over the null model produced by the preregistered analysis ($k \\\\sim ~ \\\\textrm{Gaussian}$) and \n",
    "        two exploratory analyses\"\n",
    "label = \"tab:hyp_2_bf_wide\"\n",
    "file_name = \"hyp_2_bf_wide.tex\"\n",
    "\n",
    "save_bf_table(wide_prior_results$prereg_result, \n",
    "              wide_prior_results$AUC_weibull_result, \n",
    "              wide_prior_results$log_delay_result, caption, label, file_name)"
   ]
  },
  {
   "cell_type": "markdown",
   "metadata": {},
   "source": [
    "# Saving everything to RData file"
   ]
  },
  {
   "cell_type": "code",
   "execution_count": null,
   "metadata": {},
   "outputs": [],
   "source": [
    "save.image()"
   ]
  }
 ],
 "metadata": {
  "kernelspec": {
   "display_name": "R",
   "language": "R",
   "name": "ir"
  },
  "language_info": {
   "codemirror_mode": "r",
   "file_extension": ".r",
   "mimetype": "text/x-r-source",
   "name": "R",
   "pygments_lexer": "r",
   "version": "3.6.1"
  }
 },
 "nbformat": 4,
 "nbformat_minor": 2
}
