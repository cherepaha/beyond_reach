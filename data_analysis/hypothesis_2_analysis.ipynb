{
 "cells": [
  {
   "cell_type": "code",
   "execution_count": 60,
   "metadata": {},
   "outputs": [
    {
     "name": "stderr",
     "output_type": "stream",
     "text": [
      "Warning message:\n",
      "\"package 'bda' was built under R version 3.5.2\""
     ]
    }
   ],
   "source": [
    "library(ggplot2)\n",
    "library(ggExtra)\n",
    "library(brms)\n",
    "library(reshape2)\n",
    "library(coda)\n",
    "library(tidybayes)\n",
    "library(ggstance)\n",
    "library(viridis)\n",
    "library(latex2exp)\n",
    "library(ggthemes)\n",
    "library(data.table)\n",
    "library(bayesplot)\n",
    "# library(fitdistrplus)\n",
    "library(bda)"
   ]
  },
  {
   "cell_type": "code",
   "execution_count": 28,
   "metadata": {},
   "outputs": [],
   "source": [
    "data_path = \"C:/Users/Arkady/Google Drive/data/beyond_the_reach\""
   ]
  },
  {
   "cell_type": "code",
   "execution_count": 103,
   "metadata": {
    "scrolled": true
   },
   "outputs": [],
   "source": [
    "get_data <- function(data_path, file_name){\n",
    "    data <- read.table(file.path(file_path, file_name), header = TRUE, sep = \"\\t\")\n",
    "    data[, 'subj_id'] <- factor(data[, 'subj_id'])  \n",
    "    data[, 'task'] <- factor(data[, 'task'])  \n",
    "    data[, 'order'] <- factor(data[, 'order']) \n",
    "    data$k_original <- data$k\n",
    "    data$k_reversed <- 1-data$k\n",
    "    return(data)\n",
    "}"
   ]
  },
  {
   "cell_type": "markdown",
   "metadata": {},
   "source": [
    "# Preregistered analysis"
   ]
  },
  {
   "cell_type": "markdown",
   "metadata": {},
   "source": [
    "Contrary to what was assumed at the time of preregistration, k-values aren't approximated well by the normal distribution. Still, we check Bayes factors according to the originally specified design (`gaussian` family parameter in brms)"
   ]
  },
  {
   "cell_type": "code",
   "execution_count": 80,
   "metadata": {},
   "outputs": [
    {
     "data": {
      "image/png": "[encoded data removed]",
      "text/plain": [
       "Plot with title \"Histogram and theoretical densities\""
      ]
     },
     "metadata": {},
     "output_type": "display_data"
    }
   ],
   "source": [
    "fit_w  <- fitdist(data$k_original, \"norm\")\n",
    "denscomp(fit_w)"
   ]
  },
  {
   "cell_type": "code",
   "execution_count": 93,
   "metadata": {},
   "outputs": [],
   "source": [
    "get_bf_k <- function(data, var, family){\n",
    "    # sd(IV) in this case is 0.5, as IV is task (equal number of 0's and 1's)\n",
    "    priors_task <- c(set_prior(sprintf('normal(%f, %f)', mean(data[, var]), sd(data[, var])), class='Intercept'),\n",
    "                    set_prior(sprintf('cauchy(0.0, %f)', 0.707*sd(data[, var])/0.5), class='b'))\n",
    "    \n",
    "    priors_bias <- c(set_prior(sprintf('normal(%f, %f)', mean(data$k), sd(data$k)), class='Intercept'),                    \n",
    "                    set_prior(sprintf('cauchy(0.0, %f)', 0.707*sd(data$k)/sd(data$SS_bias)), class='b'),\n",
    "                    set_prior(sprintf('cauchy(0.0, %f)', 0.707*sd(data$k)/0.5), class='b', coef='taskwalking'))\n",
    "    \n",
    "    formula_null <- as.formula(paste(var, \"~ (1 | subj_id)\"))\n",
    "    formula_task <- as.formula(paste(var, \"~ (1 | subj_id) + task\"))\n",
    "    formula_order <- as.formula(paste(var, \"~ (1 | subj_id) + order\"))\n",
    "    \n",
    "    m_null <- brm(formula_null, data=data, family=family, save_all_pars=TRUE, prior=priors_task[1,],\n",
    "                  refresh=0, control = list(adapt_delta = 0.9, max_treedepth=15))\n",
    "    m_task <- brm(formula_task, data=data, family=family, save_all_pars=TRUE, prior=priors_task, \n",
    "                  refresh=0, control = list(adapt_delta = 0.9, max_treedepth=15))    \n",
    "    m_order <- brm(formula_order, data=data, family=family, save_all_pars=TRUE, prior=priors_task, \n",
    "                  refresh=0, control = list(adapt_delta = 0.9, max_treedepth=15))\n",
    "#     m_inter <- brm(k ~ (1 | subj_id) + task*order, data=data, family=gaussian(), save_all_pars=TRUE, prior=priors_task, \n",
    "#                   refresh=0, control = list(adapt_delta = 0.9, max_treedepth=15))\n",
    "#     m_bias <- brm(k ~ (1 | subj_id) + task:SS_bias, data=data, family=gaussian(), save_all_pars=TRUE, \n",
    "#                   prior=priors_bias, refresh=0, control = list(adapt_delta = 0.9, max_treedepth=15))\n",
    "    \n",
    "    bf_task <- bayes_factor(x1=m_task, x2=m_null)$bf\n",
    "    bf_order <- bayes_factor(x1=m_order, x2=m_null)$bf\n",
    "#     bf_inter <- bayes_factor(x1=m_inter, x2=m_null)$bf\n",
    "#     bf_bias <- bayes_factor(x1=m_bias, x2=m_null)$bf\n",
    "    \n",
    "    names(bf_task) <- 'bf_task'\n",
    "    names(bf_order) <- 'bf_order'\n",
    "#     names(bf_inter) <- 'bf_inter'\n",
    "#     names(bf_bias) <- 'bf_bias'\n",
    "        \n",
    "    result = list(bf=t(c(\n",
    "                         bf_task, \n",
    "                         bf_order\n",
    "#                         , bf_inter \n",
    "#                          bf_bias\n",
    "                         )), \n",
    "                  m_null=m_null, \n",
    "                  m_task=m_task, \n",
    "                  m_order=m_order\n",
    "#                   , m_inter=m_inter\n",
    "#                   m_bias=m_bias\n",
    "                 )\n",
    "    \n",
    "    return(result)\n",
    "}\n",
    "\n",
    "show_result <- function(result) {\n",
    "    print(\"Bayes factors: \")\n",
    "    print(result$bf)\n",
    "    hpd_task<-HPDinterval(as.mcmc(result$m_task, combine_chains = TRUE))\n",
    "    hpd_order<-HPDinterval(as.mcmc(result$m_order, combine_chains = TRUE))\n",
    "    print(\"Credible interval for the task effect (walking relative to mouse): \")\n",
    "    print(hpd_task['b_taskwalking',])\n",
    "    print(\"Credible interval for the order effect (2nd task relative to 1st): \")\n",
    "    print(hpd_order['b_order2',])\n",
    "#     mcmc_areas_ridges(as.matrix(as.mcmc(result$m_task, combine_chains = TRUE)), regex_pars = \"b_task\", prob=0.95)\n",
    "}"
   ]
  },
  {
   "cell_type": "code",
   "execution_count": 111,
   "metadata": {},
   "outputs": [
    {
     "name": "stdout",
     "output_type": "stream",
     "text": [
      "[1] 108\n"
     ]
    }
   ],
   "source": [
    "data <- get_data(data_path, \"k_values_54.csv\")\n",
    "print(nrow(data))"
   ]
  },
  {
   "cell_type": "code",
   "execution_count": 94,
   "metadata": {
    "scrolled": true
   },
   "outputs": [
    {
     "name": "stderr",
     "output_type": "stream",
     "text": [
      "Compiling the C++ model\n",
      "Start sampling\n"
     ]
    },
    {
     "name": "stdout",
     "output_type": "stream",
     "text": [
      "\n",
      "Gradient evaluation took 0 seconds\n",
      "1000 transitions using 10 leapfrog steps per transition would take 0 seconds.\n",
      "Adjust your expectations accordingly!\n",
      "\n",
      "\n",
      "\n",
      " Elapsed Time: 0.329 seconds (Warm-up)\n",
      "               0.14 seconds (Sampling)\n",
      "               0.469 seconds (Total)\n",
      "\n",
      "\n",
      "Gradient evaluation took 0 seconds\n",
      "1000 transitions using 10 leapfrog steps per transition would take 0 seconds.\n",
      "Adjust your expectations accordingly!\n",
      "\n",
      "\n",
      "\n",
      " Elapsed Time: 0.39 seconds (Warm-up)\n",
      "               0.141 seconds (Sampling)\n",
      "               0.531 seconds (Total)\n",
      "\n",
      "\n",
      "Gradient evaluation took 0 seconds\n",
      "1000 transitions using 10 leapfrog steps per transition would take 0 seconds.\n",
      "Adjust your expectations accordingly!\n",
      "\n",
      "\n",
      "\n",
      " Elapsed Time: 0.359 seconds (Warm-up)\n",
      "               0.141 seconds (Sampling)\n",
      "               0.5 seconds (Total)\n",
      "\n",
      "\n",
      "Gradient evaluation took 0 seconds\n",
      "1000 transitions using 10 leapfrog steps per transition would take 0 seconds.\n",
      "Adjust your expectations accordingly!\n",
      "\n",
      "\n",
      "\n",
      " Elapsed Time: 0.343 seconds (Warm-up)\n",
      "               0.143 seconds (Sampling)\n",
      "               0.486 seconds (Total)\n",
      "\n"
     ]
    },
    {
     "name": "stderr",
     "output_type": "stream",
     "text": [
      "Compiling the C++ model\n",
      "Start sampling\n"
     ]
    },
    {
     "name": "stdout",
     "output_type": "stream",
     "text": [
      "\n",
      "Gradient evaluation took 0 seconds\n",
      "1000 transitions using 10 leapfrog steps per transition would take 0 seconds.\n",
      "Adjust your expectations accordingly!\n",
      "\n",
      "\n",
      "\n",
      " Elapsed Time: 0.484 seconds (Warm-up)\n",
      "               0.219 seconds (Sampling)\n",
      "               0.703 seconds (Total)\n",
      "\n",
      "\n",
      "Gradient evaluation took 0 seconds\n",
      "1000 transitions using 10 leapfrog steps per transition would take 0 seconds.\n",
      "Adjust your expectations accordingly!\n",
      "\n",
      "\n",
      "\n",
      " Elapsed Time: 0.438 seconds (Warm-up)\n",
      "               0.218 seconds (Sampling)\n",
      "               0.656 seconds (Total)\n",
      "\n",
      "\n",
      "Gradient evaluation took 0 seconds\n",
      "1000 transitions using 10 leapfrog steps per transition would take 0 seconds.\n",
      "Adjust your expectations accordingly!\n",
      "\n",
      "\n",
      "\n",
      " Elapsed Time: 0.453 seconds (Warm-up)\n",
      "               0.188 seconds (Sampling)\n",
      "               0.641 seconds (Total)\n",
      "\n",
      "\n",
      "Gradient evaluation took 0 seconds\n",
      "1000 transitions using 10 leapfrog steps per transition would take 0 seconds.\n",
      "Adjust your expectations accordingly!\n",
      "\n",
      "\n",
      "\n",
      " Elapsed Time: 0.468 seconds (Warm-up)\n",
      "               0.188 seconds (Sampling)\n",
      "               0.656 seconds (Total)\n",
      "\n"
     ]
    },
    {
     "name": "stderr",
     "output_type": "stream",
     "text": [
      "Compiling the C++ model\n",
      "Start sampling\n"
     ]
    },
    {
     "name": "stdout",
     "output_type": "stream",
     "text": [
      "\n",
      "Gradient evaluation took 0 seconds\n",
      "1000 transitions using 10 leapfrog steps per transition would take 0 seconds.\n",
      "Adjust your expectations accordingly!\n",
      "\n",
      "\n",
      "\n",
      " Elapsed Time: 0.439 seconds (Warm-up)\n",
      "               0.188 seconds (Sampling)\n",
      "               0.627 seconds (Total)\n",
      "\n",
      "\n",
      "Gradient evaluation took 0 seconds\n",
      "1000 transitions using 10 leapfrog steps per transition would take 0 seconds.\n",
      "Adjust your expectations accordingly!\n",
      "\n",
      "\n",
      "\n",
      " Elapsed Time: 0.422 seconds (Warm-up)\n",
      "               0.203 seconds (Sampling)\n",
      "               0.625 seconds (Total)\n",
      "\n",
      "\n",
      "Gradient evaluation took 0 seconds\n",
      "1000 transitions using 10 leapfrog steps per transition would take 0 seconds.\n",
      "Adjust your expectations accordingly!\n",
      "\n",
      "\n",
      "\n",
      " Elapsed Time: 0.422 seconds (Warm-up)\n",
      "               0.187 seconds (Sampling)\n",
      "               0.609 seconds (Total)\n",
      "\n",
      "\n",
      "Gradient evaluation took 0 seconds\n",
      "1000 transitions using 10 leapfrog steps per transition would take 0 seconds.\n",
      "Adjust your expectations accordingly!\n",
      "\n",
      "\n",
      "\n",
      " Elapsed Time: 0.453 seconds (Warm-up)\n",
      "               0.203 seconds (Sampling)\n",
      "               0.656 seconds (Total)\n",
      "\n",
      "Iteration: 1\n",
      "Iteration: 2\n",
      "Iteration: 3\n",
      "Iteration: 4\n",
      "Iteration: 5\n",
      "Iteration: 1\n",
      "Iteration: 2\n",
      "Iteration: 3\n",
      "Iteration: 4\n",
      "Iteration: 5\n",
      "Iteration: 6\n",
      "Iteration: 7\n",
      "Iteration: 1\n",
      "Iteration: 2\n",
      "Iteration: 3\n",
      "Iteration: 4\n",
      "Iteration: 1\n",
      "Iteration: 2\n",
      "Iteration: 3\n",
      "Iteration: 4\n",
      "Iteration: 5\n",
      "Iteration: 6\n",
      "Iteration: 7\n"
     ]
    }
   ],
   "source": [
    "result <- get_bf_k(data, 'k_original', gaussian())"
   ]
  },
  {
   "cell_type": "code",
   "execution_count": 96,
   "metadata": {},
   "outputs": [
    {
     "name": "stdout",
     "output_type": "stream",
     "text": [
      "[1] \"Bayes factors: \"\n",
      "       bf_task  bf_order\n",
      "[1,] 0.0744733 0.2870342\n",
      "[1] \"Credible interval for the task effect (walking relative to mouse): \"\n",
      "      lower       upper \n",
      "-0.02683126  0.05117544 \n",
      "[1] \"Credible interval for the order effect (2nd task relative to 1st): \"\n",
      "       lower        upper \n",
      "-0.004769027  0.069056773 \n"
     ]
    }
   ],
   "source": [
    "show_result(result)"
   ]
  },
  {
   "cell_type": "markdown",
   "metadata": {},
   "source": [
    "# Exploratory analysis"
   ]
  },
  {
   "cell_type": "markdown",
   "metadata": {},
   "source": [
    "After reaching BF>10 in favor of null model over the model with the main effect of task, we terminated data collection, even though BF of the model with the order effect has not yet reached the designated boundary of 10. The  as it became evident that there is no difference in discounting behavior between tasks.  Just in case, we checked that this holds if we change the `family` parameter of the brms regression to `weibull`, as Weibull distribution more closely matches the distribution of k-values (we ran the model on zero-peaked quantity `1-k`)"
   ]
  },
  {
   "cell_type": "code",
   "execution_count": 113,
   "metadata": {},
   "outputs": [
    {
     "data": {
      "image/png": "[encoded data removed]",
      "text/plain": [
       "Plot with title \"Histogram and theoretical densities\""
      ]
     },
     "metadata": {},
     "output_type": "display_data"
    }
   ],
   "source": [
    "fit_w  <- fitdist(data$k_reversed, \"weibull\")\n",
    "denscomp(fit_w)"
   ]
  },
  {
   "cell_type": "code",
   "execution_count": 105,
   "metadata": {},
   "outputs": [
    {
     "name": "stderr",
     "output_type": "stream",
     "text": [
      "Compiling the C++ model\n",
      "Start sampling\n"
     ]
    },
    {
     "name": "stdout",
     "output_type": "stream",
     "text": [
      "\n",
      "Gradient evaluation took 0 seconds\n",
      "1000 transitions using 10 leapfrog steps per transition would take 0 seconds.\n",
      "Adjust your expectations accordingly!\n",
      "\n",
      "\n",
      "\n",
      " Elapsed Time: 5.194 seconds (Warm-up)\n",
      "               4.835 seconds (Sampling)\n",
      "               10.029 seconds (Total)\n",
      "\n",
      "\n",
      "Gradient evaluation took 0 seconds\n",
      "1000 transitions using 10 leapfrog steps per transition would take 0 seconds.\n",
      "Adjust your expectations accordingly!\n",
      "\n",
      "\n",
      "\n",
      " Elapsed Time: 5.854 seconds (Warm-up)\n",
      "               6.388 seconds (Sampling)\n",
      "               12.242 seconds (Total)\n",
      "\n",
      "\n",
      "Gradient evaluation took 0 seconds\n",
      "1000 transitions using 10 leapfrog steps per transition would take 0 seconds.\n",
      "Adjust your expectations accordingly!\n",
      "\n",
      "\n",
      "\n",
      " Elapsed Time: 5.755 seconds (Warm-up)\n",
      "               5.127 seconds (Sampling)\n",
      "               10.882 seconds (Total)\n",
      "\n",
      "\n",
      "Gradient evaluation took 0 seconds\n",
      "1000 transitions using 10 leapfrog steps per transition would take 0 seconds.\n",
      "Adjust your expectations accordingly!\n",
      "\n",
      "\n",
      "\n",
      " Elapsed Time: 5.043 seconds (Warm-up)\n",
      "               5.012 seconds (Sampling)\n",
      "               10.055 seconds (Total)\n",
      "\n"
     ]
    },
    {
     "name": "stderr",
     "output_type": "stream",
     "text": [
      "Warning message:\n",
      "\"There were 2 chains where the estimated Bayesian Fraction of Missing Information was low. See\n",
      "http://mc-stan.org/misc/warnings.html#bfmi-low\"Warning message:\n",
      "\"Examine the pairs() plot to diagnose sampling problems\n",
      "\"Compiling the C++ model\n",
      "Start sampling\n"
     ]
    },
    {
     "name": "stdout",
     "output_type": "stream",
     "text": [
      "\n",
      "Gradient evaluation took 0 seconds\n",
      "1000 transitions using 10 leapfrog steps per transition would take 0 seconds.\n",
      "Adjust your expectations accordingly!\n",
      "\n",
      "\n",
      "\n",
      " Elapsed Time: 6.911 seconds (Warm-up)\n",
      "               4.313 seconds (Sampling)\n",
      "               11.224 seconds (Total)\n",
      "\n",
      "\n",
      "Gradient evaluation took 0 seconds\n",
      "1000 transitions using 10 leapfrog steps per transition would take 0 seconds.\n",
      "Adjust your expectations accordingly!\n",
      "\n",
      "\n",
      "\n",
      " Elapsed Time: 7.628 seconds (Warm-up)\n",
      "               5.848 seconds (Sampling)\n",
      "               13.476 seconds (Total)\n",
      "\n",
      "\n",
      "Gradient evaluation took 0 seconds\n",
      "1000 transitions using 10 leapfrog steps per transition would take 0 seconds.\n",
      "Adjust your expectations accordingly!\n",
      "\n",
      "\n",
      "\n",
      " Elapsed Time: 6.874 seconds (Warm-up)\n",
      "               6.494 seconds (Sampling)\n",
      "               13.368 seconds (Total)\n",
      "\n",
      "\n",
      "Gradient evaluation took 0 seconds\n",
      "1000 transitions using 10 leapfrog steps per transition would take 0 seconds.\n",
      "Adjust your expectations accordingly!\n",
      "\n",
      "\n",
      "\n",
      " Elapsed Time: 6.626 seconds (Warm-up)\n",
      "               5.082 seconds (Sampling)\n",
      "               11.708 seconds (Total)\n",
      "\n"
     ]
    },
    {
     "name": "stderr",
     "output_type": "stream",
     "text": [
      "Warning message:\n",
      "\"There were 1 chains where the estimated Bayesian Fraction of Missing Information was low. See\n",
      "http://mc-stan.org/misc/warnings.html#bfmi-low\"Warning message:\n",
      "\"Examine the pairs() plot to diagnose sampling problems\n",
      "\"Compiling the C++ model\n",
      "Start sampling\n"
     ]
    },
    {
     "name": "stdout",
     "output_type": "stream",
     "text": [
      "\n",
      "Gradient evaluation took 0 seconds\n",
      "1000 transitions using 10 leapfrog steps per transition would take 0 seconds.\n",
      "Adjust your expectations accordingly!\n",
      "\n",
      "\n",
      "\n",
      " Elapsed Time: 7.294 seconds (Warm-up)\n",
      "               5.604 seconds (Sampling)\n",
      "               12.898 seconds (Total)\n",
      "\n",
      "\n",
      "Gradient evaluation took 0 seconds\n",
      "1000 transitions using 10 leapfrog steps per transition would take 0 seconds.\n",
      "Adjust your expectations accordingly!\n",
      "\n",
      "\n",
      "\n",
      " Elapsed Time: 6.743 seconds (Warm-up)\n",
      "               5.417 seconds (Sampling)\n",
      "               12.16 seconds (Total)\n",
      "\n",
      "\n",
      "Gradient evaluation took 0 seconds\n",
      "1000 transitions using 10 leapfrog steps per transition would take 0 seconds.\n",
      "Adjust your expectations accordingly!\n",
      "\n",
      "\n",
      "\n",
      " Elapsed Time: 7.003 seconds (Warm-up)\n",
      "               7.439 seconds (Sampling)\n",
      "               14.442 seconds (Total)\n",
      "\n",
      "\n",
      "Gradient evaluation took 0 seconds\n",
      "1000 transitions using 10 leapfrog steps per transition would take 0 seconds.\n",
      "Adjust your expectations accordingly!\n",
      "\n",
      "\n",
      "\n",
      " Elapsed Time: 6.643 seconds (Warm-up)\n",
      "               5.181 seconds (Sampling)\n",
      "               11.824 seconds (Total)\n",
      "\n"
     ]
    },
    {
     "name": "stderr",
     "output_type": "stream",
     "text": [
      "Warning message:\n",
      "\"There were 1 chains where the estimated Bayesian Fraction of Missing Information was low. See\n",
      "http://mc-stan.org/misc/warnings.html#bfmi-low\"Warning message:\n",
      "\"Examine the pairs() plot to diagnose sampling problems\n",
      "\""
     ]
    },
    {
     "name": "stdout",
     "output_type": "stream",
     "text": [
      "Iteration: 1\n",
      "Iteration: 2\n",
      "Iteration: 3\n",
      "Iteration: 4\n",
      "Iteration: 5\n",
      "Iteration: 6\n",
      "Iteration: 1\n",
      "Iteration: 2\n",
      "Iteration: 3\n",
      "Iteration: 4\n",
      "Iteration: 5\n",
      "Iteration: 6\n",
      "Iteration: 7\n",
      "Iteration: 1\n",
      "Iteration: 2\n",
      "Iteration: 3\n",
      "Iteration: 4\n",
      "Iteration: 5\n",
      "Iteration: 6\n",
      "Iteration: 1\n",
      "Iteration: 2\n",
      "Iteration: 3\n",
      "Iteration: 4\n",
      "Iteration: 5\n",
      "Iteration: 6\n",
      "Iteration: 7\n"
     ]
    }
   ],
   "source": [
    "result <- get_bf_k(data, 'k_reversed', weibull())"
   ]
  },
  {
   "cell_type": "code",
   "execution_count": 107,
   "metadata": {},
   "outputs": [
    {
     "name": "stdout",
     "output_type": "stream",
     "text": [
      "[1] \"Bayes factors: \"\n",
      "       bf_task  bf_order\n",
      "[1,] 0.3973595 0.7951576\n",
      "[1] \"Credible interval for the task effect (walking relative to mouse): \"\n",
      "     lower      upper \n",
      "-0.1135569  0.2367126 \n",
      "[1] \"Credible interval for the order effect (2nd task relative to 1st): \"\n",
      "      lower       upper \n",
      "-0.05444213  0.29836770 \n"
     ]
    }
   ],
   "source": [
    "show_result(result)"
   ]
  },
  {
   "cell_type": "markdown",
   "metadata": {},
   "source": [
    "The Bayes factors in favor of the null model decreased and became less conclusive. We however think that using a modified definition of k-value can help to further clarify whether the task or order afffected k. \n",
    "\n",
    "Specifically, as many subjects are close to the head part of the k-value distribution (0.9 to 1.0), we might want to emphasize small differences in discounting curves for these subjects. We can do this by changing the definition of k-value in line with Killeen's additive utility model of delay discounting. Specifically, we use log-scaled delays when calculating k-values (which are recorded to \\_log.csv files during preprocessing). "
   ]
  },
  {
   "cell_type": "code",
   "execution_count": 115,
   "metadata": {},
   "outputs": [
    {
     "name": "stdout",
     "output_type": "stream",
     "text": [
      "[1] 108\n"
     ]
    }
   ],
   "source": [
    "data <- get_data(data_path, \"k_values_54_log.csv\")\n",
    "print(nrow(data))"
   ]
  },
  {
   "cell_type": "markdown",
   "metadata": {},
   "source": [
    "These k-values are more normally distributed"
   ]
  },
  {
   "cell_type": "code",
   "execution_count": 116,
   "metadata": {},
   "outputs": [
    {
     "data": {
      "image/png": "[encoded data removed]",
      "text/plain": [
       "Plot with title \"Histogram and theoretical densities\""
      ]
     },
     "metadata": {},
     "output_type": "display_data"
    }
   ],
   "source": [
    "fit_w  <- fitdist(data$k_original, \"norm\")\n",
    "denscomp(fit_w)"
   ]
  },
  {
   "cell_type": "code",
   "execution_count": 117,
   "metadata": {},
   "outputs": [
    {
     "name": "stderr",
     "output_type": "stream",
     "text": [
      "Compiling the C++ model\n",
      "Start sampling\n"
     ]
    },
    {
     "name": "stdout",
     "output_type": "stream",
     "text": [
      "\n",
      "Gradient evaluation took 0 seconds\n",
      "1000 transitions using 10 leapfrog steps per transition would take 0 seconds.\n",
      "Adjust your expectations accordingly!\n",
      "\n",
      "\n",
      "\n",
      " Elapsed Time: 1.103 seconds (Warm-up)\n",
      "               0.344 seconds (Sampling)\n",
      "               1.447 seconds (Total)\n",
      "\n",
      "\n",
      "Gradient evaluation took 0 seconds\n",
      "1000 transitions using 10 leapfrog steps per transition would take 0 seconds.\n",
      "Adjust your expectations accordingly!\n",
      "\n",
      "\n",
      "\n",
      " Elapsed Time: 0.845 seconds (Warm-up)\n",
      "               0.443 seconds (Sampling)\n",
      "               1.288 seconds (Total)\n",
      "\n",
      "\n",
      "Gradient evaluation took 0.004 seconds\n",
      "1000 transitions using 10 leapfrog steps per transition would take 40 seconds.\n",
      "Adjust your expectations accordingly!\n",
      "\n",
      "\n",
      "\n",
      " Elapsed Time: 0.821 seconds (Warm-up)\n",
      "               0.385 seconds (Sampling)\n",
      "               1.206 seconds (Total)\n",
      "\n",
      "\n",
      "Gradient evaluation took 0 seconds\n",
      "1000 transitions using 10 leapfrog steps per transition would take 0 seconds.\n",
      "Adjust your expectations accordingly!\n",
      "\n",
      "\n",
      "\n",
      " Elapsed Time: 0.841 seconds (Warm-up)\n",
      "               0.486 seconds (Sampling)\n",
      "               1.327 seconds (Total)\n",
      "\n"
     ]
    },
    {
     "name": "stderr",
     "output_type": "stream",
     "text": [
      "Compiling the C++ model\n",
      "Start sampling\n"
     ]
    },
    {
     "name": "stdout",
     "output_type": "stream",
     "text": [
      "\n",
      "Gradient evaluation took 0 seconds\n",
      "1000 transitions using 10 leapfrog steps per transition would take 0 seconds.\n",
      "Adjust your expectations accordingly!\n",
      "\n",
      "\n",
      "\n",
      " Elapsed Time: 1.23 seconds (Warm-up)\n",
      "               0.467 seconds (Sampling)\n",
      "               1.697 seconds (Total)\n",
      "\n",
      "\n",
      "Gradient evaluation took 0 seconds\n",
      "1000 transitions using 10 leapfrog steps per transition would take 0 seconds.\n",
      "Adjust your expectations accordingly!\n",
      "\n",
      "\n",
      "\n",
      " Elapsed Time: 1.083 seconds (Warm-up)\n",
      "               0.468 seconds (Sampling)\n",
      "               1.551 seconds (Total)\n",
      "\n",
      "\n",
      "Gradient evaluation took 0 seconds\n",
      "1000 transitions using 10 leapfrog steps per transition would take 0 seconds.\n",
      "Adjust your expectations accordingly!\n",
      "\n",
      "\n",
      "\n",
      " Elapsed Time: 1.279 seconds (Warm-up)\n",
      "               0.565 seconds (Sampling)\n",
      "               1.844 seconds (Total)\n",
      "\n",
      "\n",
      "Gradient evaluation took 0 seconds\n",
      "1000 transitions using 10 leapfrog steps per transition would take 0 seconds.\n",
      "Adjust your expectations accordingly!\n",
      "\n",
      "\n",
      "\n",
      " Elapsed Time: 1.48 seconds (Warm-up)\n",
      "               0.544 seconds (Sampling)\n",
      "               2.024 seconds (Total)\n",
      "\n"
     ]
    },
    {
     "name": "stderr",
     "output_type": "stream",
     "text": [
      "Compiling the C++ model\n",
      "Start sampling\n"
     ]
    },
    {
     "name": "stdout",
     "output_type": "stream",
     "text": [
      "\n",
      "Gradient evaluation took 0 seconds\n",
      "1000 transitions using 10 leapfrog steps per transition would take 0 seconds.\n",
      "Adjust your expectations accordingly!\n",
      "\n",
      "\n",
      "\n",
      " Elapsed Time: 1.02 seconds (Warm-up)\n",
      "               0.481 seconds (Sampling)\n",
      "               1.501 seconds (Total)\n",
      "\n",
      "\n",
      "Gradient evaluation took 0 seconds\n",
      "1000 transitions using 10 leapfrog steps per transition would take 0 seconds.\n",
      "Adjust your expectations accordingly!\n",
      "\n",
      "\n",
      "\n",
      " Elapsed Time: 1.417 seconds (Warm-up)\n",
      "               0.499 seconds (Sampling)\n",
      "               1.916 seconds (Total)\n",
      "\n",
      "\n",
      "Gradient evaluation took 0 seconds\n",
      "1000 transitions using 10 leapfrog steps per transition would take 0 seconds.\n",
      "Adjust your expectations accordingly!\n",
      "\n",
      "\n",
      "\n",
      " Elapsed Time: 1.731 seconds (Warm-up)\n",
      "               0.529 seconds (Sampling)\n",
      "               2.26 seconds (Total)\n",
      "\n",
      "\n",
      "Gradient evaluation took 0 seconds\n",
      "1000 transitions using 10 leapfrog steps per transition would take 0 seconds.\n",
      "Adjust your expectations accordingly!\n",
      "\n",
      "\n",
      "\n",
      " Elapsed Time: 1.485 seconds (Warm-up)\n",
      "               0.69 seconds (Sampling)\n",
      "               2.175 seconds (Total)\n",
      "\n",
      "Iteration: 1\n",
      "Iteration: 2\n",
      "Iteration: 3\n",
      "Iteration: 4\n",
      "Iteration: 5\n",
      "Iteration: 6\n",
      "Iteration: 7\n",
      "Iteration: 8\n",
      "Iteration: 1\n",
      "Iteration: 2\n",
      "Iteration: 3\n",
      "Iteration: 4\n",
      "Iteration: 5\n",
      "Iteration: 6\n",
      "Iteration: 7\n",
      "Iteration: 1\n",
      "Iteration: 2\n",
      "Iteration: 3\n",
      "Iteration: 4\n",
      "Iteration: 5\n",
      "Iteration: 6\n",
      "Iteration: 7\n",
      "Iteration: 1\n",
      "Iteration: 2\n",
      "Iteration: 3\n",
      "Iteration: 4\n",
      "Iteration: 5\n",
      "Iteration: 6\n",
      "Iteration: 7\n"
     ]
    }
   ],
   "source": [
    "result <- get_bf_k(data, 'k_original', gaussian())"
   ]
  },
  {
   "cell_type": "code",
   "execution_count": 119,
   "metadata": {
    "scrolled": true
   },
   "outputs": [
    {
     "name": "stdout",
     "output_type": "stream",
     "text": [
      "[1] \"Bayes factors: \"\n",
      "        bf_task bf_order\n",
      "[1,] 0.07454048 266.5397\n",
      "[1] \"Credible interval for the task effect (walking relative to mouse): \"\n",
      "      lower       upper \n",
      "-0.04428725  0.02074099 \n",
      "[1] \"Credible interval for the order effect (2nd task relative to 1st): \"\n",
      "      lower       upper \n",
      "-0.09071445 -0.03377009 \n"
     ]
    }
   ],
   "source": [
    "show_result(result)"
   ]
  },
  {
   "cell_type": "markdown",
   "metadata": {},
   "source": [
    "TODO\n",
    "\n",
    "Will the results change if we \n",
    "\n",
    "* do not discard subjects based on invalid trajectories (k_values_60/60_log - two conditions)\n",
    "* discard subjects with extreme discounting in either task (k_values_55/49/_log - 4 conditions)\n",
    "* account for some individuals' bias towards the LL choice"
   ]
  }
 ],
 "metadata": {
  "kernelspec": {
   "display_name": "R",
   "language": "R",
   "name": "ir"
  },
  "language_info": {
   "codemirror_mode": "r",
   "file_extension": ".r",
   "mimetype": "text/x-r-source",
   "name": "R",
   "pygments_lexer": "r",
   "version": "3.5.1"
  }
 },
 "nbformat": 4,
 "nbformat_minor": 2
}
